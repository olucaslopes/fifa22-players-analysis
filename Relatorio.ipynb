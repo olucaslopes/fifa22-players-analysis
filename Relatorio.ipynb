{
 "cells": [
  {
   "cell_type": "markdown",
   "id": "810d5664",
   "metadata": {},
   "source": [
    "<a class=\"anchor\" id=\"section-0\"></a>\n",
    "<img src=\"https://i.imgur.com/lTCPbz0.jpeg\" alt='logo puc-sp' width='30%' align='left'>\n",
    "\n",
    "### Pontifícia Universidade Católica de São Paulo (PUC-SP)\n",
    "\n",
    "<h1 style=font-size:30px>Machine Learning: Desvendando o Fifa 22</h1>\n",
    "\n",
    "\n",
    "### Bacharelado em Ciência de Dados e Inteligência Artificial\n",
    "\n",
    "#### Turma: CDIA21-MA\n",
    "\n",
    "**Professor:** Jefferson de Oliveira Silva\n",
    "\n",
    "### Integrantes\n",
    "\n",
    "<table align=\"left\" style=font-size:15px>\n",
    "<thead>\n",
    "  <tr>\n",
    "    <th style=\"text-align:left;\">Nome</th>\n",
    "    <th style=\"text-align:left;\">RA</th>\n",
    "    <th></th>\n",
    "  </tr>\n",
    "</thead>\n",
    "<tbody>\n",
    "  <tr>\n",
    "    <td style=\"text-align:left;\">Gustavo Schlieper Tessitore</td>\n",
    "    <td>RA00297844</td>\n",
    "    <td></td>\n",
    "  </tr>\n",
    "  <tr>\n",
    "    <td style=\"text-align:left;\">Isaac Higuchi</td>\n",
    "    <td>RA00306191</td>\n",
    "    <td></td>\n",
    "  </tr>\n",
    "  <tr>\n",
    "    <td style=\"text-align:left;\">João Pedro Taves Araujo</td>\n",
    "    <td>RA00297753</td>\n",
    "    <td></td>\n",
    "  </tr>\n",
    "  <tr>\n",
    "    <td style=\"text-align:left;\">Lucas Lopes Amorim</td>\n",
    "    <td>RA00303799</td>\n",
    "    <td></td>\n",
    "  </tr>\n",
    "</tbody>\n",
    "</table>"
   ]
  },
  {
   "cell_type": "markdown",
   "id": "4f603b35",
   "metadata": {},
   "source": [
    "<h3><b>Estrutura:</b></h3>\n",
    "\n",
    "<ol>\n",
    "  <li><a href=\"#section-1\">Contextualização</a></li>\n",
    "  <li><a href=\"#section-2\">Problema de Negócio</a></li>\n",
    "  <li><a href=\"#section-3\">Método</a>\n",
    "      <ol style=\"list-style: none; padding-left: 10px\">\n",
    "          <li>3.1. <a href=\"#section-3-1\">Entendimento dos Dados</a></li>\n",
    "          <li>3.2. <a href=\"#section-3-2\">Preparação dos Dados</a></li>\n",
    "          <li>3.3. <a href=\"#section-3-3\">Modelagem</a>\n",
    "              <ol style=\"list-style: none; padding-left: 20px\">\n",
    "                  <li>3.3.1 <a href=\"#section-3-3-1\">Modelo #1: Regressão Linear</a></li>\n",
    "                  <li>3.3.2 <a href=\"#section-3-3-2\">Modelo #2: Floresta Aleatória</a></li>\n",
    "                  <li>3.3.3 <a href=\"#section-3-3-3\">Modelo #3: Regressão Logística</a></li>\n",
    "                  <li>3.3.4 <a href=\"#section-3-3-4\">Modelo #4: Máquina de Vetores de Suporte</a></li>\n",
    "              </ol>\n",
    "          </li>\n",
    "          <li>3.4. <a href=\"#section-3-4\">Avaliação dos Modelos</a>\n",
    "              <ol style=\"list-style: none; padding-left: 20px\">\n",
    "                  <li>3.4.1 <a href=\"#section-3-4-1\">Modelo #1: Regressão Linear</a></li>\n",
    "                  <li>3.4.2 <a href=\"#section-3-4-2\">Modelo #2: Floresta Aleatória</a></li>\n",
    "                  <li>3.4.3 <a href=\"#section-3-4-3\">Modelo #3: Regressão Logística</a></li>\n",
    "                  <li>3.4.4 <a href=\"#section-3-4-4\">Modelo #4: Máquina de Vetores de Suporte</a></li>\n",
    "              </ol>\n",
    "          </li>\n",
    "          <li>3.5. <a href=\"#section-3-5\">Persistência e Disponibilização dos Modelos</a></li>\n",
    "    </ol>\n",
    "  </li>\n",
    "    <li><a href=\"#section-4\">Resultados</a></li>\n",
    "  <li href=\"#section-5\"><a href=\"#section-5\">Limitações</a></li>\n",
    "  <li><a href=\"#section-6\">Conclusões</a></li>\n",
    "</ol>\n",
    "<p><a href=\"#section-n\">Referências</a></p>"
   ]
  },
  {
   "cell_type": "markdown",
   "id": "df46b599",
   "metadata": {},
   "source": [
    "# 1. Contextualização <a class=\"anchor\" id=\"section-1\"></a>\n",
    "[Voltar ao topo](#section-0)\n",
    "![Banner do jogo Fifa 22](https://i.imgur.com/8ATGwt4.jpg)"
   ]
  },
  {
   "cell_type": "markdown",
   "id": "34bb126d",
   "metadata": {},
   "source": [
    "# TODO: enfatizar que o mercado de e-sports necessita de mais decisões data-driven"
   ]
  },
  {
   "cell_type": "markdown",
   "id": "acaedf4b",
   "metadata": {},
   "source": [
    "Sendo o maior segmento da indústria do entretenimento desde 2003, segundo um infográfico disponibilizado pela En.Digital (com dados de empresas como: Newzoo, Statista etc.) o mercado mundial de games movimentou, apenas em 2021, mais de US\\\\$175 bilhões, de acordo com dados da consultoria Newzoo, e tem uma projeção até 2023 de crescimento que deve movimentar aproximadamente US\\\\$200 bilhões.\n",
    "\n",
    "Dentro desse enorme mercado, que atualmente representa mais de 65% do faturamento da indústria de entretenimento e ultrapassa facilmente o mercado cinematográfico e da música, temos grandes franquias consolidadas e conhecidas globalmente, como por exemplo: Grand Theft Auto, Pokémon, Super Mario, Call of Duty e muitas outras. \n",
    "\n",
    "Mas todo ano tem suas certezas: tem Natal em dezembro, quatro estações do ano e o lançamento de um novo FIFA. Todos os anos um novo FIFA nos surpreende faturando muito e reforçando sua marca na história dos games. Seu último lançamento em outubro de 2021, o FIFA 22, já contava com mais de 9 milhões de jogadores e 460 milhões de partidas jogadas nos quatro dias de acesso antecipado para quem comprou o jogo em pré-lançamento, segundo matéria do Canaltech.\n",
    "\n",
    "Sem dúvida um dos maiores reanimadores dos jogadores de FIFA foi o lançamento do FIFA Ultimate Team (FUT) dentro do jogo. Um modo onde você pode construir seu próprio time e se sentir como dono de um clube. Segundo o Globo Esporte, o modo Ultimate Team de jogos como FIFA 21, Madden NFL 21 e NHL 21 gerou US\\\\$ 1,62 bilhão (R\\\\$ 8,4 bilhões) de receita para a Electronic Arts no ano fiscal de 2020 (de abril de 2020 a março de 2021). Se tratava da maior arrecadação com o modo na história da desenvolvedora."
   ]
  },
  {
   "cell_type": "markdown",
   "id": "c4c6bacf",
   "metadata": {},
   "source": [
    "# 2. Problema de Negócio <a class=\"anchor\" id=\"section-2\"></a>\n",
    "[Voltar ao topo](#section-0)\n",
    "![Workflow simplificado do projeto](https://i.imgur.com/gjucTUv.png)"
   ]
  },
  {
   "cell_type": "markdown",
   "id": "051172a5",
   "metadata": {},
   "source": [
    "O mercado de *E-sports* é muito competitivo e necessita que cada decisão seja tomada cuidadosamente. Para o apoio da tomada de decisão, é preciso analisar uma quantidade muito grande de atributos, o que torna difícil para um ser humano, mesmo sendo um jogador profissional, assimilar todas as \"regras de negócio\" do jogo para que ele possa manifestar o seu melhor desempenho.\n",
    "\n",
    "O modo *Ultimate Team* é particularmente mais desafiador. Nele o jogador inicia o jogo com um time modesto e precisa além de desempenhar bem nos jogos, de uma grande capacidade de gerenciamento do seu time para poder evoluir, além de conhecimento sobre futebol porque nem todo jogador bom se encaixa no time por uma questão de entrosamento, seu estilo de jogo e seu gosto pessoal."
   ]
  },
  {
   "cell_type": "markdown",
   "id": "f878db59",
   "metadata": {},
   "source": [
    "# TODO: Mudar o foco de jogador iniciante para jogadores profissionais\n",
    "# TODO: Destacar como é difícil aprender todas as regras do jogo pela sua complexidade (por haver muitos atributos relacionados a um jogador)"
   ]
  },
  {
   "cell_type": "markdown",
   "id": "085b3414",
   "metadata": {},
   "source": [
    "Grandes sucessos geram grandes oportunidades de negócio. Sendo o FIFA, sem qualquer incerteza, uma das maiores franquias de games que existiram do mundo, criar algo com relação à franquia gera, no mínimo, grande atenção do público do jogo. Porém, jogar o modo Ultimate Team demanda habilidade de gerenciamento, já que os melhores jogadores custam valores altos que te “limitam” durante um tempo a ter muitos jogadores famosos e habilidosos, e conhecimento sobre o jogo e futebol porque nem todo jogador bom se encaixa no time devido ao entrosamento do time, seu estilo de jogo e seu gosto pessoal. Todas essas barreiras desanimam um jogador iniciante, logo, a fim de aumentar o público do jogo tornando-o mais acessível à amantes do futebol e engajando novatos no game, decidimos desenvolver um sistema de recomendação de cartas (cartas representam os jogadores de futebol dentro do jogo, contendo informações como: sua foto, nacionalidade, clube atual, overall e principais atributos) onde o jogador do FIFA receberá a recomendação das melhores cartas dada a posição escolhida, seu saldo disponível, "
   ]
  },
  {
   "cell_type": "markdown",
   "id": "a7bfc23c",
   "metadata": {},
   "source": [
    "# 3. Método <a class=\"anchor\" id=\"section-3\"></a>\n",
    "[Voltar ao topo](#section-0)"
   ]
  },
  {
   "cell_type": "markdown",
   "id": "c37a89f3",
   "metadata": {},
   "source": [
    "## 3.1 Entendimento dos Dados <a class=\"anchor\" id=\"section-3-1\"></a>\n",
    "[Voltar ao topo](#section-0)"
   ]
  },
  {
   "cell_type": "markdown",
   "id": "7e055dee",
   "metadata": {},
   "source": []
  },
  {
   "cell_type": "markdown",
   "id": "3e6a1ed8",
   "metadata": {},
   "source": [
    "## 3.2 Preparação dos Dados <a class=\"anchor\" id=\"section-3-2\"></a>\n",
    "[Voltar ao topo](#section-0)"
   ]
  },
  {
   "cell_type": "code",
   "execution_count": 33,
   "id": "50b90e96",
   "metadata": {},
   "outputs": [],
   "source": [
    "import pandas as pd\n",
    "import numpy as np"
   ]
  },
  {
   "cell_type": "code",
   "execution_count": 11,
   "id": "20baed49",
   "metadata": {},
   "outputs": [],
   "source": [
    "complete_df = pd.read_csv('./preprocessing/data/filled_data_2022-06-21.tsv', low_memory=False, sep=\"\\t\")\n",
    "filtered_df = complete_df[complete_df.player_tags.notna()]"
   ]
  },
  {
   "cell_type": "code",
   "execution_count": 36,
   "id": "e0b87db5",
   "metadata": {
    "collapsed": true
   },
   "outputs": [
    {
     "data": {
      "text/plain": [
       "['sofifa_id',\n",
       " 'player_url',\n",
       " 'short_name',\n",
       " 'long_name',\n",
       " 'player_positions',\n",
       " 'overall',\n",
       " 'potential',\n",
       " 'value_eur',\n",
       " 'wage_eur',\n",
       " 'dob',\n",
       " 'weight_kg',\n",
       " 'height_cm',\n",
       " 'club_team_id',\n",
       " 'club_position',\n",
       " 'club_jersey_number',\n",
       " 'preferred_foot',\n",
       " 'weak_foot',\n",
       " 'skill_moves',\n",
       " 'international_reputation',\n",
       " 'work_rate',\n",
       " 'body_type',\n",
       " 'player_tags',\n",
       " 'player_traits',\n",
       " 'pace',\n",
       " 'shooting',\n",
       " 'passing',\n",
       " 'dribbling',\n",
       " 'defending',\n",
       " 'physic',\n",
       " 'attacking_crossing',\n",
       " 'attacking_finishing',\n",
       " 'attacking_heading_accuracy',\n",
       " 'skill_dribbling',\n",
       " 'skill_curve',\n",
       " 'skill_fk_accuracy',\n",
       " 'skill_long_passing',\n",
       " 'skill_ball_control',\n",
       " 'movement_acceleration',\n",
       " 'movement_sprint_speed',\n",
       " 'movement_agility',\n",
       " 'movement_reactions',\n",
       " 'movement_balance',\n",
       " 'power_shot_power',\n",
       " 'power_jumping',\n",
       " 'power_stamina',\n",
       " 'power_strength',\n",
       " 'power_long_shots',\n",
       " 'mentality_aggression',\n",
       " 'mentality_interceptions',\n",
       " 'mentality_positioning',\n",
       " 'mentality_vision',\n",
       " 'mentality_penalties',\n",
       " 'mentality_composure',\n",
       " 'defending_marking_awareness',\n",
       " 'defending_standing_tackle',\n",
       " 'defending_sliding_tackle',\n",
       " 'goalkeeping_diving',\n",
       " 'goalkeeping_handling',\n",
       " 'goalkeeping_kicking',\n",
       " 'goalkeeping_positioning',\n",
       " 'goalkeeping_reflexes',\n",
       " 'goalkeeping_speed',\n",
       " 'ls',\n",
       " 'st',\n",
       " 'rs',\n",
       " 'lw',\n",
       " 'lf',\n",
       " 'cf',\n",
       " 'rf',\n",
       " 'rw',\n",
       " 'lam',\n",
       " 'cam',\n",
       " 'ram',\n",
       " 'lm',\n",
       " 'lcm',\n",
       " 'cm',\n",
       " 'rcm',\n",
       " 'rm',\n",
       " 'lwb',\n",
       " 'ldm',\n",
       " 'cdm',\n",
       " 'rdm',\n",
       " 'rwb',\n",
       " 'lb',\n",
       " 'lcb',\n",
       " 'cb',\n",
       " 'rcb',\n",
       " 'rb',\n",
       " 'gk',\n",
       " 'nationality_name',\n",
       " 'age',\n",
       " 'bmi',\n",
       " 'obese',\n",
       " 'underweight',\n",
       " 'trait Cautious With Crosses',\n",
       " 'trait Chip Shot (AI)',\n",
       " 'trait Comes For Crosses',\n",
       " 'trait Dives Into Tackles (AI)',\n",
       " 'trait Early Crosser',\n",
       " 'trait Finesse Shot',\n",
       " 'trait Flair',\n",
       " 'trait GK Long Throw',\n",
       " 'trait Giant Throw-in',\n",
       " 'trait Injury Prone',\n",
       " 'trait Leadership',\n",
       " 'trait Long Passer (AI)',\n",
       " 'trait Long Shot Taker (AI)',\n",
       " 'trait Long Throw-in',\n",
       " 'trait One Club Player',\n",
       " 'trait Outside Foot Shot',\n",
       " 'trait Playmaker (AI)',\n",
       " 'trait Power Free-Kick',\n",
       " 'trait Power Header',\n",
       " 'trait Rushes Out Of Goal',\n",
       " 'trait Saves with Feet',\n",
       " 'trait Solid Player',\n",
       " 'trait Speed Dribbler (AI)',\n",
       " 'trait Team Player',\n",
       " 'trait Technical Dribbler (AI)',\n",
       " 'tag #Acrobat',\n",
       " 'tag #Aerial Threat',\n",
       " 'tag #Clinical Finisher',\n",
       " 'tag #Complete Defender',\n",
       " 'tag #Complete Forward',\n",
       " 'tag #Complete Midfielder',\n",
       " 'tag #Crosser',\n",
       " 'tag #Distance Shooter',\n",
       " 'tag #Dribbler',\n",
       " 'tag #Engine',\n",
       " 'tag #FK Specialist',\n",
       " 'tag #Playmaker',\n",
       " 'tag #Poacher',\n",
       " 'tag #Speedster',\n",
       " 'tag #Strength',\n",
       " 'tag #Tackling',\n",
       " 'tag #Tactician',\n",
       " 'CAM',\n",
       " 'CB',\n",
       " 'CDM',\n",
       " 'CF',\n",
       " 'CM',\n",
       " 'GK',\n",
       " 'LB',\n",
       " 'LM',\n",
       " 'LW',\n",
       " 'LWB',\n",
       " 'RB',\n",
       " 'RM',\n",
       " 'RW',\n",
       " 'RWB',\n",
       " 'ST',\n",
       " 'work rate High/High',\n",
       " 'work rate High/Low',\n",
       " 'work rate High/Medium',\n",
       " 'work rate Low/High',\n",
       " 'work rate Low/Low',\n",
       " 'work rate Low/Medium',\n",
       " 'work rate Medium/High',\n",
       " 'work rate Medium/Low',\n",
       " 'work rate Medium/Medium',\n",
       " 'body type Lean (170-)',\n",
       " 'body type Lean (170-185)',\n",
       " 'body type Lean (185+)',\n",
       " 'body type Normal (170-)',\n",
       " 'body type Normal (170-185)',\n",
       " 'body type Normal (185+)',\n",
       " 'body type Stocky (170-)',\n",
       " 'body type Stocky (170-185)',\n",
       " 'body type Stocky (185+)',\n",
       " 'body type Unique',\n",
       " 'preferred foot Left',\n",
       " 'preferred foot Right',\n",
       " 'nationality Afghanistan',\n",
       " 'nationality Albania',\n",
       " 'nationality Algeria',\n",
       " 'nationality Andorra',\n",
       " 'nationality Angola',\n",
       " 'nationality Antigua and Barbuda',\n",
       " 'nationality Argentina',\n",
       " 'nationality Armenia',\n",
       " 'nationality Australia',\n",
       " 'nationality Austria',\n",
       " 'nationality Azerbaijan',\n",
       " 'nationality Barbados',\n",
       " 'nationality Belarus',\n",
       " 'nationality Belgium',\n",
       " 'nationality Belize',\n",
       " 'nationality Benin',\n",
       " 'nationality Bermuda',\n",
       " 'nationality Bhutan',\n",
       " 'nationality Bolivia',\n",
       " 'nationality Bosnia and Herzegovina',\n",
       " 'nationality Brazil',\n",
       " 'nationality Bulgaria',\n",
       " 'nationality Burkina Faso',\n",
       " 'nationality Burundi',\n",
       " 'nationality Cameroon',\n",
       " 'nationality Canada',\n",
       " 'nationality Cape Verde Islands',\n",
       " 'nationality Central African Republic',\n",
       " 'nationality Chad',\n",
       " 'nationality Chile',\n",
       " 'nationality China PR',\n",
       " 'nationality Chinese Taipei',\n",
       " 'nationality Colombia',\n",
       " 'nationality Comoros',\n",
       " 'nationality Congo',\n",
       " 'nationality Congo DR',\n",
       " 'nationality Costa Rica',\n",
       " 'nationality Croatia',\n",
       " 'nationality Cuba',\n",
       " 'nationality Curacao',\n",
       " 'nationality Cyprus',\n",
       " 'nationality Czech Republic',\n",
       " \"nationality Côte d'Ivoire\",\n",
       " 'nationality Denmark',\n",
       " 'nationality Dominican Republic',\n",
       " 'nationality Ecuador',\n",
       " 'nationality Egypt',\n",
       " 'nationality El Salvador',\n",
       " 'nationality England',\n",
       " 'nationality Equatorial Guinea',\n",
       " 'nationality Eritrea',\n",
       " 'nationality Estonia',\n",
       " 'nationality Ethiopia',\n",
       " 'nationality Faroe Islands',\n",
       " 'nationality Fiji',\n",
       " 'nationality Finland',\n",
       " 'nationality France',\n",
       " 'nationality Gabon',\n",
       " 'nationality Gambia',\n",
       " 'nationality Georgia',\n",
       " 'nationality Germany',\n",
       " 'nationality Ghana',\n",
       " 'nationality Gibraltar',\n",
       " 'nationality Greece',\n",
       " 'nationality Grenada',\n",
       " 'nationality Guam',\n",
       " 'nationality Guatemala',\n",
       " 'nationality Guinea',\n",
       " 'nationality Guinea Bissau',\n",
       " 'nationality Guyana',\n",
       " 'nationality Haiti',\n",
       " 'nationality Honduras',\n",
       " 'nationality Hong Kong',\n",
       " 'nationality Hungary',\n",
       " 'nationality Iceland',\n",
       " 'nationality India',\n",
       " 'nationality Indonesia',\n",
       " 'nationality Iran',\n",
       " 'nationality Iraq',\n",
       " 'nationality Israel',\n",
       " 'nationality Italy',\n",
       " 'nationality Jamaica',\n",
       " 'nationality Japan',\n",
       " 'nationality Jordan',\n",
       " 'nationality Kazakhstan',\n",
       " 'nationality Kenya',\n",
       " 'nationality Korea DPR',\n",
       " 'nationality Korea Republic',\n",
       " 'nationality Kosovo',\n",
       " 'nationality Kyrgyzstan',\n",
       " 'nationality Latvia',\n",
       " 'nationality Lebanon',\n",
       " 'nationality Liberia',\n",
       " 'nationality Libya',\n",
       " 'nationality Lithuania',\n",
       " 'nationality Luxembourg',\n",
       " 'nationality Madagascar',\n",
       " 'nationality Malawi',\n",
       " 'nationality Malaysia',\n",
       " 'nationality Mali',\n",
       " 'nationality Malta',\n",
       " 'nationality Mauritania',\n",
       " 'nationality Mauritius',\n",
       " 'nationality Mexico',\n",
       " 'nationality Moldova',\n",
       " 'nationality Montenegro',\n",
       " 'nationality Montserrat',\n",
       " 'nationality Morocco',\n",
       " 'nationality Mozambique',\n",
       " 'nationality Namibia',\n",
       " 'nationality Netherlands',\n",
       " 'nationality New Zealand',\n",
       " 'nationality Niger',\n",
       " 'nationality Nigeria',\n",
       " 'nationality North Macedonia',\n",
       " 'nationality Northern Ireland',\n",
       " 'nationality Norway',\n",
       " 'nationality Palestine',\n",
       " 'nationality Panama',\n",
       " 'nationality Papua New Guinea',\n",
       " 'nationality Paraguay',\n",
       " 'nationality Peru',\n",
       " 'nationality Philippines',\n",
       " 'nationality Poland',\n",
       " 'nationality Portugal',\n",
       " 'nationality Puerto Rico',\n",
       " 'nationality Republic of Ireland',\n",
       " 'nationality Romania',\n",
       " 'nationality Russia',\n",
       " 'nationality Saint Kitts and Nevis',\n",
       " 'nationality Saint Lucia',\n",
       " 'nationality Saudi Arabia',\n",
       " 'nationality Scotland',\n",
       " 'nationality Senegal',\n",
       " 'nationality Serbia',\n",
       " 'nationality Sierra Leone',\n",
       " 'nationality Slovakia',\n",
       " 'nationality Slovenia',\n",
       " 'nationality South Africa',\n",
       " 'nationality South Sudan',\n",
       " 'nationality Spain',\n",
       " 'nationality Sudan',\n",
       " 'nationality Suriname',\n",
       " 'nationality Sweden',\n",
       " 'nationality Switzerland',\n",
       " 'nationality Syria',\n",
       " 'nationality Tanzania',\n",
       " 'nationality Thailand',\n",
       " 'nationality Togo',\n",
       " 'nationality Trinidad and Tobago',\n",
       " 'nationality Tunisia',\n",
       " 'nationality Turkey',\n",
       " 'nationality Uganda',\n",
       " 'nationality Ukraine',\n",
       " 'nationality United Arab Emirates',\n",
       " 'nationality United States',\n",
       " 'nationality Uruguay',\n",
       " 'nationality Uzbekistan',\n",
       " 'nationality Venezuela',\n",
       " 'nationality Vietnam',\n",
       " 'nationality Wales',\n",
       " 'nationality Zambia',\n",
       " 'nationality Zimbabwe']"
      ]
     },
     "execution_count": 36,
     "metadata": {},
     "output_type": "execute_result"
    }
   ],
   "source": [
    "complete_df.columns.to_list()"
   ]
  },
  {
   "cell_type": "markdown",
   "id": "281f4f6b",
   "metadata": {},
   "source": [
    "Selecionando colunas booleanas para nossos classificadores"
   ]
  },
  {
   "cell_type": "code",
   "execution_count": 12,
   "id": "6d8b03d3",
   "metadata": {},
   "outputs": [],
   "source": [
    "# Removendo colunas de nacionalidade, ids, urls e colunas não numéricas\n",
    "features = filtered_df.columns[~filtered_df.columns[:].str.match('(.*_id.*|.*id_.*|.*url.*|nationality)')].to_list()\n",
    "features = filtered_df[features]._get_numeric_data()"
   ]
  },
  {
   "cell_type": "markdown",
   "id": "9a3ae81c",
   "metadata": {},
   "source": [
    "## 3.3 Modelagem <a class=\"anchor\" id=\"section-3-3\"></a>\n",
    "[Voltar ao topo](#section-0)"
   ]
  },
  {
   "cell_type": "code",
   "execution_count": 15,
   "id": "847125b0",
   "metadata": {},
   "outputs": [],
   "source": [
    "from sklearn.model_selection import train_test_split\n",
    "from sklearn.linear_model import LogisticRegressionCV"
   ]
  },
  {
   "cell_type": "markdown",
   "id": "9dc23256",
   "metadata": {},
   "source": [
    "### 3.3.1 Modelo #1: Regressão Linear <a class=\"anchor\" id=\"section-3-3-1\"></a>\n",
    "[Voltar ao topo](#section-0)"
   ]
  },
  {
   "cell_type": "markdown",
   "id": "4f3a856b",
   "metadata": {},
   "source": [
    "### 3.3.2 Modelo #2: Floresta Aleatória <a class=\"anchor\" id=\"section-3-3-2\"></a>\n",
    "[Voltar ao topo](#section-0)"
   ]
  },
  {
   "cell_type": "markdown",
   "id": "31e1c010",
   "metadata": {},
   "source": [
    "### 3.3.3 Modelo #3: Regressão Logística <a class=\"anchor\" id=\"section-3-3-3\"></a>\n",
    "[Voltar ao topo](#section-0)"
   ]
  },
  {
   "cell_type": "markdown",
   "id": "67ac7e0a",
   "metadata": {},
   "source": [
    "Separando preditores e labels"
   ]
  },
  {
   "cell_type": "code",
   "execution_count": 18,
   "id": "5fd54595",
   "metadata": {},
   "outputs": [],
   "source": [
    "X, y = features.drop('tag #FK Specialist', axis=1), filtered_df['tag #FK Specialist']"
   ]
  },
  {
   "cell_type": "markdown",
   "id": "c6d36603",
   "metadata": {},
   "source": [
    "Separando dados de treino e teste"
   ]
  },
  {
   "cell_type": "code",
   "execution_count": 19,
   "id": "04a043ea",
   "metadata": {},
   "outputs": [],
   "source": [
    "X_train, X_test, y_train, y_test = train_test_split(\n",
    "    filtered_df[[\"skill_fk_accuracy\"]], filtered_df['tag #FK Specialist'],\n",
    "    random_state=0\n",
    ")"
   ]
  },
  {
   "cell_type": "markdown",
   "id": "c5243d38",
   "metadata": {},
   "source": [
    "Após a nossa minuciosa análise, decidimos usar um modelo de regressão logística com validação cruzada maximizar o *recall* (métrica). \n",
    "\n",
    "Tal decisão foi tomada pois o **nosso conjunto de dados é extremamente desbalanceado** (há muito mais verdadeiros negativos do que verdadeiros positivos), e nas configurações padrão do modelo acabamos com uma acurácia alta, porém com uma alta taxa de falsos positivos\n",
    "\n"
   ]
  },
  {
   "cell_type": "code",
   "execution_count": 20,
   "id": "ca82b313",
   "metadata": {},
   "outputs": [],
   "source": [
    "# Treinando o modelo\n",
    "model_reglog = LogisticRegressionCV(scoring='recall').fit(X_train, y_train)"
   ]
  },
  {
   "cell_type": "markdown",
   "id": "c03df9c9",
   "metadata": {},
   "source": [
    "### 3.3.4 Modelo #4: Máquina de Vetores de Suporte <a class=\"anchor\" id=\"section-3-3-4\"></a>\n",
    "[Voltar ao topo](#section-0)"
   ]
  },
  {
   "cell_type": "markdown",
   "id": "fb2fd08d",
   "metadata": {},
   "source": [
    "## 3.4 Avaliação dos Modelos <a class=\"anchor\" id=\"section-3-4\"></a>\n",
    "[Voltar ao topo](#section-0)"
   ]
  },
  {
   "cell_type": "code",
   "execution_count": 29,
   "id": "1f5d44bb",
   "metadata": {},
   "outputs": [],
   "source": [
    "# Para calcular as métricas de performance dos modelos\n",
    "from sklearn.metrics import accuracy_score\n",
    "from sklearn.metrics import confusion_matrix\n",
    "from sklearn.metrics import recall_score"
   ]
  },
  {
   "cell_type": "code",
   "execution_count": 30,
   "id": "03c62930",
   "metadata": {},
   "outputs": [],
   "source": [
    "# Para gerar visualizações\n",
    "import matplotlib.pyplot as plt\n",
    "%matplotlib inline\n",
    "import seaborn as sns\n",
    "sns.set(font_scale=2)"
   ]
  },
  {
   "cell_type": "markdown",
   "id": "c537ee25",
   "metadata": {},
   "source": [
    "### 3.4.1 Modelo #1: Regressão Linear <a class=\"anchor\" id=\"section-3-4-1\"></a>\n",
    "[Voltar ao topo](#section-0)"
   ]
  },
  {
   "cell_type": "markdown",
   "id": "3d13fcfb",
   "metadata": {},
   "source": [
    "### 3.4.2 Modelo #2: Floresta Aleatória <a class=\"anchor\" id=\"section-3-4-2\"></a>\n",
    "[Voltar ao topo](#section-0)"
   ]
  },
  {
   "cell_type": "markdown",
   "id": "afef0473",
   "metadata": {},
   "source": [
    "### 3.4.3 Modelo #3: Regressão Logística <a class=\"anchor\" id=\"section-3-4-3\"></a>\n",
    "[Voltar ao topo](#section-0)"
   ]
  },
  {
   "cell_type": "markdown",
   "id": "fa113d0f",
   "metadata": {},
   "source": [
    "Usando nosso modelo para predizer os valores de y do nosso dataset de teste"
   ]
  },
  {
   "cell_type": "code",
   "execution_count": 23,
   "id": "291cc9b6",
   "metadata": {},
   "outputs": [],
   "source": [
    "y_pred = model_reglog.predict(X_test)"
   ]
  },
  {
   "cell_type": "markdown",
   "id": "7b6296f2",
   "metadata": {},
   "source": [
    "**Acurácia**"
   ]
  },
  {
   "cell_type": "code",
   "execution_count": 24,
   "id": "415dbbf8",
   "metadata": {},
   "outputs": [
    {
     "name": "stdout",
     "output_type": "stream",
     "text": [
      "acurácia = 1.000\n"
     ]
    }
   ],
   "source": [
    "acuracia = accuracy_score(y_test, y_pred)\n",
    "print(f'acurácia = {acuracia:.3f}')"
   ]
  },
  {
   "cell_type": "markdown",
   "id": "66fd5ca7",
   "metadata": {},
   "source": [
    "**Recall**"
   ]
  },
  {
   "cell_type": "code",
   "execution_count": 25,
   "id": "a5c7d613",
   "metadata": {},
   "outputs": [
    {
     "name": "stdout",
     "output_type": "stream",
     "text": [
      "recall = 1.000\n"
     ]
    }
   ],
   "source": [
    "rc = recall_score(y_test, y_pred)\n",
    "print(f'recall = {rc:.3f}')"
   ]
  },
  {
   "cell_type": "markdown",
   "id": "f1e998f3",
   "metadata": {},
   "source": [
    "**Verificando coeficiente de correlação para cada uma das features**"
   ]
  },
  {
   "cell_type": "code",
   "execution_count": 31,
   "id": "56411cd7",
   "metadata": {},
   "outputs": [
    {
     "name": "stdout",
     "output_type": "stream",
     "text": [
      "model.coef_  = [1.373]\n"
     ]
    }
   ],
   "source": [
    "for i in range(len(model.coef_)):\n",
    "    print(f'model.coef_  = {model.coef_[i].round(3)}')"
   ]
  },
  {
   "cell_type": "code",
   "execution_count": 34,
   "id": "ff34ed11",
   "metadata": {},
   "outputs": [],
   "source": [
    "cf_matrix = confusion_matrix(y_test, y_pred)\n",
    "group_names = ['True Neg','False Pos','False Neg','True Pos']\n",
    "group_counts = [\"{0:0.0f}\".format(value) for value in\n",
    "                cf_matrix.flatten()]\n",
    "group_percentages = [\"{0:.2%}\".format(value) for value in\n",
    "                     cf_matrix.flatten()/np.sum(cf_matrix)]\n",
    "labels = [f\"{v1}\\n{v2}\\n{v3}\" for v1, v2, v3 in\n",
    "          zip(group_names,group_counts,group_percentages)]\n",
    "labels = np.asarray(labels).reshape(2,2)"
   ]
  },
  {
   "cell_type": "code",
   "execution_count": 35,
   "id": "6d77c9f2",
   "metadata": {
    "scrolled": false
   },
   "outputs": [
    {
     "data": {
      "image/png": "[encoded data removed]",
      "text/plain": [
       "<Figure size 1080x576 with 2 Axes>"
      ]
     },
     "metadata": {},
     "output_type": "display_data"
    }
   ],
   "source": [
    "plt.figure(figsize=(15,8))\n",
    "plt.title('Matriz de confusão: Esse jogador é um #FK Specialist?', weight='bold').set_fontsize(30)\n",
    "sns.heatmap(confusion_matrix(y_test, y_pred), annot=labels, fmt='', cmap='Blues')\n",
    "plt.xlabel(f'Predicted value\\n\\naccuracy = {acuracia:.3f}\\nrecall = {rc:.3f}')\n",
    "plt.ylabel('True value')\n",
    "plt.show()"
   ]
  },
  {
   "cell_type": "markdown",
   "id": "3a046aaf",
   "metadata": {},
   "source": [
    "### 3.4.4 Modelo #4: Máquina de Vetores de Suporte <a class=\"anchor\" id=\"section-3-4-4\"></a>\n",
    "[Voltar ao topo](#section-0)"
   ]
  },
  {
   "cell_type": "markdown",
   "id": "e26348d5",
   "metadata": {},
   "source": [
    "## 3.5 Persistência e Disponibilização dos Modelos <a class=\"anchor\" id=\"section-3-5\"></a>\n",
    "[Voltar ao topo](#section-0)"
   ]
  },
  {
   "cell_type": "markdown",
   "id": "d101f3d4",
   "metadata": {},
   "source": [
    "# 4. Resultados <a class=\"anchor\" id=\"section-4\"></a>\n",
    "[Voltar ao topo](#section-0)"
   ]
  },
  {
   "cell_type": "markdown",
   "id": "2d909e50",
   "metadata": {},
   "source": [
    "# 5. Limitações <a class=\"anchor\" id=\"section-5\"></a>\n",
    "[Voltar ao topo](#section-0)"
   ]
  },
  {
   "cell_type": "markdown",
   "id": "8a705c9f",
   "metadata": {},
   "source": [
    "# 6. Conclusões <a class=\"anchor\" id=\"section-6\"></a>\n",
    "[Voltar ao topo](#section-0)"
   ]
  },
  {
   "cell_type": "markdown",
   "id": "0c199579",
   "metadata": {},
   "source": [
    "# Referências<a class=\"anchor\" id=\"section-n\"></a>\n",
    "[Voltar ao topo](#section-0)"
   ]
  },
  {
   "cell_type": "markdown",
   "id": "12bb0f68",
   "metadata": {},
   "source": [
    "- [FIFA 22 complete player dataset](https://www.kaggle.com/datasets/stefanoleone992/fifa-22-complete-player-dataset)"
   ]
  }
 ],
 "metadata": {
  "kernelspec": {
   "display_name": "Python 3 (ipykernel)",
   "language": "python",
   "name": "python3"
  },
  "language_info": {
   "codemirror_mode": {
    "name": "ipython",
    "version": 3
   },
   "file_extension": ".py",
   "mimetype": "text/x-python",
   "name": "python",
   "nbconvert_exporter": "python",
   "pygments_lexer": "ipython3",
   "version": "3.9.7"
  }
 },
 "nbformat": 4,
 "nbformat_minor": 5
}
