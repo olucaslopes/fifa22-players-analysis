{
 "cells": [
  {
   "cell_type": "markdown",
   "id": "810d5664",
   "metadata": {},
   "source": [
    "<a class=\"anchor\" id=\"section-0\"></a>\n",
    "<img src=\"https://i.imgur.com/lTCPbz0.jpeg\" alt='logo puc-sp' width='30%' align='left'>\n",
    "\n",
    "### Pontifícia Universidade Católica de São Paulo (PUC-SP)\n",
    "\n",
    "<h1 style=font-size:30px>Machine Learning: Desvendando o Fifa 22</h1>\n",
    "\n",
    "\n",
    "### Bacharelado em Ciência de Dados e Inteligência Artificial\n",
    "\n",
    "#### Turma: CDIA21-MA\n",
    "\n",
    "**Professor:** Jefferson de Oliveira Silva\n",
    "\n",
    "### Integrantes\n",
    "\n",
    "<table align=\"left\" style=font-size:15px>\n",
    "<thead>\n",
    "  <tr>\n",
    "    <th style=\"text-align:left;\">Nome</th>\n",
    "    <th style=\"text-align:left;\">RA</th>\n",
    "    <th></th>\n",
    "  </tr>\n",
    "</thead>\n",
    "<tbody>\n",
    "  <tr>\n",
    "    <td style=\"text-align:left;\">Gustavo Schlieper Tessitore</td>\n",
    "    <td>RA00297844</td>\n",
    "    <td></td>\n",
    "  </tr>\n",
    "  <tr>\n",
    "    <td style=\"text-align:left;\">Isaac Higuchi</td>\n",
    "    <td>RA00306191</td>\n",
    "    <td></td>\n",
    "  </tr>\n",
    "  <tr>\n",
    "    <td style=\"text-align:left;\">João Pedro Taves Araujo</td>\n",
    "    <td>RA00297753</td>\n",
    "    <td></td>\n",
    "  </tr>\n",
    "  <tr>\n",
    "    <td style=\"text-align:left;\">Lucas Lopes Amorim</td>\n",
    "    <td>RA00303799</td>\n",
    "    <td></td>\n",
    "  </tr>\n",
    "</tbody>\n",
    "</table>"
   ]
  },
  {
   "cell_type": "markdown",
   "id": "4f603b35",
   "metadata": {},
   "source": [
    "<h3><b>Estrutura:</b></h3>\n",
    "\n",
    "<ol>\n",
    "  <li><a href=\"#section-1\">Contextualização</a></li>\n",
    "  <li><a href=\"#section-2\">Problema de Negócio</a></li>\n",
    "  <li><a href=\"#section-3\">Método</a>\n",
    "      <ol style=\"list-style: none; padding-left: 10px\">\n",
    "          <li>3.1. <a href=\"#section-3-1\">Entendimento dos Dados</a></li>\n",
    "          <li>3.2. <a href=\"#section-3-2\">Preparação dos Dados</a></li>\n",
    "          <li>3.3. <a href=\"#section-3-3\">Modelagem</a>\n",
    "              <ol style=\"list-style: none; padding-left: 20px\">\n",
    "                  <li>3.3.1 <a href=\"#section-3-3-1\">Modelo #1: Regressão Logística</a></li>\n",
    "                  <li>3.3.2 <a href=\"#section-3-3-2\">Modelo #2: Regressão Logística</a></li>\n",
    "                  <li>3.3.3 <a href=\"#section-3-3-3\">Modelo #3: Regressão Logística</a></li>\n",
    "                  <li>3.3.4 <a href=\"#section-3-3-4\">Modelo #4: Regressão Logística</a></li>\n",
    "              </ol>\n",
    "          </li>\n",
    "          <li>3.4. <a href=\"#section-3-4\">Avaliação dos Modelos</a>\n",
    "              <ol style=\"list-style: none; padding-left: 20px\">\n",
    "                  <li>3.4.1 <a href=\"#section-3-4-1\">Modelo #1: Regressão Logística</a></li>\n",
    "                  <li>3.4.2 <a href=\"#section-3-4-2\">Modelo #2: Regressão Logística</a></li>\n",
    "                  <li>3.4.3 <a href=\"#section-3-4-3\">Modelo #3: Regressão Logística</a></li>\n",
    "                  <li>3.4.4 <a href=\"#section-3-4-4\">Modelo #4: Regressão Logística</a></li>\n",
    "              </ol>\n",
    "          </li>\n",
    "          <li>3.5. <a href=\"#section-3-5\">Persistência e Disponibilização dos Modelos</a></li>\n",
    "    </ol>\n",
    "  </li>\n",
    "    <li><a href=\"#section-4\">Resultados</a></li>\n",
    "  <li href=\"#section-5\"><a href=\"#section-5\">Limitações</a></li>\n",
    "  <li><a href=\"#section-6\">Conclusões</a></li>\n",
    "</ol>\n",
    "<p><a href=\"#section-n\">Referências</a></p>"
   ]
  },
  {
   "cell_type": "markdown",
   "id": "df46b599",
   "metadata": {},
   "source": [
    "# 1. Contextualização <a class=\"anchor\" id=\"section-1\"></a>\n",
    "[Voltar ao topo](#section-0)\n",
    "![](https://i.imgur.com/8ATGwt4.jpg)"
   ]
  },
  {
   "cell_type": "markdown",
   "id": "acaedf4b",
   "metadata": {},
   "source": [
    "Sendo o maior segmento da indústria do entretenimento desde 2003, segundo um infográfico disponibilizado pela En.Digital (com dados de empresas como: Newzoo, Statista etc.) o mercado mundial de games movimentou, apenas em 2021, mais de US\\\\$175 bilhões, de acordo com dados da consultoria Newzoo, e tem uma projeção até 2023 de crescimento que deve movimentar aproximadamente US\\\\$200 bilhões.\n",
    "\n",
    "Dentro desse enorme mercado, que atualmente representa mais de 65% do faturamento da indústria de entretenimento e ultrapassa facilmente o mercado cinematográfico e da música, temos grandes franquias consolidadas e conhecidas globalmente, como por exemplo: Grand Theft Auto, Pokémon, Super Mario, Call of Duty e muitas outras. \n",
    "\n",
    "Mas todo ano tem suas certezas: tem Natal em dezembro, quatro estações do ano e o lançamento de um novo FIFA. Todos os anos um novo FIFA nos surpreende faturando muito e reforçando sua marca na história dos games. Seu último lançamento em outubro de 2021, o FIFA 22, já contava com mais de 9 milhões de jogadores e 460 milhões de partidas jogadas nos quatro dias de acesso antecipado para quem comprou o jogo em pré-lançamento, segundo matéria do Canaltech.\n",
    "\n",
    "Sem dúvida um dos maiores reanimadores dos jogadores de FIFA foi o lançamento do FIFA Ultimate Team (FUT) dentro do jogo. Um modo onde você pode construir seu próprio time e se sentir como dono de um clube. Segundo o Globo Esporte, o modo Ultimate Team de jogos como FIFA 21, Madden NFL 21 e NHL 21 gerou US\\\\$ 1,62 bilhão (R\\\\$ 8,4 bilhões) de receita para a Electronic Arts no ano fiscal de 2020 (de abril de 2020 a março de 2021). Se tratava da maior arrecadação com o modo na história da desenvolvedora."
   ]
  },
  {
   "cell_type": "markdown",
   "id": "c4c6bacf",
   "metadata": {},
   "source": [
    "# 2. Problema de Negócio <a class=\"anchor\" id=\"section-2\"></a>\n",
    "[Voltar ao topo](#section-0)"
   ]
  },
  {
   "cell_type": "markdown",
   "id": "a7bfc23c",
   "metadata": {},
   "source": [
    "# 3. Método <a class=\"anchor\" id=\"section-3\"></a>\n",
    "[Voltar ao topo](#section-0)"
   ]
  },
  {
   "cell_type": "markdown",
   "id": "c37a89f3",
   "metadata": {},
   "source": [
    "## 3.1 Entendimento dos Dados <a class=\"anchor\" id=\"section-3-1\"></a>\n",
    "[Voltar ao topo](#section-0)"
   ]
  },
  {
   "cell_type": "markdown",
   "id": "3e6a1ed8",
   "metadata": {},
   "source": [
    "## 3.2 Preparação dos Dados <a class=\"anchor\" id=\"section-3-2\"></a>\n",
    "[Voltar ao topo](#section-0)"
   ]
  },
  {
   "cell_type": "markdown",
   "id": "9a3ae81c",
   "metadata": {},
   "source": [
    "## 3.3 Modelagem <a class=\"anchor\" id=\"section-3-3\"></a>\n",
    "[Voltar ao topo](#section-0)"
   ]
  },
  {
   "cell_type": "markdown",
   "id": "9dc23256",
   "metadata": {},
   "source": [
    "### 3.3.1 Modelo #1: Regressão Logística <a class=\"anchor\" id=\"section-3-3-1\"></a>\n",
    "[Voltar ao topo](#section-0)"
   ]
  },
  {
   "cell_type": "markdown",
   "id": "4f3a856b",
   "metadata": {},
   "source": [
    "### 3.3.2 Modelo #2: Regressão Logística <a class=\"anchor\" id=\"section-3-3-2\"></a>\n",
    "[Voltar ao topo](#section-0)"
   ]
  },
  {
   "cell_type": "markdown",
   "id": "31e1c010",
   "metadata": {},
   "source": [
    "### 3.3.3 Modelo #3: Regressão Logística <a class=\"anchor\" id=\"section-3-3-3\"></a>\n",
    "[Voltar ao topo](#section-0)"
   ]
  },
  {
   "cell_type": "markdown",
   "id": "c03df9c9",
   "metadata": {},
   "source": [
    "### 3.3.4 Modelo #4: Regressão Logística <a class=\"anchor\" id=\"section-3-3-4\"></a>\n",
    "[Voltar ao topo](#section-0)"
   ]
  },
  {
   "cell_type": "markdown",
   "id": "fb2fd08d",
   "metadata": {},
   "source": [
    "## 3.4 Avaliação dos Modelos <a class=\"anchor\" id=\"section-3-4\"></a>\n",
    "[Voltar ao topo](#section-0)"
   ]
  },
  {
   "cell_type": "markdown",
   "id": "c537ee25",
   "metadata": {},
   "source": [
    "### 3.4.1 Modelo #1: Regressão Logística <a class=\"anchor\" id=\"section-3-4-1\"></a>\n",
    "[Voltar ao topo](#section-0)"
   ]
  },
  {
   "cell_type": "markdown",
   "id": "3d13fcfb",
   "metadata": {},
   "source": [
    "### 3.4.2 Modelo #2: Regressão Logística <a class=\"anchor\" id=\"section-3-4-2\"></a>\n",
    "[Voltar ao topo](#section-0)"
   ]
  },
  {
   "cell_type": "markdown",
   "id": "afef0473",
   "metadata": {},
   "source": [
    "### 3.4.3 Modelo #3: Regressão Logística <a class=\"anchor\" id=\"section-3-4-3\"></a>\n",
    "[Voltar ao topo](#section-0)"
   ]
  },
  {
   "cell_type": "markdown",
   "id": "3a046aaf",
   "metadata": {},
   "source": [
    "### 3.4.4 Modelo #4: Regressão Logística <a class=\"anchor\" id=\"section-3-4-4\"></a>\n",
    "[Voltar ao topo](#section-0)"
   ]
  },
  {
   "cell_type": "markdown",
   "id": "e26348d5",
   "metadata": {},
   "source": [
    "## 3.5 Persistência e Disponibilização dos Modelos <a class=\"anchor\" id=\"section-3-5\"></a>\n",
    "[Voltar ao topo](#section-0)"
   ]
  },
  {
   "cell_type": "markdown",
   "id": "d101f3d4",
   "metadata": {},
   "source": [
    "# 4. Resultados <a class=\"anchor\" id=\"section-4\"></a>\n",
    "[Voltar ao topo](#section-0)"
   ]
  },
  {
   "cell_type": "markdown",
   "id": "2d909e50",
   "metadata": {},
   "source": [
    "# 5. Limitações <a class=\"anchor\" id=\"section-5\"></a>\n",
    "[Voltar ao topo](#section-0)"
   ]
  },
  {
   "cell_type": "markdown",
   "id": "8a705c9f",
   "metadata": {},
   "source": [
    "# 6. Conclusões <a class=\"anchor\" id=\"section-6\"></a>\n",
    "[Voltar ao topo](#section-0)"
   ]
  },
  {
   "cell_type": "markdown",
   "id": "0c199579",
   "metadata": {},
   "source": [
    "# Referências<a class=\"anchor\" id=\"section-n\"></a>\n",
    "[Voltar ao topo](#section-0)"
   ]
  },
  {
   "cell_type": "markdown",
   "id": "12bb0f68",
   "metadata": {},
   "source": [
    "- [FIFA 22 complete player dataset](https://www.kaggle.com/datasets/stefanoleone992/fifa-22-complete-player-dataset)"
   ]
  }
 ],
 "metadata": {
  "kernelspec": {
   "display_name": "Python 3 (ipykernel)",
   "language": "python",
   "name": "python3"
  },
  "language_info": {
   "codemirror_mode": {
    "name": "ipython",
    "version": 3
   },
   "file_extension": ".py",
   "mimetype": "text/x-python",
   "name": "python",
   "nbconvert_exporter": "python",
   "pygments_lexer": "ipython3",
   "version": "3.9.7"
  }
 },
 "nbformat": 4,
 "nbformat_minor": 5
}
