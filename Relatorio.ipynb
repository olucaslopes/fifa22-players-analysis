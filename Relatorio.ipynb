{
 "cells": [
  {
   "cell_type": "markdown",
   "id": "810d5664",
   "metadata": {
    "pycharm": {
     "name": "#%% md\n"
    }
   },
   "source": [
    "<a class=\"anchor\" id=\"section-0\"></a>\n",
    "<img src=\"https://i.imgur.com/lTCPbz0.jpeg\" alt='logo puc-sp' width='30%' align='left'>\n",
    "\n",
    "### Pontifícia Universidade Católica de São Paulo (PUC-SP)\n",
    "\n",
    "<h1 style=font-size:30px>Machine Learning: Desvendando o Fifa 22</h1>\n",
    "\n",
    "\n",
    "### Bacharelado em Ciência de Dados e Inteligência Artificial\n",
    "\n",
    "#### Turma: CDIA21-MA\n",
    "\n",
    "**Professor:** Jefferson de Oliveira Silva\n",
    "\n",
    "### Integrantes\n",
    "\n",
    "<table align=\"left\" style=font-size:15px>\n",
    "<thead>\n",
    "  <tr>\n",
    "    <th style=\"text-align:left;\">Nome</th>\n",
    "    <th style=\"text-align:left;\">RA</th>\n",
    "    <th></th>\n",
    "  </tr>\n",
    "</thead>\n",
    "<tbody>\n",
    "  <tr>\n",
    "    <td style=\"text-align:left;\">Gustavo Schlieper Tessitore</td>\n",
    "    <td>RA00297844</td>\n",
    "    <td></td>\n",
    "  </tr>\n",
    "  <tr>\n",
    "    <td style=\"text-align:left;\">Isaac Higuchi</td>\n",
    "    <td>RA00306191</td>\n",
    "    <td></td>\n",
    "  </tr>\n",
    "  <tr>\n",
    "    <td style=\"text-align:left;\">João Pedro Taves Araujo</td>\n",
    "    <td>RA00297753</td>\n",
    "    <td></td>\n",
    "  </tr>\n",
    "  <tr>\n",
    "    <td style=\"text-align:left;\">Lucas Lopes Amorim</td>\n",
    "    <td>RA00303799</td>\n",
    "    <td></td>\n",
    "  </tr>\n",
    "</tbody>\n",
    "</table>"
   ]
  },
  {
   "cell_type": "markdown",
   "id": "4f603b35",
   "metadata": {
    "pycharm": {
     "name": "#%% md\n"
    }
   },
   "source": [
    "<h3><b>Estrutura:</b></h3>\n",
    "\n",
    "<ol>\n",
    "  <li><a href=\"#section-1\">Contextualização</a></li>\n",
    "  <li><a href=\"#section-2\">Problema de Negócio</a></li>\n",
    "  <li><a href=\"#section-3\">Método</a>\n",
    "      <ol style=\"list-style: none; padding-left: 10px\">\n",
    "          <li>3.1. <a href=\"#section-3-1\">Entendimento dos Dados</a></li>\n",
    "          <li>3.2. <a href=\"#section-3-2\">Preparação dos Dados</a></li>\n",
    "              <ol style=\"list-style: none; padding-left: 20px\">\n",
    "                  <li>3.2.1 <a href=\"#section-3-2-1\">Gerando novos atributos</a></li>\n",
    "                  <li>3.2.2 <a href=\"#section-3-2-2\">Tratando variáveis categórias</a></li>\n",
    "              </ol>\n",
    "          <li>3.3. <a href=\"#section-3-3\">Modelagem</a>\n",
    "              <ol style=\"list-style: none; padding-left: 20px\">\n",
    "                  <li>3.3.1 <a href=\"#section-3-3-1\">Modelo #2: Floresta Aleatória</a></li>\n",
    "                  <li>3.3.2 <a href=\"#section-3-3-2\">Modelo #1: Regressão Linear</a></li>\n",
    "                  <li>3.3.3 <a href=\"#section-3-3-3\">Modelo #3: Regressão Logística</a></li>\n",
    "                  <li>3.3.4 <a href=\"#section-3-3-4\">Modelo #4: Máquina de Vetores de Suporte</a></li>\n",
    "              </ol>\n",
    "          </li>\n",
    "          <li>3.4. <a href=\"#section-3-4\">Avaliação dos Modelos</a>\n",
    "              <ol style=\"list-style: none; padding-left: 20px\">\n",
    "                  <li>3.4.1 <a href=\"#section-3-4-1\">Modelo #1: Regressão Linear</a></li>\n",
    "                  <li>3.4.2 <a href=\"#section-3-4-2\">Modelo #2: Floresta Aleatória</a></li>\n",
    "                  <li>3.4.3 <a href=\"#section-3-4-3\">Modelo #3: Regressão Logística</a></li>\n",
    "                  <li>3.4.4 <a href=\"#section-3-4-4\">Modelo #4: Máquina de Vetores de Suporte</a></li>\n",
    "              </ol>\n",
    "          </li>\n",
    "          <li>3.5. <a href=\"#section-3-5\">Persistência e Disponibilização dos Modelos</a></li>\n",
    "    </ol>\n",
    "  </li>\n",
    "    <li><a href=\"#section-4\">Resultados</a></li>\n",
    "  <li href=\"#section-5\"><a href=\"#section-5\">Limitações</a></li>\n",
    "  <li><a href=\"#section-6\">Conclusões</a></li>\n",
    "</ol>\n",
    "<p><a href=\"#section-n\">Referências</a></p>"
   ]
  },
  {
   "cell_type": "markdown",
   "id": "df46b599",
   "metadata": {
    "pycharm": {
     "name": "#%% md\n"
    }
   },
   "source": [
    "# 1. Contextualização <a class=\"anchor\" id=\"section-1\"></a>\n",
    "[Voltar ao topo](#section-0)\n",
    "![Banner do jogo Fifa 22](https://i.imgur.com/8ATGwt4.jpg)"
   ]
  },
  {
   "cell_type": "markdown",
   "id": "34bb126d",
   "metadata": {
    "pycharm": {
     "name": "#%% md\n"
    }
   },
   "source": [
    "# TODO: enfatizar que o mercado de e-sports necessita de mais decisões data-driven"
   ]
  },
  {
   "cell_type": "markdown",
   "id": "acaedf4b",
   "metadata": {
    "pycharm": {
     "name": "#%% md\n"
    }
   },
   "source": [
    "Sendo o maior segmento da indústria do entretenimento desde 2003, segundo um infográfico disponibilizado pela En.Digital (com dados de empresas como: Newzoo, Statista etc.) o mercado mundial de games movimentou, apenas em 2021, mais de US\\\\$175 bilhões, de acordo com dados da consultoria Newzoo, e tem uma projeção até 2023 de crescimento que deve movimentar aproximadamente US\\\\$200 bilhões.\n",
    "\n",
    "Dentro desse enorme mercado, que atualmente representa mais de 65% do faturamento da indústria de entretenimento e ultrapassa facilmente o mercado cinematográfico e da música, temos grandes franquias consolidadas e conhecidas globalmente, como por exemplo: Grand Theft Auto, Pokémon, Super Mario, Call of Duty e muitas outras. \n",
    "\n",
    "Mas todo ano tem suas certezas: tem Natal em dezembro, quatro estações do ano e o lançamento de um novo FIFA. Todos os anos um novo FIFA nos surpreende faturando muito e reforçando sua marca na história dos games. Seu último lançamento em outubro de 2021, o FIFA 22, já contava com mais de 9 milhões de jogadores e 460 milhões de partidas jogadas nos quatro dias de acesso antecipado para quem comprou o jogo em pré-lançamento, segundo matéria do Canaltech.\n",
    "\n",
    "Sem dúvida um dos maiores reanimadores dos jogadores de FIFA foi o lançamento do FIFA Ultimate Team (FUT) dentro do jogo. Um modo onde você pode construir seu próprio time e se sentir como dono de um clube. Segundo o Globo Esporte, o modo Ultimate Team de jogos como FIFA 21, Madden NFL 21 e NHL 21 gerou US\\\\$ 1,62 bilhão (R\\\\$ 8,4 bilhões) de receita para a Electronic Arts no ano fiscal de 2020 (de abril de 2020 a março de 2021). Se tratava da maior arrecadação com o modo na história da desenvolvedora."
   ]
  },
  {
   "cell_type": "markdown",
   "id": "c4c6bacf",
   "metadata": {
    "pycharm": {
     "name": "#%% md\n"
    }
   },
   "source": [
    "# 2. Problema de Negócio <a class=\"anchor\" id=\"section-2\"></a>\n",
    "[Voltar ao topo](#section-0)\n",
    "![Workflow simplificado do projeto](https://i.imgur.com/gjucTUv.png)"
   ]
  },
  {
   "cell_type": "markdown",
   "id": "051172a5",
   "metadata": {
    "pycharm": {
     "name": "#%% md\n"
    }
   },
   "source": [
    "O mercado de *E-sports* é muito competitivo e necessita que cada decisão seja tomada cuidadosamente. Para o apoio da tomada de decisão, é preciso analisar uma quantidade muito grande de atributos, o que torna difícil para um ser humano, mesmo sendo um jogador profissional, assimilar todas as \"regras de negócio\" do jogo para que ele possa manifestar o seu melhor desempenho.\n",
    "\n",
    "O modo *Ultimate Team* é particularmente mais desafiador. Nele o jogador inicia o jogo com um time modesto e precisa além de desempenhar bem nos jogos, de uma grande capacidade de gerenciamento do seu time para poder evoluir, além de conhecimento sobre futebol porque nem todo jogador bom se encaixa no time por uma questão de entrosamento, seu estilo de jogo e seu gosto pessoal."
   ]
  },
  {
   "cell_type": "markdown",
   "id": "f878db59",
   "metadata": {
    "pycharm": {
     "name": "#%% md\n"
    }
   },
   "source": [
    "# TODO: Mudar o foco de jogador iniciante para jogadores profissionais\n",
    "# TODO: Destacar como é difícil aprender todas as regras do jogo pela sua complexidade (por haver muitos atributos relacionados a um jogador)"
   ]
  },
  {
   "cell_type": "markdown",
   "id": "085b3414",
   "metadata": {
    "pycharm": {
     "name": "#%% md\n"
    }
   },
   "source": [
    "Grandes sucessos geram grandes oportunidades de negócio. Sendo o FIFA, sem qualquer incerteza, uma das maiores franquias de games que existiram do mundo, criar algo com relação à franquia gera, no mínimo, grande atenção do público do jogo. Porém, jogar o modo Ultimate Team demanda habilidade de gerenciamento, já que os melhores jogadores custam valores altos que te “limitam” durante um tempo a ter muitos jogadores famosos e habilidosos, e conhecimento sobre o jogo e futebol porque nem todo jogador bom se encaixa no time devido ao entrosamento do time, seu estilo de jogo e seu gosto pessoal. Todas essas barreiras desanimam um jogador iniciante, logo, a fim de aumentar o público do jogo tornando-o mais acessível à amantes do futebol e engajando novatos no game, decidimos desenvolver um sistema de recomendação de cartas (cartas representam os jogadores de futebol dentro do jogo, contendo informações como: sua foto, nacionalidade, clube atual, overall e principais atributos) onde o jogador do FIFA receberá a recomendação das melhores cartas dada a posição escolhida, seu saldo disponível, "
   ]
  },
  {
   "cell_type": "markdown",
   "id": "a7bfc23c",
   "metadata": {
    "pycharm": {
     "name": "#%% md\n"
    }
   },
   "source": [
    "# 3. Método <a class=\"anchor\" id=\"section-3\"></a>\n",
    "[Voltar ao topo](#section-0)"
   ]
  },
  {
   "cell_type": "markdown",
   "id": "c37a89f3",
   "metadata": {
    "pycharm": {
     "name": "#%% md\n"
    }
   },
   "source": [
    "## 3.1 Entendimento dos Dados <a class=\"anchor\" id=\"section-3-1\"></a>\n",
    "[Voltar ao topo](#section-0)"
   ]
  },
  {
   "cell_type": "markdown",
   "id": "7e055dee",
   "metadata": {
    "pycharm": {
     "name": "#%% md\n"
    }
   },
   "source": []
  },
  {
   "cell_type": "markdown",
   "id": "3e6a1ed8",
   "metadata": {
    "pycharm": {
     "name": "#%% md\n"
    }
   },
   "source": [
    "## 3.2 Preparação dos Dados <a class=\"anchor\" id=\"section-3-2\"></a>\n",
    "[Voltar ao topo](#section-0)"
   ]
  },
  {
   "cell_type": "markdown",
   "id": "8db460b6",
   "metadata": {
    "pycharm": {
     "name": "#%% md\n"
    }
   },
   "source": [
    "### 3.2.1 Gerando novos atributos <a class=\"anchor\" id=\"section-3-2-1\"></a>\n",
    "[Voltar ao topo](#section-0)"
   ]
  },
  {
   "cell_type": "markdown",
   "id": "6cd5b9fe",
   "metadata": {
    "pycharm": {
     "name": "#%% md\n"
    }
   },
   "source": [
    "Os dados do nosso projeto foram armazenados no BigQuery, para poder consulta-los criamos uma função `execute` que pode ser encontrada em `fifa22-players-analysis/database/bq_connection.py`.\n",
    "Executamos a consulta:\n",
    "```sql\n",
    "SELECT * FROM `puc-sp.fifa.player`\n",
    "```\n",
    "E salvamos os dados em um arquivo tsv `raw_data.tsv`"
   ]
  },
  {
   "cell_type": "code",
   "execution_count": 18,
   "id": "8b19d404",
   "metadata": {
    "pycharm": {
     "name": "#%%\n"
    }
   },
   "outputs": [
    {
     "data": {
      "text/html": [
       "<div>\n",
       "<style scoped>\n",
       "    .dataframe tbody tr th:only-of-type {\n",
       "        vertical-align: middle;\n",
       "    }\n",
       "\n",
       "    .dataframe tbody tr th {\n",
       "        vertical-align: top;\n",
       "    }\n",
       "\n",
       "    .dataframe thead th {\n",
       "        text-align: right;\n",
       "    }\n",
       "</style>\n",
       "<table border=\"1\" class=\"dataframe\">\n",
       "  <thead>\n",
       "    <tr style=\"text-align: right;\">\n",
       "      <th></th>\n",
       "      <th>sofifa_id</th>\n",
       "      <th>player_url</th>\n",
       "      <th>short_name</th>\n",
       "      <th>long_name</th>\n",
       "      <th>player_positions</th>\n",
       "      <th>overall</th>\n",
       "      <th>potential</th>\n",
       "      <th>value_eur</th>\n",
       "      <th>wage_eur</th>\n",
       "      <th>dob</th>\n",
       "      <th>...</th>\n",
       "      <th>cdm</th>\n",
       "      <th>rdm</th>\n",
       "      <th>rwb</th>\n",
       "      <th>lb</th>\n",
       "      <th>lcb</th>\n",
       "      <th>cb</th>\n",
       "      <th>rcb</th>\n",
       "      <th>rb</th>\n",
       "      <th>gk</th>\n",
       "      <th>nationality_name</th>\n",
       "    </tr>\n",
       "  </thead>\n",
       "  <tbody>\n",
       "    <tr>\n",
       "      <th>0</th>\n",
       "      <td>167575</td>\n",
       "      <td>https://sofifa.com/player/167575/anton-shunin/...</td>\n",
       "      <td>A. Shunin</td>\n",
       "      <td>Anton Shunin</td>\n",
       "      <td>GK</td>\n",
       "      <td>76</td>\n",
       "      <td>76</td>\n",
       "      <td>NaN</td>\n",
       "      <td>NaN</td>\n",
       "      <td>1987-01-27</td>\n",
       "      <td>...</td>\n",
       "      <td>29+2</td>\n",
       "      <td>29+2</td>\n",
       "      <td>27+2</td>\n",
       "      <td>27+2</td>\n",
       "      <td>28+2</td>\n",
       "      <td>28+2</td>\n",
       "      <td>28+2</td>\n",
       "      <td>27+2</td>\n",
       "      <td>75+1</td>\n",
       "      <td>Russia</td>\n",
       "    </tr>\n",
       "    <tr>\n",
       "      <th>1</th>\n",
       "      <td>205211</td>\n",
       "      <td>https://sofifa.com/player/205211/milan-borjan/...</td>\n",
       "      <td>M. Borjan</td>\n",
       "      <td>Milan Borjan</td>\n",
       "      <td>GK</td>\n",
       "      <td>76</td>\n",
       "      <td>76</td>\n",
       "      <td>NaN</td>\n",
       "      <td>NaN</td>\n",
       "      <td>1987-10-23</td>\n",
       "      <td>...</td>\n",
       "      <td>37+2</td>\n",
       "      <td>37+2</td>\n",
       "      <td>31+2</td>\n",
       "      <td>31+2</td>\n",
       "      <td>35+2</td>\n",
       "      <td>35+2</td>\n",
       "      <td>35+2</td>\n",
       "      <td>31+2</td>\n",
       "      <td>75+1</td>\n",
       "      <td>Canada</td>\n",
       "    </tr>\n",
       "    <tr>\n",
       "      <th>2</th>\n",
       "      <td>244700</td>\n",
       "      <td>https://sofifa.com/player/244700/yuriy-dyupin/...</td>\n",
       "      <td>Y. Dyupin</td>\n",
       "      <td>Yuriy Dyupin</td>\n",
       "      <td>GK</td>\n",
       "      <td>74</td>\n",
       "      <td>74</td>\n",
       "      <td>NaN</td>\n",
       "      <td>NaN</td>\n",
       "      <td>1988-03-17</td>\n",
       "      <td>...</td>\n",
       "      <td>22+2</td>\n",
       "      <td>22+2</td>\n",
       "      <td>19+2</td>\n",
       "      <td>18+2</td>\n",
       "      <td>22+2</td>\n",
       "      <td>22+2</td>\n",
       "      <td>22+2</td>\n",
       "      <td>18+2</td>\n",
       "      <td>73+1</td>\n",
       "      <td>Russia</td>\n",
       "    </tr>\n",
       "    <tr>\n",
       "      <th>3</th>\n",
       "      <td>199904</td>\n",
       "      <td>https://sofifa.com/player/199904/jesse-joronen...</td>\n",
       "      <td>J. Joronen</td>\n",
       "      <td>Jesse Pekka Joronen</td>\n",
       "      <td>GK</td>\n",
       "      <td>72</td>\n",
       "      <td>72</td>\n",
       "      <td>NaN</td>\n",
       "      <td>NaN</td>\n",
       "      <td>1993-03-21</td>\n",
       "      <td>...</td>\n",
       "      <td>27+2</td>\n",
       "      <td>27+2</td>\n",
       "      <td>26+2</td>\n",
       "      <td>26+2</td>\n",
       "      <td>27+2</td>\n",
       "      <td>27+2</td>\n",
       "      <td>27+2</td>\n",
       "      <td>26+2</td>\n",
       "      <td>71+1</td>\n",
       "      <td>Finland</td>\n",
       "    </tr>\n",
       "    <tr>\n",
       "      <th>4</th>\n",
       "      <td>240225</td>\n",
       "      <td>https://sofifa.com/player/240225/matvey-safono...</td>\n",
       "      <td>M. Safonov</td>\n",
       "      <td>Matvey Safonov</td>\n",
       "      <td>GK</td>\n",
       "      <td>72</td>\n",
       "      <td>82</td>\n",
       "      <td>NaN</td>\n",
       "      <td>NaN</td>\n",
       "      <td>1999-02-25</td>\n",
       "      <td>...</td>\n",
       "      <td>24+2</td>\n",
       "      <td>24+2</td>\n",
       "      <td>19+2</td>\n",
       "      <td>19+2</td>\n",
       "      <td>25+2</td>\n",
       "      <td>25+2</td>\n",
       "      <td>25+2</td>\n",
       "      <td>19+2</td>\n",
       "      <td>71+2</td>\n",
       "      <td>Russia</td>\n",
       "    </tr>\n",
       "    <tr>\n",
       "      <th>...</th>\n",
       "      <td>...</td>\n",
       "      <td>...</td>\n",
       "      <td>...</td>\n",
       "      <td>...</td>\n",
       "      <td>...</td>\n",
       "      <td>...</td>\n",
       "      <td>...</td>\n",
       "      <td>...</td>\n",
       "      <td>...</td>\n",
       "      <td>...</td>\n",
       "      <td>...</td>\n",
       "      <td>...</td>\n",
       "      <td>...</td>\n",
       "      <td>...</td>\n",
       "      <td>...</td>\n",
       "      <td>...</td>\n",
       "      <td>...</td>\n",
       "      <td>...</td>\n",
       "      <td>...</td>\n",
       "      <td>...</td>\n",
       "      <td>...</td>\n",
       "    </tr>\n",
       "    <tr>\n",
       "      <th>19234</th>\n",
       "      <td>262593</td>\n",
       "      <td>https://sofifa.com/player/262593/moritz-seiffe...</td>\n",
       "      <td>M. Seiffert</td>\n",
       "      <td>Moritz Seiffert</td>\n",
       "      <td>LW</td>\n",
       "      <td>58</td>\n",
       "      <td>66</td>\n",
       "      <td>450000.0</td>\n",
       "      <td>600.0</td>\n",
       "      <td>2000-11-04</td>\n",
       "      <td>...</td>\n",
       "      <td>40+2</td>\n",
       "      <td>40+2</td>\n",
       "      <td>44+2</td>\n",
       "      <td>42+2</td>\n",
       "      <td>37+2</td>\n",
       "      <td>37+2</td>\n",
       "      <td>37+2</td>\n",
       "      <td>42+2</td>\n",
       "      <td>14+2</td>\n",
       "      <td>Germany</td>\n",
       "    </tr>\n",
       "    <tr>\n",
       "      <th>19235</th>\n",
       "      <td>262614</td>\n",
       "      <td>https://sofifa.com/player/262614/till-muschkow...</td>\n",
       "      <td>T. Muschkowski</td>\n",
       "      <td>Till Muschkowski</td>\n",
       "      <td>RW</td>\n",
       "      <td>55</td>\n",
       "      <td>65</td>\n",
       "      <td>275000.0</td>\n",
       "      <td>550.0</td>\n",
       "      <td>2001-05-06</td>\n",
       "      <td>...</td>\n",
       "      <td>44+2</td>\n",
       "      <td>44+2</td>\n",
       "      <td>47+2</td>\n",
       "      <td>45+2</td>\n",
       "      <td>39+2</td>\n",
       "      <td>39+2</td>\n",
       "      <td>39+2</td>\n",
       "      <td>45+2</td>\n",
       "      <td>11+2</td>\n",
       "      <td>Germany</td>\n",
       "    </tr>\n",
       "    <tr>\n",
       "      <th>19236</th>\n",
       "      <td>262755</td>\n",
       "      <td>https://sofifa.com/player/262755/shalva-ogbaid...</td>\n",
       "      <td>S. Ogbaidze</td>\n",
       "      <td>Shalva Ogbaidze</td>\n",
       "      <td>ST</td>\n",
       "      <td>55</td>\n",
       "      <td>65</td>\n",
       "      <td>275000.0</td>\n",
       "      <td>500.0</td>\n",
       "      <td>2002-08-01</td>\n",
       "      <td>...</td>\n",
       "      <td>39+2</td>\n",
       "      <td>39+2</td>\n",
       "      <td>40+2</td>\n",
       "      <td>38+2</td>\n",
       "      <td>36+2</td>\n",
       "      <td>36+2</td>\n",
       "      <td>36+2</td>\n",
       "      <td>38+2</td>\n",
       "      <td>14+2</td>\n",
       "      <td>Georgia</td>\n",
       "    </tr>\n",
       "    <tr>\n",
       "      <th>19237</th>\n",
       "      <td>262756</td>\n",
       "      <td>https://sofifa.com/player/262756/matteo-gumane...</td>\n",
       "      <td>M. Gumaneh</td>\n",
       "      <td>Matteo Gumaneh</td>\n",
       "      <td>ST</td>\n",
       "      <td>55</td>\n",
       "      <td>67</td>\n",
       "      <td>300000.0</td>\n",
       "      <td>500.0</td>\n",
       "      <td>2002-09-05</td>\n",
       "      <td>...</td>\n",
       "      <td>37+2</td>\n",
       "      <td>37+2</td>\n",
       "      <td>40+2</td>\n",
       "      <td>38+2</td>\n",
       "      <td>34+2</td>\n",
       "      <td>34+2</td>\n",
       "      <td>34+2</td>\n",
       "      <td>38+2</td>\n",
       "      <td>15+2</td>\n",
       "      <td>Germany</td>\n",
       "    </tr>\n",
       "    <tr>\n",
       "      <th>19238</th>\n",
       "      <td>263236</td>\n",
       "      <td>https://sofifa.com/player/263236/yazid-heimur/...</td>\n",
       "      <td>Y. Heimur</td>\n",
       "      <td>Yazid Heimur</td>\n",
       "      <td>CM</td>\n",
       "      <td>55</td>\n",
       "      <td>66</td>\n",
       "      <td>275000.0</td>\n",
       "      <td>500.0</td>\n",
       "      <td>2002-11-18</td>\n",
       "      <td>...</td>\n",
       "      <td>51+2</td>\n",
       "      <td>51+2</td>\n",
       "      <td>48+2</td>\n",
       "      <td>48+2</td>\n",
       "      <td>48+2</td>\n",
       "      <td>48+2</td>\n",
       "      <td>48+2</td>\n",
       "      <td>48+2</td>\n",
       "      <td>16+2</td>\n",
       "      <td>Germany</td>\n",
       "    </tr>\n",
       "  </tbody>\n",
       "</table>\n",
       "<p>19239 rows × 91 columns</p>\n",
       "</div>"
      ],
      "text/plain": [
       "       sofifa_id                                         player_url  \\\n",
       "0         167575  https://sofifa.com/player/167575/anton-shunin/...   \n",
       "1         205211  https://sofifa.com/player/205211/milan-borjan/...   \n",
       "2         244700  https://sofifa.com/player/244700/yuriy-dyupin/...   \n",
       "3         199904  https://sofifa.com/player/199904/jesse-joronen...   \n",
       "4         240225  https://sofifa.com/player/240225/matvey-safono...   \n",
       "...          ...                                                ...   \n",
       "19234     262593  https://sofifa.com/player/262593/moritz-seiffe...   \n",
       "19235     262614  https://sofifa.com/player/262614/till-muschkow...   \n",
       "19236     262755  https://sofifa.com/player/262755/shalva-ogbaid...   \n",
       "19237     262756  https://sofifa.com/player/262756/matteo-gumane...   \n",
       "19238     263236  https://sofifa.com/player/263236/yazid-heimur/...   \n",
       "\n",
       "           short_name            long_name player_positions  overall  \\\n",
       "0           A. Shunin         Anton Shunin               GK       76   \n",
       "1           M. Borjan         Milan Borjan               GK       76   \n",
       "2           Y. Dyupin         Yuriy Dyupin               GK       74   \n",
       "3          J. Joronen  Jesse Pekka Joronen               GK       72   \n",
       "4          M. Safonov       Matvey Safonov               GK       72   \n",
       "...               ...                  ...              ...      ...   \n",
       "19234     M. Seiffert      Moritz Seiffert               LW       58   \n",
       "19235  T. Muschkowski     Till Muschkowski               RW       55   \n",
       "19236     S. Ogbaidze      Shalva Ogbaidze               ST       55   \n",
       "19237      M. Gumaneh       Matteo Gumaneh               ST       55   \n",
       "19238       Y. Heimur         Yazid Heimur               CM       55   \n",
       "\n",
       "       potential  value_eur  wage_eur         dob  ...   cdm   rdm   rwb  \\\n",
       "0             76        NaN       NaN  1987-01-27  ...  29+2  29+2  27+2   \n",
       "1             76        NaN       NaN  1987-10-23  ...  37+2  37+2  31+2   \n",
       "2             74        NaN       NaN  1988-03-17  ...  22+2  22+2  19+2   \n",
       "3             72        NaN       NaN  1993-03-21  ...  27+2  27+2  26+2   \n",
       "4             82        NaN       NaN  1999-02-25  ...  24+2  24+2  19+2   \n",
       "...          ...        ...       ...         ...  ...   ...   ...   ...   \n",
       "19234         66   450000.0     600.0  2000-11-04  ...  40+2  40+2  44+2   \n",
       "19235         65   275000.0     550.0  2001-05-06  ...  44+2  44+2  47+2   \n",
       "19236         65   275000.0     500.0  2002-08-01  ...  39+2  39+2  40+2   \n",
       "19237         67   300000.0     500.0  2002-09-05  ...  37+2  37+2  40+2   \n",
       "19238         66   275000.0     500.0  2002-11-18  ...  51+2  51+2  48+2   \n",
       "\n",
       "         lb   lcb    cb   rcb    rb    gk nationality_name  \n",
       "0      27+2  28+2  28+2  28+2  27+2  75+1           Russia  \n",
       "1      31+2  35+2  35+2  35+2  31+2  75+1           Canada  \n",
       "2      18+2  22+2  22+2  22+2  18+2  73+1           Russia  \n",
       "3      26+2  27+2  27+2  27+2  26+2  71+1          Finland  \n",
       "4      19+2  25+2  25+2  25+2  19+2  71+2           Russia  \n",
       "...     ...   ...   ...   ...   ...   ...              ...  \n",
       "19234  42+2  37+2  37+2  37+2  42+2  14+2          Germany  \n",
       "19235  45+2  39+2  39+2  39+2  45+2  11+2          Germany  \n",
       "19236  38+2  36+2  36+2  36+2  38+2  14+2          Georgia  \n",
       "19237  38+2  34+2  34+2  34+2  38+2  15+2          Germany  \n",
       "19238  48+2  48+2  48+2  48+2  48+2  16+2          Germany  \n",
       "\n",
       "[19239 rows x 91 columns]"
      ]
     },
     "execution_count": 18,
     "metadata": {},
     "output_type": "execute_result"
    }
   ],
   "source": [
    "import pandas as pd\n",
    "data = pd.read_csv(\"./preprocessing/data/raw_data.tsv\", sep=\"\\t\", low_memory=False)\n",
    "data"
   ]
  },
  {
   "cell_type": "markdown",
   "id": "4c693548",
   "metadata": {
    "pycharm": {
     "name": "#%% md\n"
    }
   },
   "source": [
    "Nesse conjunto de dados precisamos fazer algumas tratativas para poder passar o máximo de informação possível para os modelos.\n",
    "Uma informação que é de grande interesse é a idade dos jogadores, mas temos apenas a coluna `dob` (date of birth), mas podemos facilmente calcular a idade."
   ]
  },
  {
   "cell_type": "code",
   "execution_count": 19,
   "id": "82e25d2f",
   "metadata": {
    "pycharm": {
     "name": "#%%\n"
    }
   },
   "outputs": [
    {
     "data": {
      "text/html": [
       "<div>\n",
       "<style scoped>\n",
       "    .dataframe tbody tr th:only-of-type {\n",
       "        vertical-align: middle;\n",
       "    }\n",
       "\n",
       "    .dataframe tbody tr th {\n",
       "        vertical-align: top;\n",
       "    }\n",
       "\n",
       "    .dataframe thead th {\n",
       "        text-align: right;\n",
       "    }\n",
       "</style>\n",
       "<table border=\"1\" class=\"dataframe\">\n",
       "  <thead>\n",
       "    <tr style=\"text-align: right;\">\n",
       "      <th></th>\n",
       "      <th>dob</th>\n",
       "      <th>age</th>\n",
       "    </tr>\n",
       "  </thead>\n",
       "  <tbody>\n",
       "    <tr>\n",
       "      <th>0</th>\n",
       "      <td>1987-01-27</td>\n",
       "      <td>35</td>\n",
       "    </tr>\n",
       "    <tr>\n",
       "      <th>1</th>\n",
       "      <td>1987-10-23</td>\n",
       "      <td>34</td>\n",
       "    </tr>\n",
       "    <tr>\n",
       "      <th>2</th>\n",
       "      <td>1988-03-17</td>\n",
       "      <td>34</td>\n",
       "    </tr>\n",
       "    <tr>\n",
       "      <th>3</th>\n",
       "      <td>1993-03-21</td>\n",
       "      <td>29</td>\n",
       "    </tr>\n",
       "    <tr>\n",
       "      <th>4</th>\n",
       "      <td>1999-02-25</td>\n",
       "      <td>23</td>\n",
       "    </tr>\n",
       "  </tbody>\n",
       "</table>\n",
       "</div>"
      ],
      "text/plain": [
       "         dob  age\n",
       "0 1987-01-27   35\n",
       "1 1987-10-23   34\n",
       "2 1988-03-17   34\n",
       "3 1993-03-21   29\n",
       "4 1999-02-25   23"
      ]
     },
     "execution_count": 19,
     "metadata": {},
     "output_type": "execute_result"
    }
   ],
   "source": [
    "from datetime import date, datetime\n",
    "\n",
    "current_date = datetime.today()\n",
    "data.dob = pd.to_datetime(data.dob)\n",
    "\n",
    "def age(dob):\n",
    "    today = date.today()\n",
    "    return today.year - dob.year - ((today.month, today.day) < (dob.month, dob.day))\n",
    "\n",
    "data[\"age\"] = data.dob.apply(age)\n",
    "data[[\"dob\", \"age\"]].head()"
   ]
  },
  {
   "cell_type": "markdown",
   "id": "7d871595",
   "metadata": {
    "pycharm": {
     "name": "#%% md\n"
    }
   },
   "source": [
    "Outra característica dos jogadores que é do nosso interesse é o indice de massa corporal,\n",
    "e alguns atributos falando a respeito do grau de obesidade ou magreza dos jogadores.\n",
    "De acordo com o site [saúde fácil](https://www.programasaudefacil.com.br/calculadora-de-imc) temos a seguinte tabela\n",
    "para classificar o imc:\n",
    "\n",
    "<br>\n",
    "<table align=\"left\" style=font-size:15px>\n",
    "<thead>\n",
    "  <tr>\n",
    "    <th style=\"text-align:left;\">IMC</th>\n",
    "    <th style=\"text-align:left;\">Classificação</th>\n",
    "    <th></th>\n",
    "  </tr>\n",
    "</thead>\n",
    "<tbody>\n",
    "  <tr>\n",
    "    <td style=\"text-align:left;\">MENOR QUE 18,5</td>\n",
    "    <td>MAGREZA</td>\n",
    "    <td></td>\n",
    "  </tr>\n",
    "  <tr>\n",
    "    <td style=\"text-align:left;\">ENTRE 18,5 E 24,9</td>\n",
    "    <td>NORMAL</td>\n",
    "    <td></td>\n",
    "  </tr>\n",
    "  <tr>\n",
    "    <td style=\"text-align:left;\">ENTRE 25,0 E 29,9</td>\n",
    "    <td>SOBREPESO</td>\n",
    "    <td></td>\n",
    "  </tr>\n",
    "  <tr>\n",
    "    <td style=\"text-align:left;\">ENTRE 30,0 E 39,9</td>\n",
    "    <td>OBESIDADE</td>\n",
    "    <td></td>\n",
    "  </tr>\n",
    "</tbody>\n",
    "</table>"
   ]
  },
  {
   "cell_type": "markdown",
   "id": "4dc284f3",
   "metadata": {
    "pycharm": {
     "name": "#%% md\n"
    }
   },
   "source": [
    "Agora para poder implementar essas informações no nosso conjunto de dados vamos\n",
    "precisar da ajuda dos conceitos aprendidos nas aulas de Engenharia de Software.\n",
    "Primeiramente precisamos definir a fórmula do IMC, que é descrita pela seguinte função:\n",
    "\n",
    "$$IMC = \\frac{peso}{altura^2}$$\n",
    "\n",
    "O peso é em Kg e a altura em metros.\n",
    "\n",
    "Agora precisamos definir como essas informações seriam implementada no mundo lógico para depois traduzi-la para Python. Para isso vamos precisar das seguintes variáveis:\n",
    "<br>\n",
    "VARIÁVEIS\n",
    "$$peso: Peso$$\n",
    "$$altura: Altura$$\n",
    "$$imc: Float$$\n",
    "$$obesidade: Boolean$$\n",
    "$$magreza: Boolean$$\n",
    "$$normal: Boolean$$\n",
    "$$válido: Boolean$$\n",
    "$$jogadores: Sequencia$$\n",
    "\n",
    "<br>\n",
    "\n",
    "Assim temos que o nosso predicado de inicio é:\n",
    "\n",
    "$$inicio \\triangleq\\wedge peso = \\bot$$\n",
    "$$\\wedge altura = \\bot$$\n",
    "$$\\wedge imc = \\bot$$\n",
    "$$\\wedge obesidade = \\bot$$\n",
    "$$\\wedge magreza = \\bot$$\n",
    "$$\\wedge normal = \\bot$$\n",
    "$$\\wedge válido = False$$\n",
    "$$\\wedge jogadores = \\langle ~ \\rangle$$\n",
    "\n",
    "<br>\n",
    "\n",
    "Para ajudar na implementação vamos definir os tipos Peso e Altura, mas antes vamos entender os limites desses tipos"
   ]
  },
  {
   "cell_type": "code",
   "execution_count": 33,
   "id": "c27f0db6",
   "metadata": {
    "pycharm": {
     "name": "#%%\n"
    }
   },
   "outputs": [
    {
     "name": "stdout",
     "output_type": "stream",
     "text": [
      "Peso entre 49.00 Kg e 110.00 Kg\n",
      "Altura entre 1.55 m e 2.06 m\n"
     ]
    }
   ],
   "source": [
    "max_weight = data.weight_kg.max()\n",
    "min_weight = data.weight_kg.min()\n",
    "print(f\"Peso entre {min_weight:.2f} Kg e {max_weight:.2f} Kg\")\n",
    "\n",
    "max_height = data.height_cm.max() / 100\n",
    "min_height = data.height_cm.min() / 100\n",
    "print(f\"Altura entre {min_height:.2f} m e {max_height:.2f} m\")"
   ]
  },
  {
   "cell_type": "markdown",
   "id": "654034f2",
   "metadata": {
    "pycharm": {
     "name": "#%% md\n"
    }
   },
   "source": [
    "$$Peso \\triangleq [~p: Float~|~40 < p < 150~]$$\n",
    "$$Altura \\triangleq [~a: Float~|~1.4 < a < 2.2~]$$\n",
    "\n",
    "<br>\n",
    "\n",
    "Assim definimos os tipos $Peso$ e $Altura$ com os limites conforme o nosso conjunto de dados mais uma margem de erro arbitrária\n",
    "\n",
    "<br>\n",
    "\n",
    "Agora vamos definir a função que calcula o IMC:\n",
    "\n",
    "$$calculaIMC \\triangleq \\lambda peso : Peso, ~ altura : Altura \\bullet \\frac{peso}{altura^2}$$\n",
    "\n",
    "Uma que verifica a obesidade:\n",
    "\n",
    "$$verificaObesidade \\triangleq \\lambda imc : Float \\bullet ~\\textbf{if}~ imc \\geq 30 ~\\textbf{then}~ True ~\\textbf{else}~ False$$\n",
    "\n",
    "Uma que verifica a magreza:\n",
    "\n",
    "$$verificaMagreza \\triangleq \\lambda imc : Float \\bullet ~\\textbf{if}~ imc \\leq 18.5 ~\\textbf{then}~ True ~\\textbf{else}~ False$$\n",
    "\n",
    "E outra que verifica a normalidade:\n",
    "\n",
    "$$verificaNormal \\triangleq \\lambda imc : Float \\bullet ~\\textbf{if}~ 18.5 < imc < 30 ~\\textbf{then}~ True ~\\textbf{else}~ False$$\n",
    "\n",
    "<br>\n",
    "\n",
    "Classificando um jogador\n",
    "\n",
    "$$classificaJogador_1[p,~a] \\triangleq\\wedge Peso(p)~\\wedge Altura(a)$$\n",
    "$$\\wedge peso' = Peso(p)$$\n",
    "$$\\wedge altura' = Altura(a)$$\n",
    "$$\\wedge imc' = calculaIMC(peso', altura')$$\n",
    "$$\\wedge obesidade' = verificaObesidade(imc')$$\n",
    "$$\\wedge magreza' = verificaMagreza(imc')$$\n",
    "$$\\wedge normal' = verificaNormal(imc')$$\n",
    "$$\\wedge jogadores' = jogadores \\frown \\langle(peso', altura', imc', obesidade', magreza')\\rangle$$\n",
    "$$\\wedge válido' = True$$\n",
    "<br>\n",
    "<br>\n",
    "$$classificaJogador_2[p,~a] \\triangleq \\wedge (\\lnot Peso(p) \\lor \\lnot Altura(a))$$\n",
    "$$\\wedge peso' = \\bot$$\n",
    "$$\\wedge altura' = \\bot$$\n",
    "$$\\wedge imc' = \\bot$$\n",
    "$$\\wedge obesidade' = \\bot$$\n",
    "$$\\wedge magreza' = \\bot$$\n",
    "$$\\wedge normal' = \\bot$$\n",
    "$$\\wedge jogadores' = jogadores$$\n",
    "$$\\wedge válido' = False$$\n",
    "<br>\n",
    "<br>\n",
    "$$classificaJogador[p,~a] \\triangleq classificaJogador_1[p,~a] \\lor classificaJogador_2[p,~a]$$\n",
    "\n",
    "Agora implementando essa lógica em python"
   ]
  },
  {
   "cell_type": "code",
   "execution_count": 37,
   "id": "98a59846",
   "metadata": {
    "pycharm": {
     "name": "#%%\n"
    }
   },
   "outputs": [
    {
     "data": {
      "text/html": [
       "<div>\n",
       "<style scoped>\n",
       "    .dataframe tbody tr th:only-of-type {\n",
       "        vertical-align: middle;\n",
       "    }\n",
       "\n",
       "    .dataframe tbody tr th {\n",
       "        vertical-align: top;\n",
       "    }\n",
       "\n",
       "    .dataframe thead th {\n",
       "        text-align: right;\n",
       "    }\n",
       "</style>\n",
       "<table border=\"1\" class=\"dataframe\">\n",
       "  <thead>\n",
       "    <tr style=\"text-align: right;\">\n",
       "      <th></th>\n",
       "      <th>imc</th>\n",
       "      <th>obesidade</th>\n",
       "      <th>magreza</th>\n",
       "      <th>normal</th>\n",
       "      <th>valido</th>\n",
       "    </tr>\n",
       "  </thead>\n",
       "  <tbody>\n",
       "    <tr>\n",
       "      <th>0</th>\n",
       "      <td>24.122146</td>\n",
       "      <td>False</td>\n",
       "      <td>False</td>\n",
       "      <td>True</td>\n",
       "      <td>True</td>\n",
       "    </tr>\n",
       "    <tr>\n",
       "      <th>1</th>\n",
       "      <td>21.865889</td>\n",
       "      <td>False</td>\n",
       "      <td>False</td>\n",
       "      <td>True</td>\n",
       "      <td>True</td>\n",
       "    </tr>\n",
       "    <tr>\n",
       "      <th>2</th>\n",
       "      <td>24.021276</td>\n",
       "      <td>False</td>\n",
       "      <td>False</td>\n",
       "      <td>True</td>\n",
       "      <td>True</td>\n",
       "    </tr>\n",
       "    <tr>\n",
       "      <th>3</th>\n",
       "      <td>22.932825</td>\n",
       "      <td>False</td>\n",
       "      <td>False</td>\n",
       "      <td>True</td>\n",
       "      <td>True</td>\n",
       "    </tr>\n",
       "    <tr>\n",
       "      <th>4</th>\n",
       "      <td>22.243924</td>\n",
       "      <td>False</td>\n",
       "      <td>False</td>\n",
       "      <td>True</td>\n",
       "      <td>True</td>\n",
       "    </tr>\n",
       "  </tbody>\n",
       "</table>\n",
       "</div>"
      ],
      "text/plain": [
       "         imc  obesidade  magreza  normal  valido\n",
       "0  24.122146      False    False    True    True\n",
       "1  21.865889      False    False    True    True\n",
       "2  24.021276      False    False    True    True\n",
       "3  22.932825      False    False    True    True\n",
       "4  22.243924      False    False    True    True"
      ]
     },
     "execution_count": 37,
     "metadata": {},
     "output_type": "execute_result"
    }
   ],
   "source": [
    "# Inicio\n",
    "peso: float = 0\n",
    "altura: float = 0\n",
    "imc: float = 0\n",
    "obesidade: bool = False\n",
    "magreza: bool = False\n",
    "normal: bool = False\n",
    "valido: bool = False\n",
    "jogadores: list = []\n",
    "# Adicionar válido\n",
    "\n",
    "\n",
    "\n",
    "def valida_peso(p):\n",
    "    return 40 < p < 150\n",
    "\n",
    "\n",
    "def valida_altura(a):\n",
    "    return 1.4 < a < 2.2\n",
    "\n",
    "\n",
    "def calcula_imc(peso: float, altura: float) -> float:\n",
    "    return peso / (altura ** 2)\n",
    "\n",
    "\n",
    "def verifica_obesidade(imc: float) -> bool:\n",
    "    return imc >= 30\n",
    "\n",
    "\n",
    "def verifica_magreza(imc: float) -> bool:\n",
    "    return imc <= 18.5\n",
    "\n",
    "\n",
    "def verifica_normal(imc: float) -> bool:\n",
    "    return 18.5 < imc < 30\n",
    "\n",
    "\n",
    "def classifica_jogador(peso: float, altura: float) -> None:\n",
    "    global jogadores\n",
    "    if valida_altura(altura) and valida_peso(peso):\n",
    "        imc = calcula_imc(peso, altura)\n",
    "        obesidade = verifica_obesidade(imc)\n",
    "        magreza = verifica_magreza(imc)\n",
    "        normal = verifica_normal(imc)\n",
    "        valido = True\n",
    "    else:\n",
    "        raise ValueError(\"Peso ou altura inválidos\")\n",
    "    jogadores.append((imc, obesidade, magreza, normal, valido))\n",
    "\n",
    "\n",
    "# Iterando sobre o dataframe\n",
    "for row in data.itertuples():\n",
    "    classifica_jogador(row.weight_kg, row.height_cm / 100)\n",
    "\n",
    "jogadores_df = pd.DataFrame(jogadores, columns=[\"imc\", \"obesidade\", \"magreza\", \"normal\", \"valido\"])\n",
    "jogadores_df.head()"
   ]
  },
  {
   "cell_type": "code",
   "execution_count": 39,
   "id": "6336f89c",
   "metadata": {
    "pycharm": {
     "name": "#%%\n"
    }
   },
   "outputs": [
    {
     "data": {
      "text/html": [
       "<div>\n",
       "<style scoped>\n",
       "    .dataframe tbody tr th:only-of-type {\n",
       "        vertical-align: middle;\n",
       "    }\n",
       "\n",
       "    .dataframe tbody tr th {\n",
       "        vertical-align: top;\n",
       "    }\n",
       "\n",
       "    .dataframe thead th {\n",
       "        text-align: right;\n",
       "    }\n",
       "</style>\n",
       "<table border=\"1\" class=\"dataframe\">\n",
       "  <thead>\n",
       "    <tr style=\"text-align: right;\">\n",
       "      <th></th>\n",
       "      <th>sofifa_id</th>\n",
       "      <th>player_url</th>\n",
       "      <th>short_name</th>\n",
       "      <th>long_name</th>\n",
       "      <th>player_positions</th>\n",
       "      <th>overall</th>\n",
       "      <th>potential</th>\n",
       "      <th>value_eur</th>\n",
       "      <th>wage_eur</th>\n",
       "      <th>dob</th>\n",
       "      <th>...</th>\n",
       "      <th>cb</th>\n",
       "      <th>rcb</th>\n",
       "      <th>rb</th>\n",
       "      <th>gk</th>\n",
       "      <th>nationality_name</th>\n",
       "      <th>age</th>\n",
       "      <th>BMI</th>\n",
       "      <th>obese</th>\n",
       "      <th>lean</th>\n",
       "      <th>normal</th>\n",
       "    </tr>\n",
       "  </thead>\n",
       "  <tbody>\n",
       "    <tr>\n",
       "      <th>0</th>\n",
       "      <td>167575</td>\n",
       "      <td>https://sofifa.com/player/167575/anton-shunin/...</td>\n",
       "      <td>A. Shunin</td>\n",
       "      <td>Anton Shunin</td>\n",
       "      <td>GK</td>\n",
       "      <td>76</td>\n",
       "      <td>76</td>\n",
       "      <td>NaN</td>\n",
       "      <td>NaN</td>\n",
       "      <td>1987-01-27</td>\n",
       "      <td>...</td>\n",
       "      <td>28+2</td>\n",
       "      <td>28+2</td>\n",
       "      <td>27+2</td>\n",
       "      <td>75+1</td>\n",
       "      <td>Russia</td>\n",
       "      <td>35</td>\n",
       "      <td>24.122146</td>\n",
       "      <td>0</td>\n",
       "      <td>0</td>\n",
       "      <td>1</td>\n",
       "    </tr>\n",
       "    <tr>\n",
       "      <th>1</th>\n",
       "      <td>205211</td>\n",
       "      <td>https://sofifa.com/player/205211/milan-borjan/...</td>\n",
       "      <td>M. Borjan</td>\n",
       "      <td>Milan Borjan</td>\n",
       "      <td>GK</td>\n",
       "      <td>76</td>\n",
       "      <td>76</td>\n",
       "      <td>NaN</td>\n",
       "      <td>NaN</td>\n",
       "      <td>1987-10-23</td>\n",
       "      <td>...</td>\n",
       "      <td>35+2</td>\n",
       "      <td>35+2</td>\n",
       "      <td>31+2</td>\n",
       "      <td>75+1</td>\n",
       "      <td>Canada</td>\n",
       "      <td>34</td>\n",
       "      <td>21.865889</td>\n",
       "      <td>0</td>\n",
       "      <td>0</td>\n",
       "      <td>1</td>\n",
       "    </tr>\n",
       "    <tr>\n",
       "      <th>2</th>\n",
       "      <td>244700</td>\n",
       "      <td>https://sofifa.com/player/244700/yuriy-dyupin/...</td>\n",
       "      <td>Y. Dyupin</td>\n",
       "      <td>Yuriy Dyupin</td>\n",
       "      <td>GK</td>\n",
       "      <td>74</td>\n",
       "      <td>74</td>\n",
       "      <td>NaN</td>\n",
       "      <td>NaN</td>\n",
       "      <td>1988-03-17</td>\n",
       "      <td>...</td>\n",
       "      <td>22+2</td>\n",
       "      <td>22+2</td>\n",
       "      <td>18+2</td>\n",
       "      <td>73+1</td>\n",
       "      <td>Russia</td>\n",
       "      <td>34</td>\n",
       "      <td>24.021276</td>\n",
       "      <td>0</td>\n",
       "      <td>0</td>\n",
       "      <td>1</td>\n",
       "    </tr>\n",
       "    <tr>\n",
       "      <th>3</th>\n",
       "      <td>199904</td>\n",
       "      <td>https://sofifa.com/player/199904/jesse-joronen...</td>\n",
       "      <td>J. Joronen</td>\n",
       "      <td>Jesse Pekka Joronen</td>\n",
       "      <td>GK</td>\n",
       "      <td>72</td>\n",
       "      <td>72</td>\n",
       "      <td>NaN</td>\n",
       "      <td>NaN</td>\n",
       "      <td>1993-03-21</td>\n",
       "      <td>...</td>\n",
       "      <td>27+2</td>\n",
       "      <td>27+2</td>\n",
       "      <td>26+2</td>\n",
       "      <td>71+1</td>\n",
       "      <td>Finland</td>\n",
       "      <td>29</td>\n",
       "      <td>22.932825</td>\n",
       "      <td>0</td>\n",
       "      <td>0</td>\n",
       "      <td>1</td>\n",
       "    </tr>\n",
       "    <tr>\n",
       "      <th>4</th>\n",
       "      <td>240225</td>\n",
       "      <td>https://sofifa.com/player/240225/matvey-safono...</td>\n",
       "      <td>M. Safonov</td>\n",
       "      <td>Matvey Safonov</td>\n",
       "      <td>GK</td>\n",
       "      <td>72</td>\n",
       "      <td>82</td>\n",
       "      <td>NaN</td>\n",
       "      <td>NaN</td>\n",
       "      <td>1999-02-25</td>\n",
       "      <td>...</td>\n",
       "      <td>25+2</td>\n",
       "      <td>25+2</td>\n",
       "      <td>19+2</td>\n",
       "      <td>71+2</td>\n",
       "      <td>Russia</td>\n",
       "      <td>23</td>\n",
       "      <td>22.243924</td>\n",
       "      <td>0</td>\n",
       "      <td>0</td>\n",
       "      <td>1</td>\n",
       "    </tr>\n",
       "  </tbody>\n",
       "</table>\n",
       "<p>5 rows × 96 columns</p>\n",
       "</div>"
      ],
      "text/plain": [
       "   sofifa_id                                         player_url  short_name  \\\n",
       "0     167575  https://sofifa.com/player/167575/anton-shunin/...   A. Shunin   \n",
       "1     205211  https://sofifa.com/player/205211/milan-borjan/...   M. Borjan   \n",
       "2     244700  https://sofifa.com/player/244700/yuriy-dyupin/...   Y. Dyupin   \n",
       "3     199904  https://sofifa.com/player/199904/jesse-joronen...  J. Joronen   \n",
       "4     240225  https://sofifa.com/player/240225/matvey-safono...  M. Safonov   \n",
       "\n",
       "             long_name player_positions  overall  potential  value_eur  \\\n",
       "0         Anton Shunin               GK       76         76        NaN   \n",
       "1         Milan Borjan               GK       76         76        NaN   \n",
       "2         Yuriy Dyupin               GK       74         74        NaN   \n",
       "3  Jesse Pekka Joronen               GK       72         72        NaN   \n",
       "4       Matvey Safonov               GK       72         82        NaN   \n",
       "\n",
       "   wage_eur        dob  ...    cb   rcb    rb    gk  nationality_name age  \\\n",
       "0       NaN 1987-01-27  ...  28+2  28+2  27+2  75+1            Russia  35   \n",
       "1       NaN 1987-10-23  ...  35+2  35+2  31+2  75+1            Canada  34   \n",
       "2       NaN 1988-03-17  ...  22+2  22+2  18+2  73+1            Russia  34   \n",
       "3       NaN 1993-03-21  ...  27+2  27+2  26+2  71+1           Finland  29   \n",
       "4       NaN 1999-02-25  ...  25+2  25+2  19+2  71+2            Russia  23   \n",
       "\n",
       "         BMI  obese  lean normal  \n",
       "0  24.122146      0     0      1  \n",
       "1  21.865889      0     0      1  \n",
       "2  24.021276      0     0      1  \n",
       "3  22.932825      0     0      1  \n",
       "4  22.243924      0     0      1  \n",
       "\n",
       "[5 rows x 96 columns]"
      ]
     },
     "execution_count": 39,
     "metadata": {},
     "output_type": "execute_result"
    }
   ],
   "source": [
    "data[\"BMI\"] = jogadores_df.imc\n",
    "data[\"obese\"] = jogadores_df.obesidade.astype(int)\n",
    "data[\"lean\"] = jogadores_df.magreza.astype(int)\n",
    "data[\"normal\"] = jogadores_df.normal.astype(int)\n",
    "data.head()"
   ]
  },
  {
   "cell_type": "markdown",
   "id": "73992327",
   "metadata": {
    "pycharm": {
     "name": "#%% md\n"
    }
   },
   "source": [
    "### 3.2.2 Tratando variáveis categórias <a class=\"anchor\" id=\"section-3-2-2\"></a>\n",
    "[Voltar ao topo](#section-0)"
   ]
  },
  {
   "cell_type": "markdown",
   "id": "6f4d80ff",
   "metadata": {
    "pycharm": {
     "name": "#%% md\n"
    }
   },
   "source": [
    "Outra tratativa a ser feita é transformar cada `player_traits` e cada `player_tags` diferente numa coluna boleana\n",
    "Essa lógica será aplicada em `player_positions`, `work_rate`, `body_type`, `preferred_foot` e `nationality_name`"
   ]
  },
  {
   "cell_type": "code",
   "execution_count": 53,
   "id": "284fe17f",
   "metadata": {
    "pycharm": {
     "name": "#%%\n"
    }
   },
   "outputs": [
    {
     "data": {
      "text/plain": "                              player_traits player_tags player_positions  \\\n0                               Team Player         NaN               GK   \n1             Leadership, Comes For Crosses         NaN               GK   \n2                                       NaN         NaN               GK   \n3      GK Long Throw, Cautious With Crosses         NaN               GK   \n4                                       NaN         NaN               GK   \n...                                     ...         ...              ...   \n19234                                   NaN         NaN               LW   \n19235                                   NaN         NaN               RW   \n19236                                   NaN         NaN               ST   \n19237                                   NaN         NaN               ST   \n19238                                   NaN         NaN               CM   \n\n           work_rate       body_type preferred_foot nationality_name  \n0      Medium/Medium     Lean (185+)           Left           Russia  \n1      Medium/Medium   Normal (185+)          Right           Canada  \n2      Medium/Medium   Normal (185+)          Right           Russia  \n3      Medium/Medium   Normal (185+)          Right          Finland  \n4      Medium/Medium   Normal (185+)          Right           Russia  \n...              ...             ...            ...              ...  \n19234  Medium/Medium  Lean (170-185)           Left          Germany  \n19235  Medium/Medium  Lean (170-185)          Right          Germany  \n19236  Medium/Medium   Normal (185+)          Right          Georgia  \n19237  Medium/Medium   Normal (185+)          Right          Germany  \n19238  Medium/Medium   Normal (185+)          Right          Germany  \n\n[19239 rows x 7 columns]",
      "text/html": "<div>\n<style scoped>\n    .dataframe tbody tr th:only-of-type {\n        vertical-align: middle;\n    }\n\n    .dataframe tbody tr th {\n        vertical-align: top;\n    }\n\n    .dataframe thead th {\n        text-align: right;\n    }\n</style>\n<table border=\"1\" class=\"dataframe\">\n  <thead>\n    <tr style=\"text-align: right;\">\n      <th></th>\n      <th>player_traits</th>\n      <th>player_tags</th>\n      <th>player_positions</th>\n      <th>work_rate</th>\n      <th>body_type</th>\n      <th>preferred_foot</th>\n      <th>nationality_name</th>\n    </tr>\n  </thead>\n  <tbody>\n    <tr>\n      <th>0</th>\n      <td>Team Player</td>\n      <td>NaN</td>\n      <td>GK</td>\n      <td>Medium/Medium</td>\n      <td>Lean (185+)</td>\n      <td>Left</td>\n      <td>Russia</td>\n    </tr>\n    <tr>\n      <th>1</th>\n      <td>Leadership, Comes For Crosses</td>\n      <td>NaN</td>\n      <td>GK</td>\n      <td>Medium/Medium</td>\n      <td>Normal (185+)</td>\n      <td>Right</td>\n      <td>Canada</td>\n    </tr>\n    <tr>\n      <th>2</th>\n      <td>NaN</td>\n      <td>NaN</td>\n      <td>GK</td>\n      <td>Medium/Medium</td>\n      <td>Normal (185+)</td>\n      <td>Right</td>\n      <td>Russia</td>\n    </tr>\n    <tr>\n      <th>3</th>\n      <td>GK Long Throw, Cautious With Crosses</td>\n      <td>NaN</td>\n      <td>GK</td>\n      <td>Medium/Medium</td>\n      <td>Normal (185+)</td>\n      <td>Right</td>\n      <td>Finland</td>\n    </tr>\n    <tr>\n      <th>4</th>\n      <td>NaN</td>\n      <td>NaN</td>\n      <td>GK</td>\n      <td>Medium/Medium</td>\n      <td>Normal (185+)</td>\n      <td>Right</td>\n      <td>Russia</td>\n    </tr>\n    <tr>\n      <th>...</th>\n      <td>...</td>\n      <td>...</td>\n      <td>...</td>\n      <td>...</td>\n      <td>...</td>\n      <td>...</td>\n      <td>...</td>\n    </tr>\n    <tr>\n      <th>19234</th>\n      <td>NaN</td>\n      <td>NaN</td>\n      <td>LW</td>\n      <td>Medium/Medium</td>\n      <td>Lean (170-185)</td>\n      <td>Left</td>\n      <td>Germany</td>\n    </tr>\n    <tr>\n      <th>19235</th>\n      <td>NaN</td>\n      <td>NaN</td>\n      <td>RW</td>\n      <td>Medium/Medium</td>\n      <td>Lean (170-185)</td>\n      <td>Right</td>\n      <td>Germany</td>\n    </tr>\n    <tr>\n      <th>19236</th>\n      <td>NaN</td>\n      <td>NaN</td>\n      <td>ST</td>\n      <td>Medium/Medium</td>\n      <td>Normal (185+)</td>\n      <td>Right</td>\n      <td>Georgia</td>\n    </tr>\n    <tr>\n      <th>19237</th>\n      <td>NaN</td>\n      <td>NaN</td>\n      <td>ST</td>\n      <td>Medium/Medium</td>\n      <td>Normal (185+)</td>\n      <td>Right</td>\n      <td>Germany</td>\n    </tr>\n    <tr>\n      <th>19238</th>\n      <td>NaN</td>\n      <td>NaN</td>\n      <td>CM</td>\n      <td>Medium/Medium</td>\n      <td>Normal (185+)</td>\n      <td>Right</td>\n      <td>Germany</td>\n    </tr>\n  </tbody>\n</table>\n<p>19239 rows × 7 columns</p>\n</div>"
     },
     "execution_count": 53,
     "metadata": {},
     "output_type": "execute_result"
    }
   ],
   "source": [
    "data[[\"player_traits\", \"player_tags\", \"player_positions\", \"work_rate\", \"body_type\", \"preferred_foot\", \"nationality_name\"]]"
   ]
  },
  {
   "cell_type": "code",
   "execution_count": 44,
   "id": "93428d7b",
   "metadata": {
    "pycharm": {
     "name": "#%%\n"
    }
   },
   "outputs": [
    {
     "data": {
      "text/html": [
       "<div>\n",
       "<style scoped>\n",
       "    .dataframe tbody tr th:only-of-type {\n",
       "        vertical-align: middle;\n",
       "    }\n",
       "\n",
       "    .dataframe tbody tr th {\n",
       "        vertical-align: top;\n",
       "    }\n",
       "\n",
       "    .dataframe thead th {\n",
       "        text-align: right;\n",
       "    }\n",
       "</style>\n",
       "<table border=\"1\" class=\"dataframe\">\n",
       "  <thead>\n",
       "    <tr style=\"text-align: right;\">\n",
       "      <th></th>\n",
       "      <th>sofifa_id</th>\n",
       "      <th>player_url</th>\n",
       "      <th>short_name</th>\n",
       "      <th>long_name</th>\n",
       "      <th>player_positions</th>\n",
       "      <th>overall</th>\n",
       "      <th>potential</th>\n",
       "      <th>value_eur</th>\n",
       "      <th>wage_eur</th>\n",
       "      <th>dob</th>\n",
       "      <th>...</th>\n",
       "      <th>nationality Ukraine</th>\n",
       "      <th>nationality United Arab Emirates</th>\n",
       "      <th>nationality United States</th>\n",
       "      <th>nationality Uruguay</th>\n",
       "      <th>nationality Uzbekistan</th>\n",
       "      <th>nationality Venezuela</th>\n",
       "      <th>nationality Vietnam</th>\n",
       "      <th>nationality Wales</th>\n",
       "      <th>nationality Zambia</th>\n",
       "      <th>nationality Zimbabwe</th>\n",
       "    </tr>\n",
       "  </thead>\n",
       "  <tbody>\n",
       "    <tr>\n",
       "      <th>0</th>\n",
       "      <td>167575</td>\n",
       "      <td>https://sofifa.com/player/167575/anton-shunin/...</td>\n",
       "      <td>A. Shunin</td>\n",
       "      <td>Anton Shunin</td>\n",
       "      <td>GK</td>\n",
       "      <td>76</td>\n",
       "      <td>76</td>\n",
       "      <td>NaN</td>\n",
       "      <td>NaN</td>\n",
       "      <td>1987-01-27</td>\n",
       "      <td>...</td>\n",
       "      <td>0</td>\n",
       "      <td>0</td>\n",
       "      <td>0</td>\n",
       "      <td>0</td>\n",
       "      <td>0</td>\n",
       "      <td>0</td>\n",
       "      <td>0</td>\n",
       "      <td>0</td>\n",
       "      <td>0</td>\n",
       "      <td>0</td>\n",
       "    </tr>\n",
       "    <tr>\n",
       "      <th>1</th>\n",
       "      <td>205211</td>\n",
       "      <td>https://sofifa.com/player/205211/milan-borjan/...</td>\n",
       "      <td>M. Borjan</td>\n",
       "      <td>Milan Borjan</td>\n",
       "      <td>GK</td>\n",
       "      <td>76</td>\n",
       "      <td>76</td>\n",
       "      <td>NaN</td>\n",
       "      <td>NaN</td>\n",
       "      <td>1987-10-23</td>\n",
       "      <td>...</td>\n",
       "      <td>0</td>\n",
       "      <td>0</td>\n",
       "      <td>0</td>\n",
       "      <td>0</td>\n",
       "      <td>0</td>\n",
       "      <td>0</td>\n",
       "      <td>0</td>\n",
       "      <td>0</td>\n",
       "      <td>0</td>\n",
       "      <td>0</td>\n",
       "    </tr>\n",
       "    <tr>\n",
       "      <th>2</th>\n",
       "      <td>244700</td>\n",
       "      <td>https://sofifa.com/player/244700/yuriy-dyupin/...</td>\n",
       "      <td>Y. Dyupin</td>\n",
       "      <td>Yuriy Dyupin</td>\n",
       "      <td>GK</td>\n",
       "      <td>74</td>\n",
       "      <td>74</td>\n",
       "      <td>NaN</td>\n",
       "      <td>NaN</td>\n",
       "      <td>1988-03-17</td>\n",
       "      <td>...</td>\n",
       "      <td>0</td>\n",
       "      <td>0</td>\n",
       "      <td>0</td>\n",
       "      <td>0</td>\n",
       "      <td>0</td>\n",
       "      <td>0</td>\n",
       "      <td>0</td>\n",
       "      <td>0</td>\n",
       "      <td>0</td>\n",
       "      <td>0</td>\n",
       "    </tr>\n",
       "    <tr>\n",
       "      <th>3</th>\n",
       "      <td>199904</td>\n",
       "      <td>https://sofifa.com/player/199904/jesse-joronen...</td>\n",
       "      <td>J. Joronen</td>\n",
       "      <td>Jesse Pekka Joronen</td>\n",
       "      <td>GK</td>\n",
       "      <td>72</td>\n",
       "      <td>72</td>\n",
       "      <td>NaN</td>\n",
       "      <td>NaN</td>\n",
       "      <td>1993-03-21</td>\n",
       "      <td>...</td>\n",
       "      <td>0</td>\n",
       "      <td>0</td>\n",
       "      <td>0</td>\n",
       "      <td>0</td>\n",
       "      <td>0</td>\n",
       "      <td>0</td>\n",
       "      <td>0</td>\n",
       "      <td>0</td>\n",
       "      <td>0</td>\n",
       "      <td>0</td>\n",
       "    </tr>\n",
       "    <tr>\n",
       "      <th>4</th>\n",
       "      <td>240225</td>\n",
       "      <td>https://sofifa.com/player/240225/matvey-safono...</td>\n",
       "      <td>M. Safonov</td>\n",
       "      <td>Matvey Safonov</td>\n",
       "      <td>GK</td>\n",
       "      <td>72</td>\n",
       "      <td>82</td>\n",
       "      <td>NaN</td>\n",
       "      <td>NaN</td>\n",
       "      <td>1999-02-25</td>\n",
       "      <td>...</td>\n",
       "      <td>0</td>\n",
       "      <td>0</td>\n",
       "      <td>0</td>\n",
       "      <td>0</td>\n",
       "      <td>0</td>\n",
       "      <td>0</td>\n",
       "      <td>0</td>\n",
       "      <td>0</td>\n",
       "      <td>0</td>\n",
       "      <td>0</td>\n",
       "    </tr>\n",
       "  </tbody>\n",
       "</table>\n",
       "<p>5 rows × 337 columns</p>\n",
       "</div>"
      ],
      "text/plain": [
       "   sofifa_id                                         player_url  short_name  \\\n",
       "0     167575  https://sofifa.com/player/167575/anton-shunin/...   A. Shunin   \n",
       "1     205211  https://sofifa.com/player/205211/milan-borjan/...   M. Borjan   \n",
       "2     244700  https://sofifa.com/player/244700/yuriy-dyupin/...   Y. Dyupin   \n",
       "3     199904  https://sofifa.com/player/199904/jesse-joronen...  J. Joronen   \n",
       "4     240225  https://sofifa.com/player/240225/matvey-safono...  M. Safonov   \n",
       "\n",
       "             long_name player_positions  overall  potential  value_eur  \\\n",
       "0         Anton Shunin               GK       76         76        NaN   \n",
       "1         Milan Borjan               GK       76         76        NaN   \n",
       "2         Yuriy Dyupin               GK       74         74        NaN   \n",
       "3  Jesse Pekka Joronen               GK       72         72        NaN   \n",
       "4       Matvey Safonov               GK       72         82        NaN   \n",
       "\n",
       "   wage_eur        dob  ...  nationality Ukraine  \\\n",
       "0       NaN 1987-01-27  ...                    0   \n",
       "1       NaN 1987-10-23  ...                    0   \n",
       "2       NaN 1988-03-17  ...                    0   \n",
       "3       NaN 1993-03-21  ...                    0   \n",
       "4       NaN 1999-02-25  ...                    0   \n",
       "\n",
       "   nationality United Arab Emirates  nationality United States  \\\n",
       "0                                 0                          0   \n",
       "1                                 0                          0   \n",
       "2                                 0                          0   \n",
       "3                                 0                          0   \n",
       "4                                 0                          0   \n",
       "\n",
       "  nationality Uruguay  nationality Uzbekistan nationality Venezuela  \\\n",
       "0                   0                       0                     0   \n",
       "1                   0                       0                     0   \n",
       "2                   0                       0                     0   \n",
       "3                   0                       0                     0   \n",
       "4                   0                       0                     0   \n",
       "\n",
       "   nationality Vietnam  nationality Wales  nationality Zambia  \\\n",
       "0                    0                  0                   0   \n",
       "1                    0                  0                   0   \n",
       "2                    0                  0                   0   \n",
       "3                    0                  0                   0   \n",
       "4                    0                  0                   0   \n",
       "\n",
       "  nationality Zimbabwe  \n",
       "0                    0  \n",
       "1                    0  \n",
       "2                    0  \n",
       "3                    0  \n",
       "4                    0  \n",
       "\n",
       "[5 rows x 337 columns]"
      ]
     },
     "execution_count": 44,
     "metadata": {},
     "output_type": "execute_result"
    }
   ],
   "source": [
    "# Removendo caracteres especiais\n",
    "data[\"player_tags\"].replace(\"\\xa0\", \"\", regex=True, inplace=True)\n",
    "\n",
    "# Convertendo variáveis categoricas nominais em dummies\n",
    "\n",
    "player_traits_dummies = data.player_traits.str.get_dummies(sep=', ')\n",
    "player_traits_dummies.columns = ['trait '+col_name for col_name in player_traits_dummies.columns]\n",
    "\n",
    "player_tags_dummies = data.player_tags.str.get_dummies(sep=', ')\n",
    "player_tags_dummies.columns = ['tag '+col_name for col_name in player_tags_dummies.columns]\n",
    "\n",
    "player_positions_dummies = data.player_positions.str.get_dummies(sep=', ')\n",
    "\n",
    "work_rate_dummies = data.work_rate.str.get_dummies()\n",
    "work_rate_dummies.columns = ['work rate ' + col_name for col_name in work_rate_dummies.columns]\n",
    "\n",
    "body_type_dummies = data.body_type.str.get_dummies()\n",
    "body_type_dummies.columns = ['body type ' + col_name for col_name in body_type_dummies.columns]\n",
    "\n",
    "preferred_foot_dummies = data.preferred_foot.str.get_dummies()\n",
    "preferred_foot_dummies.columns = ['preferred foot ' + col_name for col_name in preferred_foot_dummies.columns]\n",
    "\n",
    "nationality_name_dummies = data.nationality_name.str.get_dummies()\n",
    "nationality_name_dummies.columns = ['nationality ' + col_name for col_name in nationality_name_dummies.columns]\n",
    "\n",
    "processed_data = pd.concat(\n",
    "    [\n",
    "        data, player_traits_dummies, player_tags_dummies,\n",
    "        player_positions_dummies, work_rate_dummies, body_type_dummies,\n",
    "        preferred_foot_dummies, nationality_name_dummies\n",
    "    ], axis=1\n",
    ")\n",
    "\n",
    "processed_data.head()"
   ]
  },
  {
   "cell_type": "code",
   "execution_count": 45,
   "id": "87ddada0",
   "metadata": {
    "pycharm": {
     "name": "#%%\n"
    }
   },
   "outputs": [
    {
     "data": {
      "text/html": [
       "<div>\n",
       "<style scoped>\n",
       "    .dataframe tbody tr th:only-of-type {\n",
       "        vertical-align: middle;\n",
       "    }\n",
       "\n",
       "    .dataframe tbody tr th {\n",
       "        vertical-align: top;\n",
       "    }\n",
       "\n",
       "    .dataframe thead th {\n",
       "        text-align: right;\n",
       "    }\n",
       "</style>\n",
       "<table border=\"1\" class=\"dataframe\">\n",
       "  <thead>\n",
       "    <tr style=\"text-align: right;\">\n",
       "      <th></th>\n",
       "      <th>sofifa_id</th>\n",
       "      <th>player_url</th>\n",
       "      <th>short_name</th>\n",
       "      <th>long_name</th>\n",
       "      <th>player_positions</th>\n",
       "      <th>overall</th>\n",
       "      <th>potential</th>\n",
       "      <th>value_eur</th>\n",
       "      <th>wage_eur</th>\n",
       "      <th>dob</th>\n",
       "      <th>...</th>\n",
       "      <th>nationality Ukraine</th>\n",
       "      <th>nationality United Arab Emirates</th>\n",
       "      <th>nationality United States</th>\n",
       "      <th>nationality Uruguay</th>\n",
       "      <th>nationality Uzbekistan</th>\n",
       "      <th>nationality Venezuela</th>\n",
       "      <th>nationality Vietnam</th>\n",
       "      <th>nationality Wales</th>\n",
       "      <th>nationality Zambia</th>\n",
       "      <th>nationality Zimbabwe</th>\n",
       "    </tr>\n",
       "  </thead>\n",
       "  <tbody>\n",
       "    <tr>\n",
       "      <th>0</th>\n",
       "      <td>167575</td>\n",
       "      <td>https://sofifa.com/player/167575/anton-shunin/...</td>\n",
       "      <td>A. Shunin</td>\n",
       "      <td>Anton Shunin</td>\n",
       "      <td>GK</td>\n",
       "      <td>76</td>\n",
       "      <td>76</td>\n",
       "      <td>NaN</td>\n",
       "      <td>NaN</td>\n",
       "      <td>1987-01-27</td>\n",
       "      <td>...</td>\n",
       "      <td>0</td>\n",
       "      <td>0</td>\n",
       "      <td>0</td>\n",
       "      <td>0</td>\n",
       "      <td>0</td>\n",
       "      <td>0</td>\n",
       "      <td>0</td>\n",
       "      <td>0</td>\n",
       "      <td>0</td>\n",
       "      <td>0</td>\n",
       "    </tr>\n",
       "    <tr>\n",
       "      <th>1</th>\n",
       "      <td>205211</td>\n",
       "      <td>https://sofifa.com/player/205211/milan-borjan/...</td>\n",
       "      <td>M. Borjan</td>\n",
       "      <td>Milan Borjan</td>\n",
       "      <td>GK</td>\n",
       "      <td>76</td>\n",
       "      <td>76</td>\n",
       "      <td>NaN</td>\n",
       "      <td>NaN</td>\n",
       "      <td>1987-10-23</td>\n",
       "      <td>...</td>\n",
       "      <td>0</td>\n",
       "      <td>0</td>\n",
       "      <td>0</td>\n",
       "      <td>0</td>\n",
       "      <td>0</td>\n",
       "      <td>0</td>\n",
       "      <td>0</td>\n",
       "      <td>0</td>\n",
       "      <td>0</td>\n",
       "      <td>0</td>\n",
       "    </tr>\n",
       "    <tr>\n",
       "      <th>2</th>\n",
       "      <td>244700</td>\n",
       "      <td>https://sofifa.com/player/244700/yuriy-dyupin/...</td>\n",
       "      <td>Y. Dyupin</td>\n",
       "      <td>Yuriy Dyupin</td>\n",
       "      <td>GK</td>\n",
       "      <td>74</td>\n",
       "      <td>74</td>\n",
       "      <td>NaN</td>\n",
       "      <td>NaN</td>\n",
       "      <td>1988-03-17</td>\n",
       "      <td>...</td>\n",
       "      <td>0</td>\n",
       "      <td>0</td>\n",
       "      <td>0</td>\n",
       "      <td>0</td>\n",
       "      <td>0</td>\n",
       "      <td>0</td>\n",
       "      <td>0</td>\n",
       "      <td>0</td>\n",
       "      <td>0</td>\n",
       "      <td>0</td>\n",
       "    </tr>\n",
       "    <tr>\n",
       "      <th>3</th>\n",
       "      <td>199904</td>\n",
       "      <td>https://sofifa.com/player/199904/jesse-joronen...</td>\n",
       "      <td>J. Joronen</td>\n",
       "      <td>Jesse Pekka Joronen</td>\n",
       "      <td>GK</td>\n",
       "      <td>72</td>\n",
       "      <td>72</td>\n",
       "      <td>NaN</td>\n",
       "      <td>NaN</td>\n",
       "      <td>1993-03-21</td>\n",
       "      <td>...</td>\n",
       "      <td>0</td>\n",
       "      <td>0</td>\n",
       "      <td>0</td>\n",
       "      <td>0</td>\n",
       "      <td>0</td>\n",
       "      <td>0</td>\n",
       "      <td>0</td>\n",
       "      <td>0</td>\n",
       "      <td>0</td>\n",
       "      <td>0</td>\n",
       "    </tr>\n",
       "    <tr>\n",
       "      <th>4</th>\n",
       "      <td>240225</td>\n",
       "      <td>https://sofifa.com/player/240225/matvey-safono...</td>\n",
       "      <td>M. Safonov</td>\n",
       "      <td>Matvey Safonov</td>\n",
       "      <td>GK</td>\n",
       "      <td>72</td>\n",
       "      <td>82</td>\n",
       "      <td>NaN</td>\n",
       "      <td>NaN</td>\n",
       "      <td>1999-02-25</td>\n",
       "      <td>...</td>\n",
       "      <td>0</td>\n",
       "      <td>0</td>\n",
       "      <td>0</td>\n",
       "      <td>0</td>\n",
       "      <td>0</td>\n",
       "      <td>0</td>\n",
       "      <td>0</td>\n",
       "      <td>0</td>\n",
       "      <td>0</td>\n",
       "      <td>0</td>\n",
       "    </tr>\n",
       "  </tbody>\n",
       "</table>\n",
       "<p>5 rows × 337 columns</p>\n",
       "</div>"
      ],
      "text/plain": [
       "   sofifa_id                                         player_url  short_name  \\\n",
       "0     167575  https://sofifa.com/player/167575/anton-shunin/...   A. Shunin   \n",
       "1     205211  https://sofifa.com/player/205211/milan-borjan/...   M. Borjan   \n",
       "2     244700  https://sofifa.com/player/244700/yuriy-dyupin/...   Y. Dyupin   \n",
       "3     199904  https://sofifa.com/player/199904/jesse-joronen...  J. Joronen   \n",
       "4     240225  https://sofifa.com/player/240225/matvey-safono...  M. Safonov   \n",
       "\n",
       "             long_name player_positions  overall  potential  value_eur  \\\n",
       "0         Anton Shunin               GK       76         76        NaN   \n",
       "1         Milan Borjan               GK       76         76        NaN   \n",
       "2         Yuriy Dyupin               GK       74         74        NaN   \n",
       "3  Jesse Pekka Joronen               GK       72         72        NaN   \n",
       "4       Matvey Safonov               GK       72         82        NaN   \n",
       "\n",
       "   wage_eur        dob  ...  nationality Ukraine  \\\n",
       "0       NaN 1987-01-27  ...                    0   \n",
       "1       NaN 1987-10-23  ...                    0   \n",
       "2       NaN 1988-03-17  ...                    0   \n",
       "3       NaN 1993-03-21  ...                    0   \n",
       "4       NaN 1999-02-25  ...                    0   \n",
       "\n",
       "   nationality United Arab Emirates  nationality United States  \\\n",
       "0                                 0                          0   \n",
       "1                                 0                          0   \n",
       "2                                 0                          0   \n",
       "3                                 0                          0   \n",
       "4                                 0                          0   \n",
       "\n",
       "  nationality Uruguay  nationality Uzbekistan nationality Venezuela  \\\n",
       "0                   0                       0                     0   \n",
       "1                   0                       0                     0   \n",
       "2                   0                       0                     0   \n",
       "3                   0                       0                     0   \n",
       "4                   0                       0                     0   \n",
       "\n",
       "   nationality Vietnam  nationality Wales  nationality Zambia  \\\n",
       "0                    0                  0                   0   \n",
       "1                    0                  0                   0   \n",
       "2                    0                  0                   0   \n",
       "3                    0                  0                   0   \n",
       "4                    0                  0                   0   \n",
       "\n",
       "  nationality Zimbabwe  \n",
       "0                    0  \n",
       "1                    0  \n",
       "2                    0  \n",
       "3                    0  \n",
       "4                    0  \n",
       "\n",
       "[5 rows x 337 columns]"
      ]
     },
     "execution_count": 45,
     "metadata": {},
     "output_type": "execute_result"
    }
   ],
   "source": [
    "# Convertendo o tipo das colunas\n",
    "columns_to_evaluate = \"ls,st,rs,lw,lf,cf,rf,rw,lam,cam,ram,lm,lcm,cm,rcm,rm,lwb,ldm,cdm,rdm,rwb,lb,lcb,cb,rcb,rb,gk\".split(\",\")\n",
    "for column_to_evaluate in columns_to_evaluate:\n",
    "    evaluated_column = processed_data[column_to_evaluate].apply(lambda cell: eval(cell))\n",
    "    processed_data[column_to_evaluate] = evaluated_column\n",
    "\n",
    "processed_data.head()"
   ]
  },
  {
   "cell_type": "code",
   "execution_count": 46,
   "id": "cc9f9d06",
   "metadata": {
    "pycharm": {
     "name": "#%%\n"
    }
   },
   "outputs": [],
   "source": [
    "import os\n",
    "\n",
    "# Função auxiliar para salvar os dados\n",
    "def get_project_root_path():\n",
    "    project_directory = \"fifa22-players-analysis\"\n",
    "    separated_path = os.getcwd().split(os.sep)\n",
    "    project_directory_index = separated_path.index(project_directory) + 1\n",
    "    return os.sep.join(separated_path[0:project_directory_index])\n",
    "\n",
    "data_path = os.sep.join([get_project_root_path(), \"preprocessing\", \"data\", f\"processed_data.tsv\"])\n",
    "processed_data.to_csv(data_path, index=False, sep=\"\\t\")"
   ]
  },
  {
   "cell_type": "markdown",
   "id": "fba23db4",
   "metadata": {
    "pycharm": {
     "name": "#%% md\n"
    }
   },
   "source": [
    "### 3.2.3 Tratando valores nulos <a class=\"anchor\" id=\"section-3-2-3\"></a>\n",
    "[Voltar ao topo](#section-0)"
   ]
  },
  {
   "cell_type": "code",
   "execution_count": 47,
   "id": "ec90909b",
   "metadata": {
    "pycharm": {
     "name": "#%%\n"
    }
   },
   "outputs": [
    {
     "data": {
      "text/plain": [
       "value_eur                74\n",
       "wage_eur                 61\n",
       "club_team_id             61\n",
       "club_position            61\n",
       "club_jersey_number       61\n",
       "release_clause_eur     1176\n",
       "player_tags           17798\n",
       "player_traits          9841\n",
       "pace                   2132\n",
       "shooting               2132\n",
       "passing                2132\n",
       "dribbling              2132\n",
       "defending              2132\n",
       "physic                 2132\n",
       "goalkeeping_speed     17107\n",
       "dtype: int64"
      ]
     },
     "metadata": {},
     "output_type": "display_data"
    }
   ],
   "source": [
    "# Função auxiliar que conta valores nulos\n",
    "def count_na(df: pd.DataFrame) -> None:\n",
    "    nan_sum = df.isna().sum()\n",
    "    display(nan_sum[nan_sum > 0])\n",
    "\n",
    "count_na(data)"
   ]
  },
  {
   "cell_type": "markdown",
   "id": "3c6e4842",
   "metadata": {
    "pycharm": {
     "name": "#%% md\n"
    }
   },
   "source": [
    "Analisando essa tabela com os valores nulos podemos perceber que alguns jogadores do dataset não possuem um time atual, isso explica\n",
    "`wage_eur`, `club_team_id`, `club_position`, `club_jersey_number` terem a mesma quantidade de valores nulos (61),\n",
    "porém `value_eur` deveria seguir esse mesmo padrão, assim podemos dizer que 13 (74 - 61) jogadores que estão ativos não possuem um valor,\n",
    "portanto precisamos preencher esses dados.\n",
    "\n",
    "Também podemos perceber que temos 2132 jogadores não possuem `pace`, `shooting`, `passing`, `dribbling`, `defending`, `physic`. Vamos analisar esses jogadores para entender quem são."
   ]
  },
  {
   "cell_type": "code",
   "execution_count": 52,
   "id": "0e8194f4",
   "metadata": {
    "pycharm": {
     "name": "#%%\n"
    }
   },
   "outputs": [
    {
     "name": "stdout",
     "output_type": "stream",
     "text": [
      "Porcentagem de goleiros sem atributos principais 100.0%\n"
     ]
    }
   ],
   "source": [
    "data = processed_data\n",
    "def percent_of_gk(df: pd.DataFrame) -> None:\n",
    "    gk = df[df['GK'] == 1]\n",
    "    print(f\"Porcentagem de goleiros sem atributos principais {gk.shape[0] / df.shape[0] * 100}%\")\n",
    "\n",
    "missing_main_attr_data = data[data.pace.isna()]\n",
    "percent_of_gk(missing_main_attr_data)"
   ]
  },
  {
   "cell_type": "markdown",
   "source": [
    "Ou seja, no nosso dataset os goleiros não têm os atributos principais, portanto vamos preencher-los também"
   ],
   "metadata": {
    "collapsed": false,
    "pycharm": {
     "name": "#%% md\n"
    }
   }
  },
  {
   "cell_type": "code",
   "execution_count": 54,
   "outputs": [
    {
     "name": "stdout",
     "output_type": "stream",
     "text": [
      "Jogadores sem gk speed + jogadores sem atributos primários: 19239\n",
      "Numero de jogadores: 19239\n"
     ]
    }
   ],
   "source": [
    "missing_gk_speed_data = data[data.goalkeeping_speed.isna()]\n",
    "sum_of_missing_data = missing_gk_speed_data.shape[0] + missing_main_attr_data.shape[0]\n",
    "print(f\"Jogadores sem gk speed + jogadores sem atributos primários: {sum_of_missing_data}\")\n",
    "print(f\"Numero de jogadores: {data.shape[0]}\")"
   ],
   "metadata": {
    "collapsed": false,
    "pycharm": {
     "name": "#%%\n"
    }
   }
  },
  {
   "cell_type": "markdown",
   "source": [
    "Com isso podemos afirmar que jogadores que não são goleiros não possuem `goalkeeping_speed`. Tabém vamos prever esses valores."
   ],
   "metadata": {
    "collapsed": false,
    "pycharm": {
     "name": "#%% md\n"
    }
   }
  },
  {
   "cell_type": "markdown",
   "id": "9a3ae81c",
   "metadata": {
    "pycharm": {
     "name": "#%% md\n"
    }
   },
   "source": [
    "## 3.3 Modelagem <a class=\"anchor\" id=\"section-3-3\"></a>\n",
    "[Voltar ao topo](#section-0)"
   ]
  },
  {
   "cell_type": "markdown",
   "source": [
    "A metodologia usada nesse processo é formada pelas seguintes etapas:\n",
    "- Seprara features e target\n",
    "- Preencher valores nulos que com a média respectiva de cada coluna\n",
    "- Separar dadados de treino e teste\n",
    "- Salvar o modelo treinado (opcional)\n",
    "- Calcular métricas de avaliação\n",
    "- Prever valores nulos do dataset a partir do modelo treinado\n",
    "- Adicionar esses valores ao conjunto de dados original\n",
    "\n",
    "O código a seguir representa a implementação da metodologia descrita:"
   ],
   "metadata": {
    "collapsed": false,
    "pycharm": {
     "name": "#%% md\n"
    }
   }
  },
  {
   "cell_type": "code",
   "execution_count": 75,
   "outputs": [],
   "source": [
    "from sklearn.metrics import mean_squared_error, mean_absolute_error\n",
    "from sklearn.model_selection import train_test_split\n",
    "from sklearn.impute import SimpleImputer\n",
    "import numpy as np\n",
    "import joblib\n",
    "\n",
    "\n",
    "def save_model(model, model_name):\n",
    "    filename = f\"model_name_{model_name}.pkl\"\n",
    "    print(filename)\n",
    "    model_path = os.sep.join([get_project_root_path(), \"saved_models\", filename])\n",
    "    joblib.dump(model, model_path)\n",
    "\n",
    "\n",
    "def predict_and_populate(df_to_populate, df_to_train, model, column_to_predict, round_=None, save=False) -> pd.DataFrame:\n",
    "    # Separating the target variable\n",
    "    target = df_to_train[column_to_predict]\n",
    "    features = df_to_train.drop(column_to_predict, axis=1)\n",
    "\n",
    "    # Poluting the missing features\n",
    "    mean_imputer = SimpleImputer(missing_values=np.nan, strategy='mean')\n",
    "    mean_imputer.fit(features)\n",
    "    imputed_features = mean_imputer.transform(features)\n",
    "\n",
    "    # Train test split\n",
    "    features_train, features_test, target_train, target_test = train_test_split(imputed_features, target, test_size=0.3)\n",
    "\n",
    "    # Training the model\n",
    "    trained_model = model.fit(features_train, target_train)\n",
    "\n",
    "    # Saving the model\n",
    "    if save:\n",
    "        model_name = str(model).split(\"(\")[0]\n",
    "        filename = f\"{model_name}_{column_to_predict}\"\n",
    "        save_model(trained_model, filename)\n",
    "\n",
    "    # Calculating model score\n",
    "    model_score = trained_model.score(features_test, target_test)\n",
    "    mse = mean_squared_error(target_test, trained_model.predict(features_test))\n",
    "    mae = mean_absolute_error(target_test, trained_model.predict(features_test))\n",
    "\n",
    "    print(f\"Score do R² modelo: {model_score:.4f}\")\n",
    "    print(f\"MSE: {mse:.4f}\")\n",
    "    print(f\"MAE: {mae:.4f}\")\n",
    "\n",
    "    # Populating the missing values\n",
    "    feature_to_populate = mean_imputer.transform(df_to_populate.drop(column_to_predict, axis=1))\n",
    "    predicted_values = trained_model.predict(feature_to_populate)\n",
    "\n",
    "\n",
    "    if round_ is not None:\n",
    "        predicted_values = predicted_values.round(round_)\n",
    "\n",
    "    df_to_populate[column_to_predict] = predicted_values\n",
    "\n",
    "    return df_to_populate"
   ],
   "metadata": {
    "collapsed": false,
    "pycharm": {
     "name": "#%%\n"
    }
   }
  },
  {
   "cell_type": "markdown",
   "id": "4f3a856b",
   "metadata": {
    "pycharm": {
     "name": "#%% md\n"
    }
   },
   "source": [
    "### 3.3.1 Modelo #2: Floresta Aleatória <a class=\"anchor\" id=\"section-3-3-1\"></a>\n",
    "[Voltar ao topo](#section-0)"
   ]
  },
  {
   "cell_type": "markdown",
   "source": [
    "### Prevendo valor dos jogadores\n",
    "Nessa etapa vamos criar um modelo para prever o valor (`value_eur`) dos 13 jogadores que não possuem valor.\n",
    "Primeiros vamos separar esses jogadores e remover as colunas que não são de nosso interesse."
   ],
   "metadata": {
    "collapsed": false,
    "pycharm": {
     "name": "#%% md\n"
    }
   }
  },
  {
   "cell_type": "code",
   "execution_count": 56,
   "outputs": [],
   "source": [
    "players_with_club_and_no_value = data.query(\"not club_team_id.isna() and value_eur.isna()\").copy()\n",
    "data_without_players_with_club_and_no_value = data.drop(players_with_club_and_no_value.index)\n",
    "\n",
    "data_to_train = data_without_players_with_club_and_no_value.query(\"not value_eur.isna()\").copy()\n",
    "\n",
    "columns_to_drop = [\n",
    "    \"sofifa_id\", \"player_url\", \"short_name\", \"long_name\",\n",
    "    \"dob\", \"club_position\",\"player_traits\", \"player_tags\",\n",
    "    \"player_positions\", \"work_rate\", \"body_type\",\n",
    "    \"preferred_foot\", \"nationality_name\"\n",
    "]\n",
    "\n",
    "data_to_train = data_to_train.drop(columns=columns_to_drop)\n",
    "data_to_fill = players_with_club_and_no_value.drop(columns=columns_to_drop)"
   ],
   "metadata": {
    "collapsed": false,
    "pycharm": {
     "name": "#%%\n"
    }
   }
  },
  {
   "cell_type": "markdown",
   "source": [
    "Agora que temos os nossos datasets para treino e para popular podemos comparar alguns modelos diferentes para escolher o melhor.\n",
    "Comparando `DummyRegressor` vs `LinearRegression` vs `RandomForestRegressor` para prever `value_eur`"
   ],
   "metadata": {
    "collapsed": false,
    "pycharm": {
     "name": "#%% md\n"
    }
   }
  },
  {
   "cell_type": "code",
   "execution_count": 69,
   "outputs": [
    {
     "name": "stdout",
     "output_type": "stream",
     "text": [
      "Score do R² modelo: -0.0000\n",
      "MSE: 66771834595772.8906\n",
      "MAE: 3173503.9321\n"
     ]
    }
   ],
   "source": [
    "from sklearn.dummy import DummyRegressor\n",
    "dummy = DummyRegressor()\n",
    "predict_and_populate(data_to_fill, data_to_train, dummy, \"value_eur\");"
   ],
   "metadata": {
    "collapsed": false,
    "pycharm": {
     "name": "#%%\n"
    }
   }
  },
  {
   "cell_type": "code",
   "execution_count": 70,
   "outputs": [
    {
     "name": "stdout",
     "output_type": "stream",
     "text": [
      "Score do R² modelo: 0.9742\n",
      "MSE: 1431395678792.1587\n",
      "MAE: 483299.0781\n"
     ]
    }
   ],
   "source": [
    "from sklearn.linear_model import LinearRegression\n",
    "\n",
    "linear_regression = LinearRegression()\n",
    "predict_and_populate(data_to_fill, data_to_train, linear_regression, \"value_eur\");"
   ],
   "metadata": {
    "collapsed": false,
    "pycharm": {
     "name": "#%%\n"
    }
   }
  },
  {
   "cell_type": "code",
   "execution_count": 83,
   "outputs": [
    {
     "name": "stdout",
     "output_type": "stream",
     "text": [
      "model_name_RandomForestRegressor_value_eur.pkl\n",
      "Score do R² modelo: 0.9928\n",
      "MSE: 378639144031.4636\n",
      "MAE: 163750.7644\n"
     ]
    }
   ],
   "source": [
    "from sklearn.ensemble import RandomForestRegressor\n",
    "\n",
    "random_forest = RandomForestRegressor(random_state=0, n_jobs=-1, oob_score=True)\n",
    "players_with_club_and_no_value = predict_and_populate(data_to_fill, data_to_train, random_forest, \"value_eur\", save=True);"
   ],
   "metadata": {
    "collapsed": false,
    "pycharm": {
     "name": "#%%\n"
    }
   }
  },
  {
   "cell_type": "markdown",
   "source": [
    "De cara ja é possivel ver que os modelos de `LinearRegression` e `RandomForestRegressor` são melhores que o modelo base `DummyRegressor`.\n",
    "Porém, o `RandomForestRegressor` gerou um $R^2$ e um erro absoluto médio menor.\n"
   ],
   "metadata": {
    "collapsed": false,
    "pycharm": {
     "name": "#%% md\n"
    }
   }
  },
  {
   "cell_type": "code",
   "execution_count": 84,
   "outputs": [
    {
     "data": {
      "text/plain": "       sofifa_id                                         player_url  \\\n11929     115909  https://sofifa.com/player/115909/ruben-castro-...   \n11987     124344  https://sofifa.com/player/124344/ibrahim-oztur...   \n12264     153066  https://sofifa.com/player/153066/lucas-licht/2...   \n13149     152912  https://sofifa.com/player/152912/jose-sand/220002   \n13177     110381  https://sofifa.com/player/110381/maximiliano-r...   \n14103     262371  https://sofifa.com/player/262371/craig-dundas/...   \n14611     140222  https://sofifa.com/player/140222/paulo-da-silv...   \n15125     138703  https://sofifa.com/player/138703/andres-daless...   \n16065     158293  https://sofifa.com/player/158293/zhi-zheng/220002   \n16498       2702  https://sofifa.com/player/2702/kevin-ellison/2...   \n16814      29118  https://sofifa.com/player/29118/shinji-ono/220002   \n18159      29552  https://sofifa.com/player/29552/shunsuke-nakam...   \n18166     254704  https://sofifa.com/player/254704/kazuyoshi-miu...   \n\n            short_name                     long_name player_positions  \\\n11929     Rubén Castro           Rubén Castro Martín               ST   \n11987        İ. Öztürk                İbrahim Öztürk               CB   \n12264         L. Licht            Lucas Matías Licht      LB, LWB, LM   \n13149          J. Sand             José Gustavo Sand               ST   \n13177     M. Rodríguez   Maximiliano Rubén Rodríguez       LW, LM, ST   \n14103        C. Dundas                  Craig Dundas               ST   \n14611      P. Da Silva  Paulo César Da Silva Barrios               CB   \n15125  A. D'Alessandro   Andrés Nicolás D'Alessandro          CAM, RM   \n16065        Zheng Zhi                            郑智          CDM, CM   \n16498       K. Ellison           Kevin Keith Ellison           LM, ST   \n16814           S. Ono                         小野 伸二          CAM, CM   \n18159      S. Nakamura                         中村 俊輔      CAM, CF, RW   \n18166         K. Miura                         三浦 知良               ST   \n\n       overall  potential  value_eur  wage_eur        dob  ...  \\\n11929       69         69   968250.0    3000.0 1981-06-27  ...   \n11987       67         67   826500.0    3000.0 1981-06-21  ...   \n12264       69         69   933000.0    5000.0 1981-04-06  ...   \n13149       75         75  3959250.0   13000.0 1980-07-17  ...   \n13177       73         73  2340000.0   10000.0 1981-01-02  ...   \n14103       56         56   179750.0    1000.0 1981-02-16  ...   \n14611       67         67   822000.0     500.0 1980-02-01  ...   \n15125       75         75  4285000.0     900.0 1981-04-15  ...   \n16065       67         67   837750.0    5000.0 1980-08-20  ...   \n16498       58         58   243300.0    2000.0 1979-02-23  ...   \n16814       58         58   244400.0     800.0 1979-09-27  ...   \n18159       63         63   552000.0     800.0 1978-06-24  ...   \n18166       59         59   323800.0     700.0 1967-02-26  ...   \n\n       nationality Ukraine  nationality United Arab Emirates  \\\n11929                    0                                 0   \n11987                    0                                 0   \n12264                    0                                 0   \n13149                    0                                 0   \n13177                    0                                 0   \n14103                    0                                 0   \n14611                    0                                 0   \n15125                    0                                 0   \n16065                    0                                 0   \n16498                    0                                 0   \n16814                    0                                 0   \n18159                    0                                 0   \n18166                    0                                 0   \n\n       nationality United States nationality Uruguay  nationality Uzbekistan  \\\n11929                          0                   0                       0   \n11987                          0                   0                       0   \n12264                          0                   0                       0   \n13149                          0                   0                       0   \n13177                          0                   0                       0   \n14103                          0                   0                       0   \n14611                          0                   0                       0   \n15125                          0                   0                       0   \n16065                          0                   0                       0   \n16498                          0                   0                       0   \n16814                          0                   0                       0   \n18159                          0                   0                       0   \n18166                          0                   0                       0   \n\n      nationality Venezuela  nationality Vietnam  nationality Wales  \\\n11929                     0                    0                  0   \n11987                     0                    0                  0   \n12264                     0                    0                  0   \n13149                     0                    0                  0   \n13177                     0                    0                  0   \n14103                     0                    0                  0   \n14611                     0                    0                  0   \n15125                     0                    0                  0   \n16065                     0                    0                  0   \n16498                     0                    0                  0   \n16814                     0                    0                  0   \n18159                     0                    0                  0   \n18166                     0                    0                  0   \n\n       nationality Zambia nationality Zimbabwe  \n11929                   0                    0  \n11987                   0                    0  \n12264                   0                    0  \n13149                   0                    0  \n13177                   0                    0  \n14103                   0                    0  \n14611                   0                    0  \n15125                   0                    0  \n16065                   0                    0  \n16498                   0                    0  \n16814                   0                    0  \n18159                   0                    0  \n18166                   0                    0  \n\n[13 rows x 337 columns]",
      "text/html": "<div>\n<style scoped>\n    .dataframe tbody tr th:only-of-type {\n        vertical-align: middle;\n    }\n\n    .dataframe tbody tr th {\n        vertical-align: top;\n    }\n\n    .dataframe thead th {\n        text-align: right;\n    }\n</style>\n<table border=\"1\" class=\"dataframe\">\n  <thead>\n    <tr style=\"text-align: right;\">\n      <th></th>\n      <th>sofifa_id</th>\n      <th>player_url</th>\n      <th>short_name</th>\n      <th>long_name</th>\n      <th>player_positions</th>\n      <th>overall</th>\n      <th>potential</th>\n      <th>value_eur</th>\n      <th>wage_eur</th>\n      <th>dob</th>\n      <th>...</th>\n      <th>nationality Ukraine</th>\n      <th>nationality United Arab Emirates</th>\n      <th>nationality United States</th>\n      <th>nationality Uruguay</th>\n      <th>nationality Uzbekistan</th>\n      <th>nationality Venezuela</th>\n      <th>nationality Vietnam</th>\n      <th>nationality Wales</th>\n      <th>nationality Zambia</th>\n      <th>nationality Zimbabwe</th>\n    </tr>\n  </thead>\n  <tbody>\n    <tr>\n      <th>11929</th>\n      <td>115909</td>\n      <td>https://sofifa.com/player/115909/ruben-castro-...</td>\n      <td>Rubén Castro</td>\n      <td>Rubén Castro Martín</td>\n      <td>ST</td>\n      <td>69</td>\n      <td>69</td>\n      <td>968250.0</td>\n      <td>3000.0</td>\n      <td>1981-06-27</td>\n      <td>...</td>\n      <td>0</td>\n      <td>0</td>\n      <td>0</td>\n      <td>0</td>\n      <td>0</td>\n      <td>0</td>\n      <td>0</td>\n      <td>0</td>\n      <td>0</td>\n      <td>0</td>\n    </tr>\n    <tr>\n      <th>11987</th>\n      <td>124344</td>\n      <td>https://sofifa.com/player/124344/ibrahim-oztur...</td>\n      <td>İ. Öztürk</td>\n      <td>İbrahim Öztürk</td>\n      <td>CB</td>\n      <td>67</td>\n      <td>67</td>\n      <td>826500.0</td>\n      <td>3000.0</td>\n      <td>1981-06-21</td>\n      <td>...</td>\n      <td>0</td>\n      <td>0</td>\n      <td>0</td>\n      <td>0</td>\n      <td>0</td>\n      <td>0</td>\n      <td>0</td>\n      <td>0</td>\n      <td>0</td>\n      <td>0</td>\n    </tr>\n    <tr>\n      <th>12264</th>\n      <td>153066</td>\n      <td>https://sofifa.com/player/153066/lucas-licht/2...</td>\n      <td>L. Licht</td>\n      <td>Lucas Matías Licht</td>\n      <td>LB, LWB, LM</td>\n      <td>69</td>\n      <td>69</td>\n      <td>933000.0</td>\n      <td>5000.0</td>\n      <td>1981-04-06</td>\n      <td>...</td>\n      <td>0</td>\n      <td>0</td>\n      <td>0</td>\n      <td>0</td>\n      <td>0</td>\n      <td>0</td>\n      <td>0</td>\n      <td>0</td>\n      <td>0</td>\n      <td>0</td>\n    </tr>\n    <tr>\n      <th>13149</th>\n      <td>152912</td>\n      <td>https://sofifa.com/player/152912/jose-sand/220002</td>\n      <td>J. Sand</td>\n      <td>José Gustavo Sand</td>\n      <td>ST</td>\n      <td>75</td>\n      <td>75</td>\n      <td>3959250.0</td>\n      <td>13000.0</td>\n      <td>1980-07-17</td>\n      <td>...</td>\n      <td>0</td>\n      <td>0</td>\n      <td>0</td>\n      <td>0</td>\n      <td>0</td>\n      <td>0</td>\n      <td>0</td>\n      <td>0</td>\n      <td>0</td>\n      <td>0</td>\n    </tr>\n    <tr>\n      <th>13177</th>\n      <td>110381</td>\n      <td>https://sofifa.com/player/110381/maximiliano-r...</td>\n      <td>M. Rodríguez</td>\n      <td>Maximiliano Rubén Rodríguez</td>\n      <td>LW, LM, ST</td>\n      <td>73</td>\n      <td>73</td>\n      <td>2340000.0</td>\n      <td>10000.0</td>\n      <td>1981-01-02</td>\n      <td>...</td>\n      <td>0</td>\n      <td>0</td>\n      <td>0</td>\n      <td>0</td>\n      <td>0</td>\n      <td>0</td>\n      <td>0</td>\n      <td>0</td>\n      <td>0</td>\n      <td>0</td>\n    </tr>\n    <tr>\n      <th>14103</th>\n      <td>262371</td>\n      <td>https://sofifa.com/player/262371/craig-dundas/...</td>\n      <td>C. Dundas</td>\n      <td>Craig Dundas</td>\n      <td>ST</td>\n      <td>56</td>\n      <td>56</td>\n      <td>179750.0</td>\n      <td>1000.0</td>\n      <td>1981-02-16</td>\n      <td>...</td>\n      <td>0</td>\n      <td>0</td>\n      <td>0</td>\n      <td>0</td>\n      <td>0</td>\n      <td>0</td>\n      <td>0</td>\n      <td>0</td>\n      <td>0</td>\n      <td>0</td>\n    </tr>\n    <tr>\n      <th>14611</th>\n      <td>140222</td>\n      <td>https://sofifa.com/player/140222/paulo-da-silv...</td>\n      <td>P. Da Silva</td>\n      <td>Paulo César Da Silva Barrios</td>\n      <td>CB</td>\n      <td>67</td>\n      <td>67</td>\n      <td>822000.0</td>\n      <td>500.0</td>\n      <td>1980-02-01</td>\n      <td>...</td>\n      <td>0</td>\n      <td>0</td>\n      <td>0</td>\n      <td>0</td>\n      <td>0</td>\n      <td>0</td>\n      <td>0</td>\n      <td>0</td>\n      <td>0</td>\n      <td>0</td>\n    </tr>\n    <tr>\n      <th>15125</th>\n      <td>138703</td>\n      <td>https://sofifa.com/player/138703/andres-daless...</td>\n      <td>A. D'Alessandro</td>\n      <td>Andrés Nicolás D'Alessandro</td>\n      <td>CAM, RM</td>\n      <td>75</td>\n      <td>75</td>\n      <td>4285000.0</td>\n      <td>900.0</td>\n      <td>1981-04-15</td>\n      <td>...</td>\n      <td>0</td>\n      <td>0</td>\n      <td>0</td>\n      <td>0</td>\n      <td>0</td>\n      <td>0</td>\n      <td>0</td>\n      <td>0</td>\n      <td>0</td>\n      <td>0</td>\n    </tr>\n    <tr>\n      <th>16065</th>\n      <td>158293</td>\n      <td>https://sofifa.com/player/158293/zhi-zheng/220002</td>\n      <td>Zheng Zhi</td>\n      <td>郑智</td>\n      <td>CDM, CM</td>\n      <td>67</td>\n      <td>67</td>\n      <td>837750.0</td>\n      <td>5000.0</td>\n      <td>1980-08-20</td>\n      <td>...</td>\n      <td>0</td>\n      <td>0</td>\n      <td>0</td>\n      <td>0</td>\n      <td>0</td>\n      <td>0</td>\n      <td>0</td>\n      <td>0</td>\n      <td>0</td>\n      <td>0</td>\n    </tr>\n    <tr>\n      <th>16498</th>\n      <td>2702</td>\n      <td>https://sofifa.com/player/2702/kevin-ellison/2...</td>\n      <td>K. Ellison</td>\n      <td>Kevin Keith Ellison</td>\n      <td>LM, ST</td>\n      <td>58</td>\n      <td>58</td>\n      <td>243300.0</td>\n      <td>2000.0</td>\n      <td>1979-02-23</td>\n      <td>...</td>\n      <td>0</td>\n      <td>0</td>\n      <td>0</td>\n      <td>0</td>\n      <td>0</td>\n      <td>0</td>\n      <td>0</td>\n      <td>0</td>\n      <td>0</td>\n      <td>0</td>\n    </tr>\n    <tr>\n      <th>16814</th>\n      <td>29118</td>\n      <td>https://sofifa.com/player/29118/shinji-ono/220002</td>\n      <td>S. Ono</td>\n      <td>小野 伸二</td>\n      <td>CAM, CM</td>\n      <td>58</td>\n      <td>58</td>\n      <td>244400.0</td>\n      <td>800.0</td>\n      <td>1979-09-27</td>\n      <td>...</td>\n      <td>0</td>\n      <td>0</td>\n      <td>0</td>\n      <td>0</td>\n      <td>0</td>\n      <td>0</td>\n      <td>0</td>\n      <td>0</td>\n      <td>0</td>\n      <td>0</td>\n    </tr>\n    <tr>\n      <th>18159</th>\n      <td>29552</td>\n      <td>https://sofifa.com/player/29552/shunsuke-nakam...</td>\n      <td>S. Nakamura</td>\n      <td>中村 俊輔</td>\n      <td>CAM, CF, RW</td>\n      <td>63</td>\n      <td>63</td>\n      <td>552000.0</td>\n      <td>800.0</td>\n      <td>1978-06-24</td>\n      <td>...</td>\n      <td>0</td>\n      <td>0</td>\n      <td>0</td>\n      <td>0</td>\n      <td>0</td>\n      <td>0</td>\n      <td>0</td>\n      <td>0</td>\n      <td>0</td>\n      <td>0</td>\n    </tr>\n    <tr>\n      <th>18166</th>\n      <td>254704</td>\n      <td>https://sofifa.com/player/254704/kazuyoshi-miu...</td>\n      <td>K. Miura</td>\n      <td>三浦 知良</td>\n      <td>ST</td>\n      <td>59</td>\n      <td>59</td>\n      <td>323800.0</td>\n      <td>700.0</td>\n      <td>1967-02-26</td>\n      <td>...</td>\n      <td>0</td>\n      <td>0</td>\n      <td>0</td>\n      <td>0</td>\n      <td>0</td>\n      <td>0</td>\n      <td>0</td>\n      <td>0</td>\n      <td>0</td>\n      <td>0</td>\n    </tr>\n  </tbody>\n</table>\n<p>13 rows × 337 columns</p>\n</div>"
     },
     "execution_count": 84,
     "metadata": {},
     "output_type": "execute_result"
    }
   ],
   "source": [
    "# Populando\n",
    "data.loc[players_with_club_and_no_value.index, \"value_eur\"] = players_with_club_and_no_value.value_eur\n",
    "data.loc[players_with_club_and_no_value.index]"
   ],
   "metadata": {
    "collapsed": false,
    "pycharm": {
     "name": "#%%\n"
    }
   }
  },
  {
   "cell_type": "code",
   "execution_count": 85,
   "outputs": [
    {
     "data": {
      "text/plain": "value_eur                61\nwage_eur                 61\nclub_team_id             61\nclub_position            61\nclub_jersey_number       61\nrelease_clause_eur     1176\nplayer_tags           17798\nplayer_traits          9841\npace                   2132\nshooting               2132\npassing                2132\ndribbling              2132\ndefending              2132\nphysic                 2132\ngoalkeeping_speed     17107\ndtype: int64"
     },
     "metadata": {},
     "output_type": "display_data"
    }
   ],
   "source": [
    "count_na(data)"
   ],
   "metadata": {
    "collapsed": false,
    "pycharm": {
     "name": "#%%\n"
    }
   }
  },
  {
   "cell_type": "code",
   "execution_count": 86,
   "outputs": [
    {
     "data": {
      "text/plain": "release_clause_eur     1115\nplayer_tags           17744\nplayer_traits          9823\npace                   2124\nshooting               2124\npassing                2124\ndribbling              2124\ndefending              2124\nphysic                 2124\ngoalkeeping_speed     17054\ndtype: int64"
     },
     "metadata": {},
     "output_type": "display_data"
    }
   ],
   "source": [
    "# Removendo jogadores não ativos\n",
    "data = data.query(\"not club_team_id.isna()\").copy()\n",
    "\n",
    "count_na(data)"
   ],
   "metadata": {
    "collapsed": false,
    "pycharm": {
     "name": "#%%\n"
    }
   }
  },
  {
   "cell_type": "markdown",
   "source": [
    "### 3.3.2 Modelo #1: Regressão Linear <a class=\"anchor\" id=\"section-3-3-2\"></a>\n",
    "[Voltar ao topo](#section-0)"
   ],
   "metadata": {
    "collapsed": false,
    "pycharm": {
     "name": "#%% md\n"
    }
   }
  },
  {
   "cell_type": "markdown",
   "source": [
    "### Prevendo pace, shooting, passing, dribbling, defending, physic dos goleiros"
   ],
   "metadata": {
    "collapsed": false,
    "pycharm": {
     "name": "#%% md\n"
    }
   }
  },
  {
   "cell_type": "code",
   "execution_count": 87,
   "outputs": [
    {
     "name": "stdout",
     "output_type": "stream",
     "text": [
      "Prevendo pace\n",
      "model_name_LinearRegression_pace.pkl\n",
      "Score do R² modelo: 0.9993\n",
      "MSE: 0.0857\n",
      "MAE: 0.2511\n",
      "\n",
      "Prevendo shooting\n",
      "model_name_LinearRegression_shooting.pkl\n",
      "Score do R² modelo: 0.9990\n",
      "MSE: 0.1941\n",
      "MAE: 0.3545\n",
      "\n",
      "Prevendo passing\n",
      "model_name_LinearRegression_passing.pkl\n",
      "Score do R² modelo: 0.9961\n",
      "MSE: 0.3937\n",
      "MAE: 0.4799\n",
      "\n",
      "Prevendo dribbling\n",
      "model_name_LinearRegression_dribbling.pkl\n",
      "Score do R² modelo: 0.9991\n",
      "MSE: 0.0874\n",
      "MAE: 0.2553\n",
      "\n",
      "Prevendo defending\n",
      "model_name_LinearRegression_defending.pkl\n",
      "Score do R² modelo: 0.9997\n",
      "MSE: 0.0839\n",
      "MAE: 0.2508\n",
      "\n",
      "Prevendo physic\n",
      "model_name_LinearRegression_physic.pkl\n",
      "Score do R² modelo: 0.9991\n",
      "MSE: 0.0845\n",
      "MAE: 0.2508\n",
      "\n"
     ]
    },
    {
     "data": {
      "text/plain": "release_clause_eur     1115\nplayer_tags           17744\nplayer_traits          9823\ngoalkeeping_speed     17054\ndtype: int64"
     },
     "metadata": {},
     "output_type": "display_data"
    }
   ],
   "source": [
    "gk_data = data.query(\"GK == 1\").copy()\n",
    "data_without_gk = data.query(\"GK == 0\").copy()\n",
    "\n",
    "columns_to_predict = [\"pace\", \"shooting\", \"passing\", \"dribbling\", \"defending\", \"physic\"]\n",
    "\n",
    "for column_to_predict in columns_to_predict:\n",
    "\n",
    "    columns_to_drop_with_other_atributes = [col for col in columns_to_predict if col != column_to_predict]\n",
    "    columns_to_drop_with_other_atributes.extend(columns_to_drop)\n",
    "\n",
    "    data_to_train = data_without_gk.drop(columns=columns_to_drop_with_other_atributes)\n",
    "    data_to_predict = gk_data.drop(columns=columns_to_drop_with_other_atributes)\n",
    "\n",
    "    linear_regression = LinearRegression()\n",
    "    print(f\"Prevendo {column_to_predict}\")\n",
    "    filled_data = predict_and_populate(\n",
    "        data_to_predict, data_to_train, linear_regression,\n",
    "        column_to_predict, 0, save=True\n",
    "    )\n",
    "    print()\n",
    "\n",
    "    data.loc[filled_data.index, column_to_predict] = filled_data[column_to_predict]\n",
    "\n",
    "count_na(data)"
   ],
   "metadata": {
    "collapsed": false,
    "pycharm": {
     "name": "#%%\n"
    }
   }
  },
  {
   "cell_type": "markdown",
   "source": [
    "### Prevendo goalkeeping_speed dos jogadores"
   ],
   "metadata": {
    "collapsed": false,
    "pycharm": {
     "name": "#%% md\n"
    }
   }
  },
  {
   "cell_type": "code",
   "execution_count": 88,
   "outputs": [
    {
     "name": "stdout",
     "output_type": "stream",
     "text": [
      "model_name_LinearRegression_goalkeeping_speed.pkl\n",
      "Score do R² modelo: 0.9993\n",
      "MSE: 0.0866\n",
      "MAE: 0.2531\n"
     ]
    },
    {
     "data": {
      "text/plain": "release_clause_eur     1115\nplayer_tags           17744\nplayer_traits          9823\ndtype: int64"
     },
     "metadata": {},
     "output_type": "display_data"
    }
   ],
   "source": [
    "players_data = data.query(\"GK == 0\").copy()\n",
    "data_to_predict = players_data.drop(columns=columns_to_drop)\n",
    "data_to_train = gk_data.drop(columns=columns_to_drop)\n",
    "\n",
    "column_to_predict = \"goalkeeping_speed\"\n",
    "\n",
    "linear_regression = LinearRegression()\n",
    "filled_data = predict_and_populate(\n",
    "    data_to_predict, data_to_train, linear_regression, column_to_predict, 0, save=True\n",
    ")\n",
    "\n",
    "data.loc[filled_data.index, column_to_predict] = filled_data[column_to_predict]\n",
    "count_na(data)"
   ],
   "metadata": {
    "collapsed": false,
    "pycharm": {
     "name": "#%%\n"
    }
   }
  },
  {
   "cell_type": "code",
   "execution_count": 89,
   "outputs": [],
   "source": [
    "# Removendo release_clause_eur\n",
    "data.drop(columns=[\"release_clause_eur\"], inplace=True)\n",
    "\n",
    "filled_data_save_path = os.sep.join([get_project_root_path(), \"preprocessing\", \"data\", f\"filled_data.tsv\"])\n",
    "data.to_csv(filled_data_save_path, index=False, sep=\"\\t\")"
   ],
   "metadata": {
    "collapsed": false,
    "pycharm": {
     "name": "#%%\n"
    }
   }
  },
  {
   "cell_type": "markdown",
   "id": "31e1c010",
   "metadata": {
    "pycharm": {
     "name": "#%% md\n"
    }
   },
   "source": [
    "### 3.3.3 Modelo #3: Regressão Logística <a class=\"anchor\" id=\"section-3-3-3\"></a>\n",
    "[Voltar ao topo](#section-0)"
   ]
  },
  {
   "cell_type": "markdown",
   "id": "67ac7e0a",
   "metadata": {
    "pycharm": {
     "name": "#%% md\n"
    }
   },
   "source": [
    "Separando preditores e labels"
   ]
  },
  {
   "cell_type": "code",
   "execution_count": 8,
   "id": "5fd54595",
   "metadata": {
    "pycharm": {
     "name": "#%%\n"
    }
   },
   "outputs": [],
   "source": [
    "X, y = features.drop('tag #FK Specialist', axis=1), filtered_df['tag #FK Specialist']"
   ]
  },
  {
   "cell_type": "markdown",
   "id": "c6d36603",
   "metadata": {
    "pycharm": {
     "name": "#%% md\n"
    }
   },
   "source": [
    "Separando dados de treino e teste"
   ]
  },
  {
   "cell_type": "code",
   "execution_count": 9,
   "id": "04a043ea",
   "metadata": {
    "pycharm": {
     "name": "#%%\n"
    }
   },
   "outputs": [],
   "source": [
    "X_train, X_test, y_train, y_test = train_test_split(\n",
    "    filtered_df[[\"skill_fk_accuracy\"]], filtered_df['tag #FK Specialist'],\n",
    "    random_state=0\n",
    ")"
   ]
  },
  {
   "cell_type": "markdown",
   "id": "c5243d38",
   "metadata": {
    "pycharm": {
     "name": "#%% md\n"
    }
   },
   "source": [
    "Após a nossa minuciosa análise, decidimos usar um modelo de regressão logística com validação cruzada maximizar o *recall* (métrica). \n",
    "\n",
    "Tal decisão foi tomada pois o **nosso conjunto de dados é extremamente desbalanceado** (há muito mais verdadeiros negativos do que verdadeiros positivos), e nas configurações padrão do modelo acabamos com uma acurácia alta, porém com uma alta taxa de falsos positivos\n",
    "\n"
   ]
  },
  {
   "cell_type": "code",
   "execution_count": 10,
   "id": "ca82b313",
   "metadata": {
    "pycharm": {
     "name": "#%%\n"
    }
   },
   "outputs": [],
   "source": [
    "# Treinando o modelo\n",
    "model_reglog = LogisticRegressionCV(scoring='recall').fit(X_train, y_train)"
   ]
  },
  {
   "cell_type": "markdown",
   "id": "c03df9c9",
   "metadata": {
    "pycharm": {
     "name": "#%% md\n"
    }
   },
   "source": [
    "### 3.3.4 Modelo #4: Máquina de Vetores de Suporte <a class=\"anchor\" id=\"section-3-3-4\"></a>\n",
    "[Voltar ao topo](#section-0)"
   ]
  },
  {
   "cell_type": "markdown",
   "id": "fb2fd08d",
   "metadata": {
    "pycharm": {
     "name": "#%% md\n"
    }
   },
   "source": [
    "## 3.4 Avaliação dos Modelos <a class=\"anchor\" id=\"section-3-4\"></a>\n",
    "[Voltar ao topo](#section-0)"
   ]
  },
  {
   "cell_type": "code",
   "execution_count": 11,
   "id": "1f5d44bb",
   "metadata": {
    "pycharm": {
     "name": "#%%\n"
    }
   },
   "outputs": [],
   "source": [
    "# Para calcular as métricas de performance dos modelos\n",
    "from sklearn.metrics import accuracy_score\n",
    "from sklearn.metrics import confusion_matrix\n",
    "from sklearn.metrics import recall_score"
   ]
  },
  {
   "cell_type": "code",
   "execution_count": 12,
   "id": "03c62930",
   "metadata": {
    "pycharm": {
     "name": "#%%\n"
    }
   },
   "outputs": [],
   "source": [
    "# Para gerar visualizações\n",
    "import matplotlib.pyplot as plt\n",
    "%matplotlib inline\n",
    "import seaborn as sns\n",
    "sns.set(font_scale=2)"
   ]
  },
  {
   "cell_type": "markdown",
   "id": "c537ee25",
   "metadata": {
    "pycharm": {
     "name": "#%% md\n"
    }
   },
   "source": [
    "### 3.4.1 Modelo #1: Regressão Linear <a class=\"anchor\" id=\"section-3-4-1\"></a>\n",
    "[Voltar ao topo](#section-0)"
   ]
  },
  {
   "cell_type": "markdown",
   "id": "3d13fcfb",
   "metadata": {
    "pycharm": {
     "name": "#%% md\n"
    }
   },
   "source": [
    "### 3.4.2 Modelo #2: Floresta Aleatória <a class=\"anchor\" id=\"section-3-4-2\"></a>\n",
    "[Voltar ao topo](#section-0)"
   ]
  },
  {
   "cell_type": "markdown",
   "id": "afef0473",
   "metadata": {
    "pycharm": {
     "name": "#%% md\n"
    }
   },
   "source": [
    "### 3.4.3 Modelo #3: Regressão Logística <a class=\"anchor\" id=\"section-3-4-3\"></a>\n",
    "[Voltar ao topo](#section-0)"
   ]
  },
  {
   "cell_type": "markdown",
   "id": "fa113d0f",
   "metadata": {
    "pycharm": {
     "name": "#%% md\n"
    }
   },
   "source": [
    "Usando nosso modelo para predizer os valores de y do nosso dataset de teste"
   ]
  },
  {
   "cell_type": "code",
   "execution_count": 13,
   "id": "291cc9b6",
   "metadata": {
    "pycharm": {
     "name": "#%%\n"
    }
   },
   "outputs": [],
   "source": [
    "y_pred = model_reglog.predict(X_test)"
   ]
  },
  {
   "cell_type": "markdown",
   "id": "7b6296f2",
   "metadata": {
    "pycharm": {
     "name": "#%% md\n"
    }
   },
   "source": [
    "**Acurácia**"
   ]
  },
  {
   "cell_type": "code",
   "execution_count": 14,
   "id": "415dbbf8",
   "metadata": {
    "pycharm": {
     "name": "#%%\n"
    }
   },
   "outputs": [
    {
     "name": "stdout",
     "output_type": "stream",
     "text": [
      "acurácia = 1.000\n"
     ]
    }
   ],
   "source": [
    "acuracia = accuracy_score(y_test, y_pred)\n",
    "print(f'acurácia = {acuracia:.3f}')"
   ]
  },
  {
   "cell_type": "markdown",
   "id": "66fd5ca7",
   "metadata": {
    "pycharm": {
     "name": "#%% md\n"
    }
   },
   "source": [
    "**Recall**"
   ]
  },
  {
   "cell_type": "code",
   "execution_count": 15,
   "id": "a5c7d613",
   "metadata": {
    "pycharm": {
     "name": "#%%\n"
    }
   },
   "outputs": [
    {
     "name": "stdout",
     "output_type": "stream",
     "text": [
      "recall = 1.000\n"
     ]
    }
   ],
   "source": [
    "rc = recall_score(y_test, y_pred)\n",
    "print(f'recall = {rc:.3f}')"
   ]
  },
  {
   "cell_type": "markdown",
   "id": "f1e998f3",
   "metadata": {
    "pycharm": {
     "name": "#%% md\n"
    }
   },
   "source": [
    "**Verificando coeficiente de correlação para cada uma das features**"
   ]
  },
  {
   "cell_type": "code",
   "execution_count": 16,
   "id": "56411cd7",
   "metadata": {
    "pycharm": {
     "name": "#%%\n"
    }
   },
   "outputs": [
    {
     "ename": "NameError",
     "evalue": "name 'model' is not defined",
     "output_type": "error",
     "traceback": [
      "\u001B[0;31m---------------------------------------------------------------------------\u001B[0m",
      "\u001B[0;31mNameError\u001B[0m                                 Traceback (most recent call last)",
      "\u001B[0;32m/tmp/ipykernel_17518/3657802422.py\u001B[0m in \u001B[0;36m<module>\u001B[0;34m\u001B[0m\n\u001B[0;32m----> 1\u001B[0;31m \u001B[0;32mfor\u001B[0m \u001B[0mi\u001B[0m \u001B[0;32min\u001B[0m \u001B[0mrange\u001B[0m\u001B[0;34m(\u001B[0m\u001B[0mlen\u001B[0m\u001B[0;34m(\u001B[0m\u001B[0mmodel\u001B[0m\u001B[0;34m.\u001B[0m\u001B[0mcoef_\u001B[0m\u001B[0;34m)\u001B[0m\u001B[0;34m)\u001B[0m\u001B[0;34m:\u001B[0m\u001B[0;34m\u001B[0m\u001B[0;34m\u001B[0m\u001B[0m\n\u001B[0m\u001B[1;32m      2\u001B[0m     \u001B[0mprint\u001B[0m\u001B[0;34m(\u001B[0m\u001B[0;34mf'model.coef_  = {model.coef_[i].round(3)}'\u001B[0m\u001B[0;34m)\u001B[0m\u001B[0;34m\u001B[0m\u001B[0;34m\u001B[0m\u001B[0m\n",
      "\u001B[0;31mNameError\u001B[0m: name 'model' is not defined"
     ]
    }
   ],
   "source": [
    "for i in range(len(model.coef_)):\n",
    "    print(f'model.coef_  = {model.coef_[i].round(3)}')"
   ]
  },
  {
   "cell_type": "code",
   "execution_count": null,
   "id": "ff34ed11",
   "metadata": {
    "pycharm": {
     "name": "#%%\n"
    }
   },
   "outputs": [],
   "source": [
    "cf_matrix = confusion_matrix(y_test, y_pred)\n",
    "group_names = ['True Neg','False Pos','False Neg','True Pos']\n",
    "group_counts = [\"{0:0.0f}\".format(value) for value in\n",
    "                cf_matrix.flatten()]\n",
    "group_percentages = [\"{0:.2%}\".format(value) for value in\n",
    "                     cf_matrix.flatten()/np.sum(cf_matrix)]\n",
    "labels = [f\"{v1}\\n{v2}\\n{v3}\" for v1, v2, v3 in\n",
    "          zip(group_names,group_counts,group_percentages)]\n",
    "labels = np.asarray(labels).reshape(2,2)"
   ]
  },
  {
   "cell_type": "code",
   "execution_count": null,
   "id": "6d77c9f2",
   "metadata": {
    "pycharm": {
     "name": "#%%\n"
    },
    "scrolled": false
   },
   "outputs": [],
   "source": [
    "plt.figure(figsize=(15,8))\n",
    "plt.title('Matriz de confusão: Esse jogador é um #FK Specialist?', weight='bold').set_fontsize(30)\n",
    "sns.heatmap(confusion_matrix(y_test, y_pred), annot=labels, fmt='', cmap='Blues')\n",
    "plt.xlabel(f'Predicted value\\n\\naccuracy = {acuracia:.3f}\\nrecall = {rc:.3f}')\n",
    "plt.ylabel('True value')\n",
    "plt.show()"
   ]
  },
  {
   "cell_type": "markdown",
   "id": "3a046aaf",
   "metadata": {
    "pycharm": {
     "name": "#%% md\n"
    }
   },
   "source": [
    "### 3.4.4 Modelo #4: Máquina de Vetores de Suporte <a class=\"anchor\" id=\"section-3-4-4\"></a>\n",
    "[Voltar ao topo](#section-0)"
   ]
  },
  {
   "cell_type": "markdown",
   "id": "e26348d5",
   "metadata": {
    "pycharm": {
     "name": "#%% md\n"
    }
   },
   "source": [
    "## 3.5 Persistência e Disponibilização dos Modelos <a class=\"anchor\" id=\"section-3-5\"></a>\n",
    "[Voltar ao topo](#section-0)"
   ]
  },
  {
   "cell_type": "markdown",
   "id": "d101f3d4",
   "metadata": {
    "pycharm": {
     "name": "#%% md\n"
    }
   },
   "source": [
    "# 4. Resultados <a class=\"anchor\" id=\"section-4\"></a>\n",
    "[Voltar ao topo](#section-0)"
   ]
  },
  {
   "cell_type": "markdown",
   "id": "2d909e50",
   "metadata": {
    "pycharm": {
     "name": "#%% md\n"
    }
   },
   "source": [
    "# 5. Limitações <a class=\"anchor\" id=\"section-5\"></a>\n",
    "[Voltar ao topo](#section-0)"
   ]
  },
  {
   "cell_type": "markdown",
   "id": "8a705c9f",
   "metadata": {
    "pycharm": {
     "name": "#%% md\n"
    }
   },
   "source": [
    "# 6. Conclusões <a class=\"anchor\" id=\"section-6\"></a>\n",
    "[Voltar ao topo](#section-0)"
   ]
  },
  {
   "cell_type": "markdown",
   "id": "0c199579",
   "metadata": {
    "pycharm": {
     "name": "#%% md\n"
    }
   },
   "source": [
    "# Referências<a class=\"anchor\" id=\"section-n\"></a>\n",
    "[Voltar ao topo](#section-0)"
   ]
  },
  {
   "cell_type": "markdown",
   "id": "12bb0f68",
   "metadata": {
    "pycharm": {
     "name": "#%% md\n"
    }
   },
   "source": [
    "- [FIFA 22 complete player dataset](https://www.kaggle.com/datasets/stefanoleone992/fifa-22-complete-player-dataset)"
   ]
  }
 ],
 "metadata": {
  "kernelspec": {
   "display_name": "Python 3 (ipykernel)",
   "language": "python",
   "name": "python3"
  },
  "language_info": {
   "codemirror_mode": {
    "name": "ipython",
    "version": 3
   },
   "file_extension": ".py",
   "mimetype": "text/x-python",
   "name": "python",
   "nbconvert_exporter": "python",
   "pygments_lexer": "ipython3",
   "version": "3.9.13"
  }
 },
 "nbformat": 4,
 "nbformat_minor": 5
}