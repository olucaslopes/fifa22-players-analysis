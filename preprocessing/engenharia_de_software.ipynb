{
 "cells": [
  {
   "cell_type": "markdown",
   "metadata": {
    "pycharm": {
     "name": "#%% md\n"
    }
   },
   "source": [
    "# Requisitos da matéria de Engenharia de Software\n",
    "\n",
    "- **REQ#O1**: Propor ao menos cinco variáveis de estado com os seus respectivos domínios\n",
    "de valores no mundo lógico.\n",
    "\n",
    "- **REQ#02**: Especificar um predicado de estado inicial, uma função de estado, um\n",
    "predicado de estado e uma ação, pelo menos, envolvendo as variáveis de estado\n",
    "propostas no mundo lógico.\n",
    "\n",
    "- **REQ#03**: lustrar os predicados, funções e ações no contexto de estados específicos do\n",
    "negócio do projeto.\n",
    "\n",
    "- **REQ#04**: Implementar as variáveis de estado, os predicados, funções e ações em\n",
    "Python usando a arquitetura de referência (módulos de entrada, saída, controle, modelo\n",
    "e validação).\n",
    "\n",
    "- **REQ#05**: Mostrar que o código em Python produz os resultados especificados no\n",
    "mundo lógico.\n",
    "\n",
    "- **REQ#06**: Documentar o modelo lógico e o de implementação na linguagem Python em\n",
    "um caderno Jupyter."
   ]
  },
  {
   "cell_type": "markdown",
   "metadata": {
    "pycharm": {
     "name": "#%% md\n"
    }
   },
   "source": [
    "Um dos atributos que precisamos criar para os nossos jogadores é o Indice de Massa Corporal. O IMC é uma métrica calculada pela formula:\n",
    "$$IMC = \\frac{peso}{altura^2}$$\n",
    "A partir do IMC, podemos determinar se um jogador está acima ou a baixo do peso ideal.\n",
    "Um IMC acima de 30 representa obesidade, e um IMC abaixo de 20 representa magreza.\n",
    "\n",
    "Para implementar essa informação no nosso conjunto de dados precisamos primeiramente definir como ela seria implementada no mundo lógico para depois traduzi-la para Python. Para isso vamos precisar das seguintes variáveis:\n",
    "\n",
    "VARIÁVEIS\n",
    "&emsp;&emsp;&emsp;&emsp;$peso: Peso$\n",
    "&emsp;&emsp;&emsp;&emsp;$altura: Altura$\n",
    "&emsp;&emsp;&emsp;&emsp;$imc: Float$\n",
    "&emsp;&emsp;&emsp;&emsp;$obesidade: Boolean$\n",
    "&emsp;&emsp;&emsp;&emsp;$magreza: Boolean$\n",
    "&emsp;&emsp;&emsp;&emsp;$normal: Boolean$\n",
    "&emsp;&emsp;&emsp;&emsp;$válido: Boolean$\n"
   ]
  },
  {
   "cell_type": "markdown",
   "metadata": {
    "pycharm": {
     "name": "#%% md\n"
    }
   },
   "source": [
    "Assim temos que o nosso predicado de inicio é:\n",
    "\n",
    "$$inicio \\triangleq\\wedge peso = \\bot$$\n",
    "$$\\wedge altura = \\bot$$\n",
    "$$\\wedge imc = \\bot$$\n",
    "$$\\wedge obesidade = \\bot$$\n",
    "$$\\wedge magreza = \\bot$$\n",
    "$$\\wedge normal = \\bot$$\n",
    "$$\\wedge válido = False$$\n"
   ]
  },
  {
   "cell_type": "markdown",
   "source": [
    "TODO adicionar referencias para os limites dos tipos abstratos"
   ],
   "metadata": {
    "collapsed": false,
    "pycharm": {
     "name": "#%% md\n"
    }
   }
  },
  {
   "cell_type": "markdown",
   "source": [
    "Definindo os tipos Peso e Altura\n",
    "$$Peso \\triangleq [~p: Float~|~0 < p < 200~]$$\n",
    "$$Altura \\triangleq [~a: Float~|~0 < a < 3~]$$"
   ],
   "metadata": {
    "collapsed": false,
    "pycharm": {
     "name": "#%% md\n"
    }
   }
  },
  {
   "cell_type": "markdown",
   "metadata": {
    "pycharm": {
     "name": "#%% md\n"
    }
   },
   "source": [
    "Agora vamos definir a função que calcula o IMC:\n",
    "\n",
    "$$calculaIMC \\triangleq \\lambda peso : Peso, ~ altura : Altura \\bullet \\frac{peso}{altura^2}$$\n",
    "\n",
    "Uma que verifica a obesidade:\n",
    "\n",
    "$$verificaObesidade \\triangleq \\lambda imc : Float \\bullet ~\\textbf{if}~ imc \\geq 30 ~\\textbf{then}~ True ~\\textbf{else}~ False$$\n",
    "\n",
    "Uma que verifica a magreza:\n",
    "\n",
    "$$verificaMagreza \\triangleq \\lambda imc : Float \\bullet ~\\textbf{if}~ imc \\leq 20 ~\\textbf{then}~ True ~\\textbf{else}~ False$$\n",
    "\n",
    "E outra que verifica a normalidade:\n",
    "\n",
    "$$verificaNormal \\triangleq \\lambda imc : Float \\bullet ~\\textbf{if}~ 20 < imc < 30 ~\\textbf{then}~ True ~\\textbf{else}~ False$$\n"
   ]
  },
  {
   "cell_type": "markdown",
   "metadata": {
    "pycharm": {
     "name": "#%% md\n"
    }
   },
   "source": [
    "Classificando um jogador\n",
    "\n",
    "$$classificaJogador_1[p,~a] \\triangleq\\wedge Peso(p)~\\wedge Altura(a)$$\n",
    "$$\\wedge peso' = Peso(p)$$\n",
    "$$\\wedge altura' = Altura(a)$$\n",
    "$$\\wedge imc' = calculaIMC(peso', altura')$$\n",
    "$$\\wedge obesidade' = verificaObesidade(imc')$$\n",
    "$$\\wedge magreza' = verificaMagreza(imc')$$\n",
    "$$\\wedge normal' = verificaNormal(imc')$$\n",
    "$$\\wedge válido' = True$$\n",
    "<br>\n",
    "<br>\n",
    "$$classificaJogador_2[p,~a] \\triangleq \\wedge (\\lnot Peso(p) \\lor \\lnot Altura(a))$$\n",
    "$$\\wedge peso' = \\bot$$\n",
    "$$\\wedge altura' = \\bot$$\n",
    "$$\\wedge imc' = \\bot$$\n",
    "$$\\wedge obesidade' = \\bot$$\n",
    "$$\\wedge magreza' = \\bot$$\n",
    "$$\\wedge normal' = \\bot$$\n",
    "$$\\wedge válido' = False$$\n",
    "<br>\n",
    "<br>\n",
    "$$classificaJogador[p,~a] \\triangleq classificaJogador_1[p,~a] \\lor classificaJogador_2[p,~a]$$"
   ]
  },
  {
   "cell_type": "markdown",
   "source": [
    "Agora implementando essa lógica em python"
   ],
   "metadata": {
    "collapsed": false,
    "pycharm": {
     "name": "#%% md\n"
    }
   }
  },
  {
   "cell_type": "code",
   "execution_count": 3,
   "metadata": {
    "pycharm": {
     "name": "#%%\n"
    }
   },
   "outputs": [
    {
     "name": "stdout",
     "output_type": "stream",
     "text": [
      "O jogador L. Messi possuí um IMC igual a 34.72\n",
      "obesidade_ = True\n",
      "magreza_ = False\n",
      "normal_ = False\n",
      "valido_ = True\n"
     ]
    }
   ],
   "source": [
    "# Inicio\n",
    "peso: float = 0\n",
    "altura: float = 0\n",
    "imc: float = 0\n",
    "obesidade: bool = False\n",
    "magreza: bool = False\n",
    "normal: bool = False\n",
    "valido: bool = False\n",
    "# Adicionar válido\n",
    "\n",
    "\n",
    "\n",
    "def valida_peso(p):\n",
    "    return 0 < p < 200\n",
    "\n",
    "\n",
    "def valida_altura(a):\n",
    "    return 0 < a < 3\n",
    "\n",
    "\n",
    "def calcula_imc(peso: float, altura: float) -> float:\n",
    "    return peso / (altura ** 2)\n",
    "\n",
    "\n",
    "def verifica_obesidade(imc: float) -> bool:\n",
    "    return imc >= 30\n",
    "\n",
    "\n",
    "def verifica_magreza(imc: float) -> bool:\n",
    "    return imc <= 20\n",
    "\n",
    "\n",
    "def verifica_normal(imc: float) -> bool:\n",
    "    return 20 < imc < 30\n",
    "\n",
    "\n",
    "def classifica_jogador(peso: float, altura: float) -> tuple:\n",
    "    if valida_altura(altura) and valida_peso(peso):\n",
    "        imc = calcula_imc(peso, altura)\n",
    "        obesidade = verifica_obesidade(imc)\n",
    "        magreza = verifica_magreza(imc)\n",
    "        normal = verifica_normal(imc)\n",
    "        valido = True\n",
    "    else:\n",
    "        raise ValueError(\"Peso ou altura inválidos\")\n",
    "    return imc, obesidade, magreza, normal, valido\n",
    "\n",
    "\n",
    "# Calculando o IMC do jogador L. Messi\n",
    "# o peso dele é de 72Kg e a altura é de 1,70m\n",
    "\n",
    "peso_ = 110\n",
    "altura_ = 1.78\n",
    "\n",
    "\n",
    "imc_, obesidade_, magreza_, normal_, valido_ = classifica_jogador(peso_, altura_)\n",
    "\n",
    "print(f\"O jogador L. Messi possuí um IMC igual a {imc_:.2f}\\n{obesidade_ = }\\n{magreza_ = }\\n{normal_ = }\\n{valido_ = }\")"
   ]
  }
 ],
 "metadata": {
  "kernelspec": {
   "display_name": "Python 3 (ipykernel)",
   "language": "python",
   "name": "python3"
  },
  "language_info": {
   "codemirror_mode": {
    "name": "ipython",
    "version": 3
   },
   "file_extension": ".py",
   "mimetype": "text/x-python",
   "name": "python",
   "nbconvert_exporter": "python",
   "pygments_lexer": "ipython3",
   "version": "3.10.4"
  }
 },
 "nbformat": 4,
 "nbformat_minor": 1
}