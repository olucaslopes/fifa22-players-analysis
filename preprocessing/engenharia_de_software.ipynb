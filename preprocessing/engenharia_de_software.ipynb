{
 "cells": [
  {
   "cell_type": "markdown",
   "metadata": {
    "pycharm": {
     "name": "#%% md\n"
    }
   },
   "source": [
    "# Requisitos da matéria de Engenharia de Software\n",
    "\n",
    "- **REQ#O1**: Propor ao menos cinco variáveis de estado com os seus respectivos domínios\n",
    "de valores no mundo lógico.\n",
    "\n",
    "- **REQ#02**: Especificar um predicado de estado inicial, uma função de estado, um\n",
    "predicado de estadoe uma ação, pelo menos, envolvendo as variáveis de estado\n",
    "propostas no mundo lógico.\n",
    "\n",
    "- **REQ#03**: lustrar os predicados, funções e ações no contexto de estados específicos do\n",
    "negócio do projeto.\n",
    "\n",
    "- **REQ#04**: Implementar as variáveis de estado, os predicados, funções e ações em\n",
    "Python usando a arquitetura de referência (módulos de entrada, saída, controle, modelo\n",
    "e validação).\n",
    "\n",
    "- **REQ#05**: Mostrar que o código em Python produz os resultados especificados no\n",
    "mundo lógico.\n",
    "\n",
    "- **REQ#06**: Documentar o modelo lógico e o de implementação na linguagem Python em\n",
    "um caderno Jupyter."
   ]
  },
  {
   "cell_type": "markdown",
   "metadata": {
    "pycharm": {
     "name": "#%% md\n"
    }
   },
   "source": [
    "Um dos atributos que precisamos criar para os nossos jogadores é o Indice de Massa Corporal. O IMC é uma métrica calculada pela formula:\n",
    "$$IMC = \\frac{peso}{altura^2}$$\n",
    "A partir do IMC, podemos determinar se um jogador está acima ou a baixo do peso ideal.\n",
    "Um IMC acima de 30 representa obesidade, e um IMC abaixo de 20 representa magreza.\n",
    "\n",
    "Para implementar essa informação no nosso conjunto de dados precisamos primeiramente definir como ela seria implementada no mundo lógico para depois traduzi-la para Python. Para isso vamos precisar das seguintes variáveis:\n",
    "\n",
    "VARIÁVEIS\n",
    "&emsp;&emsp;&emsp;&emsp;$peso: Float$\n",
    "&emsp;&emsp;&emsp;&emsp;$altura: Float$\n",
    "&emsp;&emsp;&emsp;&emsp;$imc: Float$\n",
    "&emsp;&emsp;&emsp;&emsp;$obesidade: Boolean$\n",
    "&emsp;&emsp;&emsp;&emsp;$magreza: Boolean$\n"
   ]
  },
  {
   "cell_type": "markdown",
   "metadata": {
    "pycharm": {
     "name": "#%% md\n"
    }
   },
   "source": [
    "$$inicio \\triangleq peso \\equals\\bot$$\n",
    "$$altura \\equals \\bot$$\n",
    "$$imc \\equals \\bot$$\n",
    "$$obesidade \\equals $\\bot$$\n",
    "$$magreza \\equals \\bot$$\n",
    "Assim temos que o nosso predicado de inicio é:\n",
    "\n",
    "$$inicio \\triangleq\\wedge peso \\equals \\bot$$\n",
    "$$\\wedge altura \\equals \\bot$$\n",
    "$$\\wedge imc \\equals \\bot$$\n",
    "$$\\wedge obesidade \\equals \\bot$$\n",
    "$$\\wedge magreza \\equals \\bot$$\n"
   ]
  },
  {
   "cell_type": "markdown",
   "metadata": {
    "pycharm": {
     "name": "#%% md\n"
    }
   },
   "source": [
    "Agora vamos definir a função que calcula o IMC:\n",
    "\n",
    "$$calculaIMC \\triangleq \\lambda peso, altura : Float \\bullet \\frac{peso}{altura^2}$$\n",
    "\n",
    "Uma que verifica a obesidade:\n",
    "\n",
    "$$verificaObesidade \\triangleq \\lambda imc : Float \\bullet imc \\geq 30$$\n",
    "\n",
    "E uma que verifica a magreza:\n",
    "\n",
    "$$verificaMagreza \\triangleq \\lambda imc : Float \\bullet imc \\leq 20$$"
   ]
  },
  {
   "cell_type": "markdown",
   "metadata": {
    "pycharm": {
     "name": "#%% md\n"
    }
   },
   "source": [
    "Classificando um jogador\n",
    "\n",
    "$$classificaJogador[peso, altura] \\triangleq \\wedge peso \\in Float \\wedge altura \\in Float$$\n",
    "$$\\wedge imc' \\equals calculaIMC(peso, altura)$$\n",
    "$$\\wedge obesidade' \\equals verificaObesidade(imc')$$\n",
    "$$\\wedge magreza' \\equals verificaMagreza(imc')$$"
   ]
  }
 ],
 "metadata": {
  "kernelspec": {
   "display_name": "Python 3 (ipykernel)",
   "language": "python",
   "name": "python3"
  },
  "language_info": {
   "codemirror_mode": {
    "name": "ipython",
    "version": 3
   },
   "file_extension": ".py",
   "mimetype": "text/x-python",
   "name": "python",
   "nbconvert_exporter": "python",
   "pygments_lexer": "ipython3",
   "version": "3.9.13"
  }
 },
 "nbformat": 4,
 "nbformat_minor": 1
}