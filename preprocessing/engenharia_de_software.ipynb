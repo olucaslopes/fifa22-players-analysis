{
 "cells": [
  {
   "cell_type": "markdown",
   "metadata": {
    "pycharm": {
     "name": "#%% md\n"
    }
   },
   "source": [
    "# Requisitos da matéria de Engenharia de Software\n",
    "\n",
    "- **REQ#O1**: Propor ao menos cinco variáveis de estado com os seus respectivos domínios\n",
    "de valores no mundo lógico.\n",
    "\n",
    "- **REQ#02**: Especificar um predicado de estado inicial, uma função de estado, um\n",
    "predicado de estado e uma ação, pelo menos, envolvendo as variáveis de estado\n",
    "propostas no mundo lógico.\n",
    "\n",
    "- **REQ#03**: lustrar os predicados, funções e ações no contexto de estados específicos do\n",
    "negócio do projeto.\n",
    "\n",
    "- **REQ#04**: Implementar as variáveis de estado, os predicados, funções e ações em\n",
    "Python usando a arquitetura de referência (módulos de entrada, saída, controle, modelo\n",
    "e validação).\n",
    "\n",
    "- **REQ#05**: Mostrar que o código em Python produz os resultados especificados no\n",
    "mundo lógico.\n",
    "\n",
    "- **REQ#06**: Documentar o modelo lógico e o de implementação na linguagem Python em\n",
    "um caderno Jupyter."
   ]
  },
  {
   "cell_type": "markdown",
   "metadata": {
    "pycharm": {
     "name": "#%% md\n"
    }
   },
   "source": [
    "Um dos atributos que precisamos criar para os nossos jogadores é o Indice de Massa Corporal. O IMC é uma métrica calculada pela formula:\n",
    "$$IMC = \\frac{peso}{altura^2}$$\n",
    "A partir do IMC, podemos determinar se um jogador está acima ou a baixo do peso ideal.\n",
    "Um IMC acima de 30 representa obesidade, e um IMC abaixo de 20 representa magreza.\n",
    "\n",
    "Para implementar essa informação no nosso conjunto de dados precisamos primeiramente definir como ela seria implementada no mundo lógico para depois traduzi-la para Python. Para isso vamos precisar das seguintes variáveis:\n",
    "\n",
    "VARIÁVEIS\n",
    "&emsp;&emsp;&emsp;&emsp;$peso: Float$\n",
    "&emsp;&emsp;&emsp;&emsp;$altura: Float$\n",
    "&emsp;&emsp;&emsp;&emsp;$imc: Float$\n",
    "&emsp;&emsp;&emsp;&emsp;$obesidade: Boolean$\n",
    "&emsp;&emsp;&emsp;&emsp;$magreza: Boolean$\n"
   ]
  },
  {
   "cell_type": "markdown",
   "metadata": {
    "pycharm": {
     "name": "#%% md\n"
    }
   },
   "source": [
    "$$inicio \\triangleq peso =\\bot$$\n",
    "$$altura = \\bot$$\n",
    "$$imc = \\bot$$\n",
    "$$obesidade = $\\bot$$\n",
    "$$magreza = \\bot$$\n",
    "Assim temos que o nosso predicado de inicio é:\n",
    "\n",
    "$$inicio \\triangleq\\wedge peso = \\bot$$\n",
    "$$\\wedge altura = \\bot$$\n",
    "$$\\wedge imc = \\bot$$\n",
    "$$\\wedge obesidade = \\bot$$\n",
    "$$\\wedge magreza = \\bot$$\n"
   ]
  },
  {
   "cell_type": "markdown",
   "metadata": {
    "pycharm": {
     "name": "#%% md\n"
    }
   },
   "source": [
    "Agora vamos definir a função que calcula o IMC:\n",
    "\n",
    "$$calculaIMC \\triangleq \\lambda peso, altura : Float \\bullet \\frac{peso}{altura^2}$$\n",
    "\n",
    "Uma que verifica a obesidade:\n",
    "\n",
    "$$verificaObesidade \\triangleq \\lambda imc : Float \\bullet imc \\geq 30$$\n",
    "\n",
    "E uma que verifica a magreza:\n",
    "\n",
    "$$verificaMagreza \\triangleq \\lambda imc : Float \\bullet imc \\leq 20$$"
   ]
  },
  {
   "cell_type": "markdown",
   "metadata": {
    "pycharm": {
     "name": "#%% md\n"
    }
   },
   "source": [
    "Classificando um jogador\n",
    "\n",
    "$$classificaJogador[peso, altura] \\triangleq \\wedge peso \\in Float \\wedge altura \\in Float$$\n",
    "$$\\wedge imc' = calculaIMC(peso, altura)$$\n",
    "$$\\wedge obesidade' = verificaObesidade(imc')$$\n",
    "$$\\wedge magreza' = verificaMagreza(imc')$$"
   ]
  },
  {
   "cell_type": "markdown",
   "source": [
    "Agora implementando essa lógica em python"
   ],
   "metadata": {
    "collapsed": false,
    "pycharm": {
     "name": "#%% md\n"
    }
   }
  },
  {
   "cell_type": "code",
   "execution_count": 6,
   "metadata": {
    "pycharm": {
     "name": "#%%\n"
    }
   },
   "outputs": [
    {
     "name": "stdout",
     "output_type": "stream",
     "text": [
      "O jogador L. Messi possuí um IMC igual a 34.72\n",
      "obesidade = True\n",
      "magreza = False\n"
     ]
    }
   ],
   "source": [
    "# Inicio\n",
    "# peso: float = None\n",
    "# altura: float = None\n",
    "# imc: float = None\n",
    "# obesidade: bool = None\n",
    "# magreza: bool = None\n",
    "\n",
    "\n",
    "def calcula_imc(peso: float, altura: float) -> float:\n",
    "    return peso / (altura ** 2)\n",
    "\n",
    "\n",
    "def verifica_obesidade(imc: float) -> bool:\n",
    "    return imc >= 30\n",
    "\n",
    "\n",
    "def verifica_magreza(imc: float) -> bool:\n",
    "    return imc <= 20\n",
    "\n",
    "\n",
    "def classifica_jogador(peso: float, altura: float) -> tuple:\n",
    "    imc = calcula_imc(peso, altura)\n",
    "    obesidade = verifica_obesidade(imc)\n",
    "    magreza = verifica_magreza(imc)\n",
    "    return imc, obesidade, magreza\n",
    "\n",
    "\n",
    "# Calculando o IMC do jogador L. Messi\n",
    "# o peso dele é de 72Kg e a altura é de 1,70m\n",
    "\n",
    "peso = 110\n",
    "altura = 1.78\n",
    "\n",
    "\n",
    "imc, obesidade, magreza = classifica_jogador(peso, altura)\n",
    "\n",
    "print(f\"O jogador L. Messi possuí um IMC igual a {imc:.2f}\\n{obesidade = }\\n{magreza = }\")"
   ]
  }
 ],
 "metadata": {
  "kernelspec": {
   "display_name": "Python 3 (ipykernel)",
   "language": "python",
   "name": "python3"
  },
  "language_info": {
   "codemirror_mode": {
    "name": "ipython",
    "version": 3
   },
   "file_extension": ".py",
   "mimetype": "text/x-python",
   "name": "python",
   "nbconvert_exporter": "python",
   "pygments_lexer": "ipython3",
   "version": "3.10.4"
  }
 },
 "nbformat": 4,
 "nbformat_minor": 1
}