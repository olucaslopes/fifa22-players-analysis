{
 "cells": [
  {
   "cell_type": "code",
   "execution_count": null,
   "outputs": [],
   "source": [
    "from datetime import date\n",
    "import pandas as pd\n",
    "\n",
    "pd.set_option('display.max_columns', 350)"
   ],
   "metadata": {
    "collapsed": false,
    "pycharm": {
     "name": "#%%\n"
    }
   }
  },
  {
   "cell_type": "code",
   "execution_count": null,
   "outputs": [],
   "source": [
    "import os\n",
    "def get_project_root_path():\n",
    "    project_directory = \"fifa22-players-analysis\"\n",
    "    separated_path = os.getcwd().split(os.sep)\n",
    "    project_directory_index = separated_path.index(project_directory) + 1\n",
    "    return os.sep.join(separated_path[0:project_directory_index])\n",
    "\n",
    "\n",
    "import joblib\n",
    "def save_model(model, model_name):\n",
    "    filename = f\"model_name_{model_name}.pkl\"\n",
    "    print(filename)\n",
    "    model_path = os.sep.join([get_project_root_path(), \"saved_models\", filename])\n",
    "    joblib.dump(model, model_path)"
   ],
   "metadata": {
    "collapsed": false,
    "pycharm": {
     "name": "#%%\n"
    }
   }
  },
  {
   "cell_type": "code",
   "execution_count": null,
   "outputs": [],
   "source": [
    "data = pd.read_csv(f\"data/processed_data.tsv\", sep=\"\\t\")\n",
    "data.head()"
   ],
   "metadata": {
    "collapsed": false,
    "pycharm": {
     "name": "#%%\n"
    }
   }
  },
  {
   "cell_type": "code",
   "execution_count": null,
   "outputs": [],
   "source": [
    "def count_na(df: pd.DataFrame) -> None:\n",
    "    nan_sum = df.isna().sum()\n",
    "    display(nan_sum[nan_sum > 0])\n",
    "\n",
    "count_na(data)"
   ],
   "metadata": {
    "collapsed": false,
    "pycharm": {
     "name": "#%%\n"
    }
   }
  },
  {
   "cell_type": "markdown",
   "source": [
    "Analisando essa tabela com os valores nulos podemos perceber que alguns jogadores do dataset não possuem um time atual, isso explica\n",
    "`wage_eur`, `club_team_id`, `club_position`, `club_jersey_number` terem a mesma quantidade de valores nulos (61),\n",
    "porém `value_eur` deveria seguir esse mesmo padrão, assim podemos dizer que 13 (74 - 61) jogadores que estão ativos não possuem um valor,\n",
    "portanto precisamos prever esses dados.\n",
    "\n",
    "Também podemos perceber que temos 2132 jogadores não possuem `pace`, `shooting`, `passing`, `dribbling`, `defending`, `physic`. Vamos analisar esses jogadores"
   ],
   "metadata": {
    "collapsed": false,
    "pycharm": {
     "name": "#%% md\n"
    }
   }
  },
  {
   "cell_type": "code",
   "execution_count": null,
   "outputs": [],
   "source": [
    "def percent_of_gk(df: pd.DataFrame) -> None:\n",
    "    gk = df[df['GK'] == 1]\n",
    "    display(gk.shape[0] / df.shape[0])\n",
    "\n",
    "\n",
    "missing_main_attr_data = data[data.pace.isna()]\n",
    "\n",
    "percent_of_gk(missing_main_attr_data)\n",
    "missing_main_attr_data"
   ],
   "metadata": {
    "collapsed": false,
    "pycharm": {
     "name": "#%%\n"
    }
   }
  },
  {
   "cell_type": "markdown",
   "source": [
    "Como vimos que os goleiros não tem os atributos listados acima, mas possuem um overall em cada posição, seria interessante prever esses atributos."
   ],
   "metadata": {
    "collapsed": false,
    "pycharm": {
     "name": "#%% md\n"
    }
   }
  },
  {
   "cell_type": "code",
   "execution_count": null,
   "outputs": [],
   "source": [
    "missing_gk_speed_data = data[data.goalkeeping_speed.isna()]\n",
    "sum_of_missing_data = missing_gk_speed_data.shape[0] + missing_main_attr_data.shape[0]\n",
    "print(f\"Jogadores sem gk speed + jogadores sem atributos primários: {sum_of_missing_data}\")\n",
    "print(f\"Numero de jogadores: {data.shape[0]}\")"
   ],
   "metadata": {
    "collapsed": false,
    "pycharm": {
     "name": "#%%\n"
    }
   }
  },
  {
   "cell_type": "markdown",
   "source": [
    "Assim podemos ver que todos os jogadores que não são goleiros não possuem `goalkeeping_speed`"
   ],
   "metadata": {
    "collapsed": false,
    "pycharm": {
     "name": "#%% md\n"
    }
   }
  },
  {
   "cell_type": "markdown",
   "source": [
    "## Prevendo valor dos jogadores\n",
    "Nessa etapa vamos criar um modelo para prever o valor dos 13 jogadores que não possuem valor"
   ],
   "metadata": {
    "collapsed": false,
    "pycharm": {
     "name": "#%% md\n"
    }
   }
  },
  {
   "cell_type": "code",
   "execution_count": null,
   "outputs": [],
   "source": [
    "from sklearn.model_selection import train_test_split\n",
    "from sklearn.metrics import mean_squared_error, mean_absolute_error\n",
    "from sklearn.feature_selection import RFECV\n",
    "from sklearn.impute import SimpleImputer\n",
    "import numpy as np\n",
    "\n",
    "def predict_and_populate(df_to_populate, df_to_train, model, column_to_predict, round_=None, save=False) -> pd.DataFrame:\n",
    "    # Separating the target variable\n",
    "    target = df_to_train[column_to_predict]\n",
    "    features = df_to_train.drop(column_to_predict, axis=1)\n",
    "\n",
    "    # Poluting the missing features\n",
    "    mean_imputer = SimpleImputer(missing_values=np.nan, strategy='mean')\n",
    "    mean_imputer.fit(features)\n",
    "    imputed_features = mean_imputer.transform(features)\n",
    "\n",
    "    # Train test split\n",
    "    features_train, features_test, target_train, target_test = train_test_split(imputed_features, target, test_size=0.2)\n",
    "\n",
    "    # Training the model\n",
    "    trained_model = model.fit(features_train, target_train)\n",
    "\n",
    "    # Saving the model\n",
    "    if save:\n",
    "        model_name = str(model).split(\"(\")[0]\n",
    "        filename = f\"{model_name}_{column_to_predict}\"\n",
    "        save_model(trained_model, filename)\n",
    "\n",
    "    # Calculating model score\n",
    "    model_score = trained_model.score(features_test, target_test)\n",
    "    print(f\"Score do R² modelo: {model_score:.4f}\")\n",
    "\n",
    "\n",
    "    if model == LinearRegression or DummyRegressor or RandomForestRegressor:\n",
    "        mse = mean_squared_error(target_test, trained_model.predict(features_test))\n",
    "        mae = mean_absolute_error(target_test, trained_model.predict(features_test))\n",
    "        print(f\"MSE: {mse:.4f}\")\n",
    "        print(f\"MAE: {mae:.4f}\")\n",
    "\n",
    "    # Populating the missing values\n",
    "    feature_to_populate = mean_imputer.transform(df_to_populate.drop(column_to_predict, axis=1))\n",
    "    predicted_values = trained_model.predict(feature_to_populate)\n",
    "\n",
    "\n",
    "    if round_ is not None:\n",
    "        predicted_values = predicted_values.round(round_)\n",
    "\n",
    "    df_to_populate[column_to_predict] = predicted_values\n",
    "\n",
    "    return df_to_populate\n",
    "\n",
    "\n"
   ],
   "metadata": {
    "collapsed": false,
    "pycharm": {
     "name": "#%%\n"
    }
   }
  },
  {
   "cell_type": "code",
   "execution_count": null,
   "outputs": [],
   "source": [
    "players_with_club_and_no_value = data.query(\"not club_team_id.isna() and value_eur.isna()\").copy()\n",
    "data_without_players_with_club_and_no_value = data.drop(players_with_club_and_no_value.index)\n",
    "\n",
    "data_to_train = data_without_players_with_club_and_no_value.query(\"not value_eur.isna()\").copy()\n",
    "columns_to_drop = [\n",
    "    \"sofifa_id\", \"player_url\", \"short_name\", \"long_name\",\n",
    "    \"dob\", \"club_position\",\"player_traits\", \"player_tags\",\n",
    "    \"player_positions\", \"work_rate\", \"body_type\",\n",
    "    \"preferred_foot\", \"nationality_name\"\n",
    "]\n",
    "\n",
    "data_to_train = data_to_train.drop(columns=columns_to_drop)\n",
    "data_to_fill = players_with_club_and_no_value.drop(columns=columns_to_drop)"
   ],
   "metadata": {
    "collapsed": false,
    "pycharm": {
     "name": "#%%\n"
    }
   }
  },
  {
   "cell_type": "code",
   "execution_count": null,
   "outputs": [],
   "source": [
    "# Normalizando os dados\n",
    "# from sklearn.preprocessing import StandardScaler\n",
    "#\n",
    "# standerd_scaler =  StandardScaler()\n",
    "# standardized_features = standerd_scaler.fit_transform(imputed_features)\n",
    "# standardized_features"
   ],
   "metadata": {
    "collapsed": false,
    "pycharm": {
     "name": "#%%\n"
    }
   }
  },
  {
   "cell_type": "markdown",
   "source": [
    "## Comparando modelos diferentes"
   ],
   "metadata": {
    "collapsed": false,
    "pycharm": {
     "name": "#%% md\n"
    }
   }
  },
  {
   "cell_type": "code",
   "execution_count": null,
   "outputs": [],
   "source": [
    "# TODO ver tanto o MSE quanto o MAE\n",
    "# TODO aplicar RFECV em cada modelo\n",
    "\n",
    "from sklearn.dummy import DummyRegressor\n",
    "dummy = DummyRegressor()\n",
    "predict_and_populate(data_to_fill, data_to_train, dummy, \"value_eur\")"
   ],
   "metadata": {
    "collapsed": false,
    "pycharm": {
     "name": "#%%\n"
    }
   }
  },
  {
   "cell_type": "code",
   "execution_count": null,
   "outputs": [],
   "source": [
    "from sklearn.linear_model import LinearRegression\n",
    "\n",
    "linear_regression = LinearRegression()\n",
    "predict_and_populate(data_to_fill, data_to_train, linear_regression, \"value_eur\")"
   ],
   "metadata": {
    "collapsed": false,
    "pycharm": {
     "name": "#%%\n"
    }
   }
  },
  {
   "cell_type": "code",
   "execution_count": null,
   "outputs": [],
   "source": [
    "from sklearn.ensemble import RandomForestRegressor\n",
    "\n",
    "random_forest = RandomForestRegressor(random_state=0, n_jobs=-1, oob_score=True)\n",
    "players_with_club_and_no_value = predict_and_populate(\n",
    "    data_to_fill, data_to_train, random_forest, \"value_eur\", save=True\n",
    ");"
   ],
   "metadata": {
    "collapsed": false,
    "pycharm": {
     "name": "#%%\n"
    }
   }
  },
  {
   "cell_type": "markdown",
   "source": [
    "### Preenchendo os dados a partir do modelo criado"
   ],
   "metadata": {
    "collapsed": false,
    "pycharm": {
     "name": "#%% md\n"
    }
   }
  },
  {
   "cell_type": "code",
   "execution_count": null,
   "outputs": [],
   "source": [
    "data.loc[players_with_club_and_no_value.index, \"value_eur\"] = players_with_club_and_no_value.value_eur\n",
    "data.loc[players_with_club_and_no_value.index]"
   ],
   "metadata": {
    "collapsed": false,
    "pycharm": {
     "name": "#%%\n"
    }
   }
  },
  {
   "cell_type": "code",
   "execution_count": null,
   "outputs": [],
   "source": [
    "count_na(data)"
   ],
   "metadata": {
    "collapsed": false,
    "pycharm": {
     "name": "#%%\n"
    }
   }
  },
  {
   "cell_type": "code",
   "execution_count": null,
   "outputs": [],
   "source": [
    "# Removendo jogadores não ativos\n",
    "data = data.query(\"not club_team_id.isna()\").copy()\n",
    "\n",
    "count_na(data)"
   ],
   "metadata": {
    "collapsed": false,
    "pycharm": {
     "name": "#%%\n"
    }
   }
  },
  {
   "cell_type": "markdown",
   "source": [
    "# Prevendo pace, shooting, passing, dribbling, defending, physic dos goleiros"
   ],
   "metadata": {
    "collapsed": false,
    "pycharm": {
     "name": "#%% md\n"
    }
   }
  },
  {
   "cell_type": "code",
   "execution_count": null,
   "outputs": [],
   "source": [
    "gk_data = data.query(\"GK == 1\").copy()\n",
    "data_without_gk = data.query(\"GK == 0\").copy()\n",
    "\n",
    "columns_to_predict = [\"pace\", \"shooting\", \"passing\", \"dribbling\", \"defending\", \"physic\"]\n",
    "\n",
    "for column_to_predict in columns_to_predict:\n",
    "\n",
    "    columns_to_drop_with_other_atributes = [col for col in columns_to_predict if col != column_to_predict]\n",
    "    columns_to_drop_with_other_atributes.extend(columns_to_drop)\n",
    "\n",
    "    data_to_train = data_without_gk.drop(columns=columns_to_drop_with_other_atributes)\n",
    "    data_to_predict = gk_data.drop(columns=columns_to_drop_with_other_atributes)\n",
    "\n",
    "    linear_regression = LinearRegression()\n",
    "    print(f\"Prevendo {column_to_predict}\")\n",
    "    filled_data = predict_and_populate(\n",
    "        data_to_predict, data_to_train, linear_regression,\n",
    "        column_to_predict, 0, save=True\n",
    "    )\n",
    "    print()\n",
    "\n",
    "    data.loc[filled_data.index, column_to_predict] = filled_data[column_to_predict]\n",
    "\n",
    "# data.loc[gk_data.index]"
   ],
   "metadata": {
    "collapsed": false,
    "pycharm": {
     "name": "#%%\n"
    }
   }
  },
  {
   "cell_type": "code",
   "execution_count": null,
   "outputs": [],
   "source": [
    "count_na(data)"
   ],
   "metadata": {
    "collapsed": false,
    "pycharm": {
     "name": "#%%\n"
    }
   }
  },
  {
   "cell_type": "markdown",
   "source": [
    "## Prevendo goalkeeping_speed dos jogadores"
   ],
   "metadata": {
    "collapsed": false,
    "pycharm": {
     "name": "#%% md\n"
    }
   }
  },
  {
   "cell_type": "code",
   "execution_count": null,
   "outputs": [],
   "source": [
    "players_data = data.query(\"GK == 0\").copy()\n",
    "players_data"
   ],
   "metadata": {
    "collapsed": false,
    "pycharm": {
     "name": "#%%\n"
    }
   }
  },
  {
   "cell_type": "code",
   "execution_count": null,
   "outputs": [],
   "source": [
    "data_to_predict = players_data.drop(columns=columns_to_drop)\n",
    "data_to_train = gk_data.drop(columns=columns_to_drop)\n",
    "\n",
    "column_to_predict = \"goalkeeping_speed\"\n",
    "\n",
    "linear_regression = LinearRegression()\n",
    "filled_data = predict_and_populate(\n",
    "    data_to_predict, data_to_train, linear_regression, column_to_predict, 0, save=True\n",
    ")\n",
    "\n",
    "data.loc[filled_data.index, column_to_predict] = filled_data[column_to_predict]"
   ],
   "metadata": {
    "collapsed": false,
    "pycharm": {
     "name": "#%%\n"
    }
   }
  },
  {
   "cell_type": "code",
   "execution_count": null,
   "outputs": [],
   "source": [
    "count_na(data)"
   ],
   "metadata": {
    "collapsed": false,
    "pycharm": {
     "name": "#%%\n"
    }
   }
  },
  {
   "cell_type": "code",
   "execution_count": null,
   "outputs": [],
   "source": [
    "from datetime import date\n",
    "data.drop(columns=[\"release_clause_eur\"], inplace=True)\n",
    "\n",
    "filled_data_save_path = os.sep.join([get_project_root_path(), \"preprocessing\", \"data\", f\"filled_data.tsv\"])\n",
    "data.to_csv(filled_data_save_path, index=False, sep=\"\\t\")\n",
    "filled_data_save_path"
   ],
   "metadata": {
    "collapsed": false,
    "pycharm": {
     "name": "#%%\n"
    }
   }
  },
  {
   "cell_type": "code",
   "execution_count": null,
   "outputs": [],
   "source": [
    "count_na(data)"
   ],
   "metadata": {
    "collapsed": false,
    "pycharm": {
     "name": "#%%\n"
    }
   }
  },
  {
   "cell_type": "code",
   "execution_count": null,
   "outputs": [],
   "source": [
    "data.describe().T.round()"
   ],
   "metadata": {
    "collapsed": false,
    "pycharm": {
     "name": "#%%\n"
    }
   }
  }
 ],
 "metadata": {
  "kernelspec": {
   "display_name": "Python 3 (ipykernel)",
   "language": "python",
   "name": "python3"
  },
  "language_info": {
   "codemirror_mode": {
    "name": "ipython",
    "version": 3
   },
   "file_extension": ".py",
   "mimetype": "text/x-python",
   "name": "python",
   "nbconvert_exporter": "python",
   "pygments_lexer": "ipython3",
   "version": "3.9.13"
  }
 },
 "nbformat": 4,
 "nbformat_minor": 1
}