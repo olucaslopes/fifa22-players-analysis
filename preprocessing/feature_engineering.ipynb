{
 "cells": [
  {
   "cell_type": "markdown",
   "metadata": {
    "pycharm": {
     "name": "#%% md\n"
    }
   },
   "source": [
    "/home/gustavo# Feature engineering\n",
    "Nesse notebook vamos tratar os dados dos jogadores e criar features novas com bases nos dados que temos"
   ]
  },
  {
   "cell_type": "code",
   "execution_count": 25,
   "metadata": {
    "pycharm": {
     "name": "#%%\n"
    },
    "scrolled": true
   },
   "outputs": [],
   "source": [
    "from database.bq_connection import execute\n",
    "from sklearn.preprocessing import LabelBinarizer\n",
    "from datetime import date, datetime\n",
    "import pandas as pd\n",
    "import os"
   ]
  },
  {
   "cell_type": "code",
   "execution_count": 26,
   "outputs": [],
   "source": [
    "def get_project_root_path():\n",
    "    project_directory = \"fifa22-players-analysis\"\n",
    "    separated_path = os.getcwd().split(os.sep)\n",
    "    project_directory_index = separated_path.index(project_directory) + 1\n",
    "    return os.sep.join(separated_path[0:project_directory_index])"
   ],
   "metadata": {
    "collapsed": false,
    "pycharm": {
     "name": "#%%\n"
    }
   }
  },
  {
   "cell_type": "code",
   "execution_count": 27,
   "metadata": {
    "pycharm": {
     "name": "#%%\n"
    }
   },
   "outputs": [
    {
     "name": "stdout",
     "output_type": "stream",
     "text": [
      "(19239, 90)\n"
     ]
    },
    {
     "data": {
      "text/plain": "       sofifa_id                                         player_url  \\\n0         167575  https://sofifa.com/player/167575/anton-shunin/...   \n1         205211  https://sofifa.com/player/205211/milan-borjan/...   \n2         244700  https://sofifa.com/player/244700/yuriy-dyupin/...   \n3         199904  https://sofifa.com/player/199904/jesse-joronen...   \n4         240225  https://sofifa.com/player/240225/matvey-safono...   \n...          ...                                                ...   \n19234     262593  https://sofifa.com/player/262593/moritz-seiffe...   \n19235     262614  https://sofifa.com/player/262614/till-muschkow...   \n19236     262755  https://sofifa.com/player/262755/shalva-ogbaid...   \n19237     262756  https://sofifa.com/player/262756/matteo-gumane...   \n19238     263236  https://sofifa.com/player/263236/yazid-heimur/...   \n\n           short_name            long_name player_positions  overall  \\\n0           A. Shunin         Anton Shunin               GK       76   \n1           M. Borjan         Milan Borjan               GK       76   \n2           Y. Dyupin         Yuriy Dyupin               GK       74   \n3          J. Joronen  Jesse Pekka Joronen               GK       72   \n4          M. Safonov       Matvey Safonov               GK       72   \n...               ...                  ...              ...      ...   \n19234     M. Seiffert      Moritz Seiffert               LW       58   \n19235  T. Muschkowski     Till Muschkowski               RW       55   \n19236     S. Ogbaidze      Shalva Ogbaidze               ST       55   \n19237      M. Gumaneh       Matteo Gumaneh               ST       55   \n19238       Y. Heimur         Yazid Heimur               CM       55   \n\n       potential  value_eur  wage_eur         dob  ...   ldm   cdm   rdm  \\\n0             76        NaN       NaN  1987-01-27  ...  29+2  29+2  29+2   \n1             76        NaN       NaN  1987-10-23  ...  37+2  37+2  37+2   \n2             74        NaN       NaN  1988-03-17  ...  22+2  22+2  22+2   \n3             72        NaN       NaN  1993-03-21  ...  27+2  27+2  27+2   \n4             82        NaN       NaN  1999-02-25  ...  24+2  24+2  24+2   \n...          ...        ...       ...         ...  ...   ...   ...   ...   \n19234         66   450000.0     600.0  2000-11-04  ...  40+2  40+2  40+2   \n19235         65   275000.0     550.0  2001-05-06  ...  44+2  44+2  44+2   \n19236         65   275000.0     500.0  2002-08-01  ...  39+2  39+2  39+2   \n19237         67   300000.0     500.0  2002-09-05  ...  37+2  37+2  37+2   \n19238         66   275000.0     500.0  2002-11-18  ...  51+2  51+2  51+2   \n\n        rwb    lb   lcb    cb   rcb    rb    gk  \n0      27+2  27+2  28+2  28+2  28+2  27+2  75+1  \n1      31+2  31+2  35+2  35+2  35+2  31+2  75+1  \n2      19+2  18+2  22+2  22+2  22+2  18+2  73+1  \n3      26+2  26+2  27+2  27+2  27+2  26+2  71+1  \n4      19+2  19+2  25+2  25+2  25+2  19+2  71+2  \n...     ...   ...   ...   ...   ...   ...   ...  \n19234  44+2  42+2  37+2  37+2  37+2  42+2  14+2  \n19235  47+2  45+2  39+2  39+2  39+2  45+2  11+2  \n19236  40+2  38+2  36+2  36+2  36+2  38+2  14+2  \n19237  40+2  38+2  34+2  34+2  34+2  38+2  15+2  \n19238  48+2  48+2  48+2  48+2  48+2  48+2  16+2  \n\n[19239 rows x 90 columns]",
      "text/html": "<div>\n<style scoped>\n    .dataframe tbody tr th:only-of-type {\n        vertical-align: middle;\n    }\n\n    .dataframe tbody tr th {\n        vertical-align: top;\n    }\n\n    .dataframe thead th {\n        text-align: right;\n    }\n</style>\n<table border=\"1\" class=\"dataframe\">\n  <thead>\n    <tr style=\"text-align: right;\">\n      <th></th>\n      <th>sofifa_id</th>\n      <th>player_url</th>\n      <th>short_name</th>\n      <th>long_name</th>\n      <th>player_positions</th>\n      <th>overall</th>\n      <th>potential</th>\n      <th>value_eur</th>\n      <th>wage_eur</th>\n      <th>dob</th>\n      <th>...</th>\n      <th>ldm</th>\n      <th>cdm</th>\n      <th>rdm</th>\n      <th>rwb</th>\n      <th>lb</th>\n      <th>lcb</th>\n      <th>cb</th>\n      <th>rcb</th>\n      <th>rb</th>\n      <th>gk</th>\n    </tr>\n  </thead>\n  <tbody>\n    <tr>\n      <th>0</th>\n      <td>167575</td>\n      <td>https://sofifa.com/player/167575/anton-shunin/...</td>\n      <td>A. Shunin</td>\n      <td>Anton Shunin</td>\n      <td>GK</td>\n      <td>76</td>\n      <td>76</td>\n      <td>NaN</td>\n      <td>NaN</td>\n      <td>1987-01-27</td>\n      <td>...</td>\n      <td>29+2</td>\n      <td>29+2</td>\n      <td>29+2</td>\n      <td>27+2</td>\n      <td>27+2</td>\n      <td>28+2</td>\n      <td>28+2</td>\n      <td>28+2</td>\n      <td>27+2</td>\n      <td>75+1</td>\n    </tr>\n    <tr>\n      <th>1</th>\n      <td>205211</td>\n      <td>https://sofifa.com/player/205211/milan-borjan/...</td>\n      <td>M. Borjan</td>\n      <td>Milan Borjan</td>\n      <td>GK</td>\n      <td>76</td>\n      <td>76</td>\n      <td>NaN</td>\n      <td>NaN</td>\n      <td>1987-10-23</td>\n      <td>...</td>\n      <td>37+2</td>\n      <td>37+2</td>\n      <td>37+2</td>\n      <td>31+2</td>\n      <td>31+2</td>\n      <td>35+2</td>\n      <td>35+2</td>\n      <td>35+2</td>\n      <td>31+2</td>\n      <td>75+1</td>\n    </tr>\n    <tr>\n      <th>2</th>\n      <td>244700</td>\n      <td>https://sofifa.com/player/244700/yuriy-dyupin/...</td>\n      <td>Y. Dyupin</td>\n      <td>Yuriy Dyupin</td>\n      <td>GK</td>\n      <td>74</td>\n      <td>74</td>\n      <td>NaN</td>\n      <td>NaN</td>\n      <td>1988-03-17</td>\n      <td>...</td>\n      <td>22+2</td>\n      <td>22+2</td>\n      <td>22+2</td>\n      <td>19+2</td>\n      <td>18+2</td>\n      <td>22+2</td>\n      <td>22+2</td>\n      <td>22+2</td>\n      <td>18+2</td>\n      <td>73+1</td>\n    </tr>\n    <tr>\n      <th>3</th>\n      <td>199904</td>\n      <td>https://sofifa.com/player/199904/jesse-joronen...</td>\n      <td>J. Joronen</td>\n      <td>Jesse Pekka Joronen</td>\n      <td>GK</td>\n      <td>72</td>\n      <td>72</td>\n      <td>NaN</td>\n      <td>NaN</td>\n      <td>1993-03-21</td>\n      <td>...</td>\n      <td>27+2</td>\n      <td>27+2</td>\n      <td>27+2</td>\n      <td>26+2</td>\n      <td>26+2</td>\n      <td>27+2</td>\n      <td>27+2</td>\n      <td>27+2</td>\n      <td>26+2</td>\n      <td>71+1</td>\n    </tr>\n    <tr>\n      <th>4</th>\n      <td>240225</td>\n      <td>https://sofifa.com/player/240225/matvey-safono...</td>\n      <td>M. Safonov</td>\n      <td>Matvey Safonov</td>\n      <td>GK</td>\n      <td>72</td>\n      <td>82</td>\n      <td>NaN</td>\n      <td>NaN</td>\n      <td>1999-02-25</td>\n      <td>...</td>\n      <td>24+2</td>\n      <td>24+2</td>\n      <td>24+2</td>\n      <td>19+2</td>\n      <td>19+2</td>\n      <td>25+2</td>\n      <td>25+2</td>\n      <td>25+2</td>\n      <td>19+2</td>\n      <td>71+2</td>\n    </tr>\n    <tr>\n      <th>...</th>\n      <td>...</td>\n      <td>...</td>\n      <td>...</td>\n      <td>...</td>\n      <td>...</td>\n      <td>...</td>\n      <td>...</td>\n      <td>...</td>\n      <td>...</td>\n      <td>...</td>\n      <td>...</td>\n      <td>...</td>\n      <td>...</td>\n      <td>...</td>\n      <td>...</td>\n      <td>...</td>\n      <td>...</td>\n      <td>...</td>\n      <td>...</td>\n      <td>...</td>\n      <td>...</td>\n    </tr>\n    <tr>\n      <th>19234</th>\n      <td>262593</td>\n      <td>https://sofifa.com/player/262593/moritz-seiffe...</td>\n      <td>M. Seiffert</td>\n      <td>Moritz Seiffert</td>\n      <td>LW</td>\n      <td>58</td>\n      <td>66</td>\n      <td>450000.0</td>\n      <td>600.0</td>\n      <td>2000-11-04</td>\n      <td>...</td>\n      <td>40+2</td>\n      <td>40+2</td>\n      <td>40+2</td>\n      <td>44+2</td>\n      <td>42+2</td>\n      <td>37+2</td>\n      <td>37+2</td>\n      <td>37+2</td>\n      <td>42+2</td>\n      <td>14+2</td>\n    </tr>\n    <tr>\n      <th>19235</th>\n      <td>262614</td>\n      <td>https://sofifa.com/player/262614/till-muschkow...</td>\n      <td>T. Muschkowski</td>\n      <td>Till Muschkowski</td>\n      <td>RW</td>\n      <td>55</td>\n      <td>65</td>\n      <td>275000.0</td>\n      <td>550.0</td>\n      <td>2001-05-06</td>\n      <td>...</td>\n      <td>44+2</td>\n      <td>44+2</td>\n      <td>44+2</td>\n      <td>47+2</td>\n      <td>45+2</td>\n      <td>39+2</td>\n      <td>39+2</td>\n      <td>39+2</td>\n      <td>45+2</td>\n      <td>11+2</td>\n    </tr>\n    <tr>\n      <th>19236</th>\n      <td>262755</td>\n      <td>https://sofifa.com/player/262755/shalva-ogbaid...</td>\n      <td>S. Ogbaidze</td>\n      <td>Shalva Ogbaidze</td>\n      <td>ST</td>\n      <td>55</td>\n      <td>65</td>\n      <td>275000.0</td>\n      <td>500.0</td>\n      <td>2002-08-01</td>\n      <td>...</td>\n      <td>39+2</td>\n      <td>39+2</td>\n      <td>39+2</td>\n      <td>40+2</td>\n      <td>38+2</td>\n      <td>36+2</td>\n      <td>36+2</td>\n      <td>36+2</td>\n      <td>38+2</td>\n      <td>14+2</td>\n    </tr>\n    <tr>\n      <th>19237</th>\n      <td>262756</td>\n      <td>https://sofifa.com/player/262756/matteo-gumane...</td>\n      <td>M. Gumaneh</td>\n      <td>Matteo Gumaneh</td>\n      <td>ST</td>\n      <td>55</td>\n      <td>67</td>\n      <td>300000.0</td>\n      <td>500.0</td>\n      <td>2002-09-05</td>\n      <td>...</td>\n      <td>37+2</td>\n      <td>37+2</td>\n      <td>37+2</td>\n      <td>40+2</td>\n      <td>38+2</td>\n      <td>34+2</td>\n      <td>34+2</td>\n      <td>34+2</td>\n      <td>38+2</td>\n      <td>15+2</td>\n    </tr>\n    <tr>\n      <th>19238</th>\n      <td>263236</td>\n      <td>https://sofifa.com/player/263236/yazid-heimur/...</td>\n      <td>Y. Heimur</td>\n      <td>Yazid Heimur</td>\n      <td>CM</td>\n      <td>55</td>\n      <td>66</td>\n      <td>275000.0</td>\n      <td>500.0</td>\n      <td>2002-11-18</td>\n      <td>...</td>\n      <td>51+2</td>\n      <td>51+2</td>\n      <td>51+2</td>\n      <td>48+2</td>\n      <td>48+2</td>\n      <td>48+2</td>\n      <td>48+2</td>\n      <td>48+2</td>\n      <td>48+2</td>\n      <td>16+2</td>\n    </tr>\n  </tbody>\n</table>\n<p>19239 rows × 90 columns</p>\n</div>"
     },
     "execution_count": 27,
     "metadata": {},
     "output_type": "execute_result"
    }
   ],
   "source": [
    "query = \"\"\"SELECT * FROM `puc-sp.fifa.player`\"\"\"\n",
    "\n",
    "file_key_path = os.sep.join([get_project_root_path(), \"database\", \"filekey.key\"])\n",
    "data = execute(query, file_key_path)\n",
    "\n",
    "print(data.shape)\n",
    "data"
   ]
  },
  {
   "cell_type": "markdown",
   "metadata": {
    "pycharm": {
     "name": "#%% md\n"
    }
   },
   "source": [
    "Nesse dataset temos apenas `dob` (data de nascimento) dos jogadores, vamos adicionar uma coluna com as idades dos jogadores"
   ]
  },
  {
   "cell_type": "code",
   "execution_count": 28,
   "metadata": {
    "pycharm": {
     "name": "#%%\n"
    }
   },
   "outputs": [
    {
     "data": {
      "text/plain": "         dob  age\n0 1987-01-27   35\n1 1987-10-23   34\n2 1988-03-17   34\n3 1993-03-21   29\n4 1999-02-25   23",
      "text/html": "<div>\n<style scoped>\n    .dataframe tbody tr th:only-of-type {\n        vertical-align: middle;\n    }\n\n    .dataframe tbody tr th {\n        vertical-align: top;\n    }\n\n    .dataframe thead th {\n        text-align: right;\n    }\n</style>\n<table border=\"1\" class=\"dataframe\">\n  <thead>\n    <tr style=\"text-align: right;\">\n      <th></th>\n      <th>dob</th>\n      <th>age</th>\n    </tr>\n  </thead>\n  <tbody>\n    <tr>\n      <th>0</th>\n      <td>1987-01-27</td>\n      <td>35</td>\n    </tr>\n    <tr>\n      <th>1</th>\n      <td>1987-10-23</td>\n      <td>34</td>\n    </tr>\n    <tr>\n      <th>2</th>\n      <td>1988-03-17</td>\n      <td>34</td>\n    </tr>\n    <tr>\n      <th>3</th>\n      <td>1993-03-21</td>\n      <td>29</td>\n    </tr>\n    <tr>\n      <th>4</th>\n      <td>1999-02-25</td>\n      <td>23</td>\n    </tr>\n  </tbody>\n</table>\n</div>"
     },
     "execution_count": 28,
     "metadata": {},
     "output_type": "execute_result"
    }
   ],
   "source": [
    "current_date = datetime.today()\n",
    "data.dob = pd.to_datetime(data.dob)\n",
    "\n",
    "def age(dob):\n",
    "    today = date.today()\n",
    "    return today.year - dob.year - ((today.month, today.day) < (dob.month, dob.day))\n",
    "\n",
    "data[\"age\"] = data.dob.apply(age)\n",
    "data[[\"dob\", \"age\"]].head()"
   ]
  },
  {
   "cell_type": "markdown",
   "source": [
    "Outra tratativa a ser feita é transformar cada `player_traits` e cada `player_tags` diferente em uma coluna boleana"
   ],
   "metadata": {
    "collapsed": false,
    "pycharm": {
     "name": "#%% md\n"
    }
   }
  },
  {
   "cell_type": "code",
   "execution_count": 29,
   "outputs": [
    {
     "data": {
      "text/plain": "                              player_traits player_tags player_positions\n0                               Team Player        None               GK\n1             Leadership, Comes For Crosses        None               GK\n2                                      None        None               GK\n3      GK Long Throw, Cautious With Crosses        None               GK\n4                                      None        None               GK\n...                                     ...         ...              ...\n19234                                  None        None               LW\n19235                                  None        None               RW\n19236                                  None        None               ST\n19237                                  None        None               ST\n19238                                  None        None               CM\n\n[19239 rows x 3 columns]",
      "text/html": "<div>\n<style scoped>\n    .dataframe tbody tr th:only-of-type {\n        vertical-align: middle;\n    }\n\n    .dataframe tbody tr th {\n        vertical-align: top;\n    }\n\n    .dataframe thead th {\n        text-align: right;\n    }\n</style>\n<table border=\"1\" class=\"dataframe\">\n  <thead>\n    <tr style=\"text-align: right;\">\n      <th></th>\n      <th>player_traits</th>\n      <th>player_tags</th>\n      <th>player_positions</th>\n    </tr>\n  </thead>\n  <tbody>\n    <tr>\n      <th>0</th>\n      <td>Team Player</td>\n      <td>None</td>\n      <td>GK</td>\n    </tr>\n    <tr>\n      <th>1</th>\n      <td>Leadership, Comes For Crosses</td>\n      <td>None</td>\n      <td>GK</td>\n    </tr>\n    <tr>\n      <th>2</th>\n      <td>None</td>\n      <td>None</td>\n      <td>GK</td>\n    </tr>\n    <tr>\n      <th>3</th>\n      <td>GK Long Throw, Cautious With Crosses</td>\n      <td>None</td>\n      <td>GK</td>\n    </tr>\n    <tr>\n      <th>4</th>\n      <td>None</td>\n      <td>None</td>\n      <td>GK</td>\n    </tr>\n    <tr>\n      <th>...</th>\n      <td>...</td>\n      <td>...</td>\n      <td>...</td>\n    </tr>\n    <tr>\n      <th>19234</th>\n      <td>None</td>\n      <td>None</td>\n      <td>LW</td>\n    </tr>\n    <tr>\n      <th>19235</th>\n      <td>None</td>\n      <td>None</td>\n      <td>RW</td>\n    </tr>\n    <tr>\n      <th>19236</th>\n      <td>None</td>\n      <td>None</td>\n      <td>ST</td>\n    </tr>\n    <tr>\n      <th>19237</th>\n      <td>None</td>\n      <td>None</td>\n      <td>ST</td>\n    </tr>\n    <tr>\n      <th>19238</th>\n      <td>None</td>\n      <td>None</td>\n      <td>CM</td>\n    </tr>\n  </tbody>\n</table>\n<p>19239 rows × 3 columns</p>\n</div>"
     },
     "execution_count": 29,
     "metadata": {},
     "output_type": "execute_result"
    }
   ],
   "source": [
    "data[[\"player_traits\", \"player_tags\", \"player_positions\"]]"
   ],
   "metadata": {
    "collapsed": false,
    "pycharm": {
     "name": "#%%\n"
    }
   }
  },
  {
   "cell_type": "code",
   "execution_count": 30,
   "metadata": {
    "pycharm": {
     "name": "#%%\n"
    }
   },
   "outputs": [
    {
     "data": {
      "text/plain": "   sofifa_id                                         player_url  short_name  \\\n0     167575  https://sofifa.com/player/167575/anton-shunin/...   A. Shunin   \n1     205211  https://sofifa.com/player/205211/milan-borjan/...   M. Borjan   \n2     244700  https://sofifa.com/player/244700/yuriy-dyupin/...   Y. Dyupin   \n3     199904  https://sofifa.com/player/199904/jesse-joronen...  J. Joronen   \n4     240225  https://sofifa.com/player/240225/matvey-safono...  M. Safonov   \n\n             long_name  overall  potential  value_eur  wage_eur        dob  \\\n0         Anton Shunin       76         76        NaN       NaN 1987-01-27   \n1         Milan Borjan       76         76        NaN       NaN 1987-10-23   \n2         Yuriy Dyupin       74         74        NaN       NaN 1988-03-17   \n3  Jesse Pekka Joronen       72         72        NaN       NaN 1993-03-21   \n4       Matvey Safonov       72         82        NaN       NaN 1999-02-25   \n\n   weight_kg  ...  GK  LB LM  LW LWB  RB  RM  RW RWB ST  \n0         88  ...   1   0  0   0   0   0   0   0   0  0  \n1         84  ...   1   0  0   0   0   0   0   0   0  0  \n2         84  ...   1   0  0   0   0   0   0   0   0  0  \n3         89  ...   1   0  0   0   0   0   0   0   0  0  \n4         82  ...   1   0  0   0   0   0   0   0   0  0  \n\n[5 rows x 148 columns]",
      "text/html": "<div>\n<style scoped>\n    .dataframe tbody tr th:only-of-type {\n        vertical-align: middle;\n    }\n\n    .dataframe tbody tr th {\n        vertical-align: top;\n    }\n\n    .dataframe thead th {\n        text-align: right;\n    }\n</style>\n<table border=\"1\" class=\"dataframe\">\n  <thead>\n    <tr style=\"text-align: right;\">\n      <th></th>\n      <th>sofifa_id</th>\n      <th>player_url</th>\n      <th>short_name</th>\n      <th>long_name</th>\n      <th>overall</th>\n      <th>potential</th>\n      <th>value_eur</th>\n      <th>wage_eur</th>\n      <th>dob</th>\n      <th>weight_kg</th>\n      <th>...</th>\n      <th>GK</th>\n      <th>LB</th>\n      <th>LM</th>\n      <th>LW</th>\n      <th>LWB</th>\n      <th>RB</th>\n      <th>RM</th>\n      <th>RW</th>\n      <th>RWB</th>\n      <th>ST</th>\n    </tr>\n  </thead>\n  <tbody>\n    <tr>\n      <th>0</th>\n      <td>167575</td>\n      <td>https://sofifa.com/player/167575/anton-shunin/...</td>\n      <td>A. Shunin</td>\n      <td>Anton Shunin</td>\n      <td>76</td>\n      <td>76</td>\n      <td>NaN</td>\n      <td>NaN</td>\n      <td>1987-01-27</td>\n      <td>88</td>\n      <td>...</td>\n      <td>1</td>\n      <td>0</td>\n      <td>0</td>\n      <td>0</td>\n      <td>0</td>\n      <td>0</td>\n      <td>0</td>\n      <td>0</td>\n      <td>0</td>\n      <td>0</td>\n    </tr>\n    <tr>\n      <th>1</th>\n      <td>205211</td>\n      <td>https://sofifa.com/player/205211/milan-borjan/...</td>\n      <td>M. Borjan</td>\n      <td>Milan Borjan</td>\n      <td>76</td>\n      <td>76</td>\n      <td>NaN</td>\n      <td>NaN</td>\n      <td>1987-10-23</td>\n      <td>84</td>\n      <td>...</td>\n      <td>1</td>\n      <td>0</td>\n      <td>0</td>\n      <td>0</td>\n      <td>0</td>\n      <td>0</td>\n      <td>0</td>\n      <td>0</td>\n      <td>0</td>\n      <td>0</td>\n    </tr>\n    <tr>\n      <th>2</th>\n      <td>244700</td>\n      <td>https://sofifa.com/player/244700/yuriy-dyupin/...</td>\n      <td>Y. Dyupin</td>\n      <td>Yuriy Dyupin</td>\n      <td>74</td>\n      <td>74</td>\n      <td>NaN</td>\n      <td>NaN</td>\n      <td>1988-03-17</td>\n      <td>84</td>\n      <td>...</td>\n      <td>1</td>\n      <td>0</td>\n      <td>0</td>\n      <td>0</td>\n      <td>0</td>\n      <td>0</td>\n      <td>0</td>\n      <td>0</td>\n      <td>0</td>\n      <td>0</td>\n    </tr>\n    <tr>\n      <th>3</th>\n      <td>199904</td>\n      <td>https://sofifa.com/player/199904/jesse-joronen...</td>\n      <td>J. Joronen</td>\n      <td>Jesse Pekka Joronen</td>\n      <td>72</td>\n      <td>72</td>\n      <td>NaN</td>\n      <td>NaN</td>\n      <td>1993-03-21</td>\n      <td>89</td>\n      <td>...</td>\n      <td>1</td>\n      <td>0</td>\n      <td>0</td>\n      <td>0</td>\n      <td>0</td>\n      <td>0</td>\n      <td>0</td>\n      <td>0</td>\n      <td>0</td>\n      <td>0</td>\n    </tr>\n    <tr>\n      <th>4</th>\n      <td>240225</td>\n      <td>https://sofifa.com/player/240225/matvey-safono...</td>\n      <td>M. Safonov</td>\n      <td>Matvey Safonov</td>\n      <td>72</td>\n      <td>82</td>\n      <td>NaN</td>\n      <td>NaN</td>\n      <td>1999-02-25</td>\n      <td>82</td>\n      <td>...</td>\n      <td>1</td>\n      <td>0</td>\n      <td>0</td>\n      <td>0</td>\n      <td>0</td>\n      <td>0</td>\n      <td>0</td>\n      <td>0</td>\n      <td>0</td>\n      <td>0</td>\n    </tr>\n  </tbody>\n</table>\n<p>5 rows × 148 columns</p>\n</div>"
     },
     "execution_count": 30,
     "metadata": {},
     "output_type": "execute_result"
    }
   ],
   "source": [
    "player_traits_dummies = data.player_traits.str.get_dummies(sep=', ')\n",
    "player_tags_dummies = data.player_tags.str.get_dummies(sep=', ')\n",
    "player_positions_dummy = data.player_positions.str.get_dummies(sep=', ')\n",
    "\n",
    "processed_data = pd.concat([data, player_traits_dummies, player_tags_dummies, player_positions_dummy], axis=1)\n",
    "processed_data.drop(columns=[\"player_traits\", \"player_tags\", \"player_positions\"], inplace=True)\n",
    "processed_data.head()"
   ]
  },
  {
   "cell_type": "code",
   "execution_count": 31,
   "outputs": [],
   "source": [
    "# Convertendo o tipo das colunas\n",
    "columns_to_evaluate = \"ls,st,rs,lw,lf,cf,rf,rw,lam,cam,ram,lm,lcm,cm,rcm,rm,lwb,ldm,cdm,rdm,rwb,lb,lcb,cb,rcb,rb,gk\".split(\",\")\n",
    "for column_to_evaluate in columns_to_evaluate:\n",
    "    evaluated_column = processed_data[column_to_evaluate].apply(lambda cell: eval(cell))\n",
    "    processed_data[column_to_evaluate] = evaluated_column"
   ],
   "metadata": {
    "collapsed": false,
    "pycharm": {
     "name": "#%%\n"
    }
   }
  },
  {
   "cell_type": "code",
   "execution_count": 32,
   "outputs": [
    {
     "data": {
      "text/plain": "   sofifa_id                                         player_url  short_name  \\\n0     167575  https://sofifa.com/player/167575/anton-shunin/...   A. Shunin   \n1     205211  https://sofifa.com/player/205211/milan-borjan/...   M. Borjan   \n2     244700  https://sofifa.com/player/244700/yuriy-dyupin/...   Y. Dyupin   \n3     199904  https://sofifa.com/player/199904/jesse-joronen...  J. Joronen   \n4     240225  https://sofifa.com/player/240225/matvey-safono...  M. Safonov   \n\n             long_name  overall  potential  value_eur  wage_eur        dob  \\\n0         Anton Shunin       76         76        NaN       NaN 1987-01-27   \n1         Milan Borjan       76         76        NaN       NaN 1987-10-23   \n2         Yuriy Dyupin       74         74        NaN       NaN 1988-03-17   \n3  Jesse Pekka Joronen       72         72        NaN       NaN 1993-03-21   \n4       Matvey Safonov       72         82        NaN       NaN 1999-02-25   \n\n   weight_kg  ...  GK  LB LM  LW  LWB  RB  RM  RW  RWB  ST  \n0         88  ...   1   0  0   0    0   0   0   0    0   0  \n1         84  ...   1   0  0   0    0   0   0   0    0   0  \n2         84  ...   1   0  0   0    0   0   0   0    0   0  \n3         89  ...   1   0  0   0    0   0   0   0    0   0  \n4         82  ...   1   0  0   0    0   0   0   0    0   0  \n\n[5 rows x 148 columns]",
      "text/html": "<div>\n<style scoped>\n    .dataframe tbody tr th:only-of-type {\n        vertical-align: middle;\n    }\n\n    .dataframe tbody tr th {\n        vertical-align: top;\n    }\n\n    .dataframe thead th {\n        text-align: right;\n    }\n</style>\n<table border=\"1\" class=\"dataframe\">\n  <thead>\n    <tr style=\"text-align: right;\">\n      <th></th>\n      <th>sofifa_id</th>\n      <th>player_url</th>\n      <th>short_name</th>\n      <th>long_name</th>\n      <th>overall</th>\n      <th>potential</th>\n      <th>value_eur</th>\n      <th>wage_eur</th>\n      <th>dob</th>\n      <th>weight_kg</th>\n      <th>...</th>\n      <th>GK</th>\n      <th>LB</th>\n      <th>LM</th>\n      <th>LW</th>\n      <th>LWB</th>\n      <th>RB</th>\n      <th>RM</th>\n      <th>RW</th>\n      <th>RWB</th>\n      <th>ST</th>\n    </tr>\n  </thead>\n  <tbody>\n    <tr>\n      <th>0</th>\n      <td>167575</td>\n      <td>https://sofifa.com/player/167575/anton-shunin/...</td>\n      <td>A. Shunin</td>\n      <td>Anton Shunin</td>\n      <td>76</td>\n      <td>76</td>\n      <td>NaN</td>\n      <td>NaN</td>\n      <td>1987-01-27</td>\n      <td>88</td>\n      <td>...</td>\n      <td>1</td>\n      <td>0</td>\n      <td>0</td>\n      <td>0</td>\n      <td>0</td>\n      <td>0</td>\n      <td>0</td>\n      <td>0</td>\n      <td>0</td>\n      <td>0</td>\n    </tr>\n    <tr>\n      <th>1</th>\n      <td>205211</td>\n      <td>https://sofifa.com/player/205211/milan-borjan/...</td>\n      <td>M. Borjan</td>\n      <td>Milan Borjan</td>\n      <td>76</td>\n      <td>76</td>\n      <td>NaN</td>\n      <td>NaN</td>\n      <td>1987-10-23</td>\n      <td>84</td>\n      <td>...</td>\n      <td>1</td>\n      <td>0</td>\n      <td>0</td>\n      <td>0</td>\n      <td>0</td>\n      <td>0</td>\n      <td>0</td>\n      <td>0</td>\n      <td>0</td>\n      <td>0</td>\n    </tr>\n    <tr>\n      <th>2</th>\n      <td>244700</td>\n      <td>https://sofifa.com/player/244700/yuriy-dyupin/...</td>\n      <td>Y. Dyupin</td>\n      <td>Yuriy Dyupin</td>\n      <td>74</td>\n      <td>74</td>\n      <td>NaN</td>\n      <td>NaN</td>\n      <td>1988-03-17</td>\n      <td>84</td>\n      <td>...</td>\n      <td>1</td>\n      <td>0</td>\n      <td>0</td>\n      <td>0</td>\n      <td>0</td>\n      <td>0</td>\n      <td>0</td>\n      <td>0</td>\n      <td>0</td>\n      <td>0</td>\n    </tr>\n    <tr>\n      <th>3</th>\n      <td>199904</td>\n      <td>https://sofifa.com/player/199904/jesse-joronen...</td>\n      <td>J. Joronen</td>\n      <td>Jesse Pekka Joronen</td>\n      <td>72</td>\n      <td>72</td>\n      <td>NaN</td>\n      <td>NaN</td>\n      <td>1993-03-21</td>\n      <td>89</td>\n      <td>...</td>\n      <td>1</td>\n      <td>0</td>\n      <td>0</td>\n      <td>0</td>\n      <td>0</td>\n      <td>0</td>\n      <td>0</td>\n      <td>0</td>\n      <td>0</td>\n      <td>0</td>\n    </tr>\n    <tr>\n      <th>4</th>\n      <td>240225</td>\n      <td>https://sofifa.com/player/240225/matvey-safono...</td>\n      <td>M. Safonov</td>\n      <td>Matvey Safonov</td>\n      <td>72</td>\n      <td>82</td>\n      <td>NaN</td>\n      <td>NaN</td>\n      <td>1999-02-25</td>\n      <td>82</td>\n      <td>...</td>\n      <td>1</td>\n      <td>0</td>\n      <td>0</td>\n      <td>0</td>\n      <td>0</td>\n      <td>0</td>\n      <td>0</td>\n      <td>0</td>\n      <td>0</td>\n      <td>0</td>\n    </tr>\n  </tbody>\n</table>\n<p>5 rows × 148 columns</p>\n</div>"
     },
     "execution_count": 32,
     "metadata": {},
     "output_type": "execute_result"
    }
   ],
   "source": [
    "work_rate_encoder = LabelBinarizer()\n",
    "body_type_encoder = LabelBinarizer()\n",
    "preferred_foot_encoder = LabelBinarizer()\n",
    "\n",
    "\n",
    "processed_data.work_rate = work_rate_encoder.fit_transform(processed_data.work_rate)\n",
    "processed_data.body_type = body_type_encoder.fit_transform(processed_data.body_type)\n",
    "processed_data.preferred_foot = preferred_foot_encoder.fit_transform(processed_data.preferred_foot)\n",
    "\n",
    "\n",
    "processed_data.head()"
   ],
   "metadata": {
    "collapsed": false,
    "pycharm": {
     "name": "#%%\n"
    }
   }
  },
  {
   "cell_type": "code",
   "execution_count": 33,
   "outputs": [
    {
     "name": "stdout",
     "output_type": "stream",
     "text": [
      "work_rate_encoder.classes_=array(['High/High', 'High/Low', 'High/Medium', 'Low/High', 'Low/Low',\n",
      "       'Low/Medium', 'Medium/High', 'Medium/Low', 'Medium/Medium'],\n",
      "      dtype='<U13')\n",
      "\n",
      "body_type_encoder.classes_=array(['Lean (170-)', 'Lean (170-185)', 'Lean (185+)', 'Normal (170-)',\n",
      "       'Normal (170-185)', 'Normal (185+)', 'Stocky (170-)',\n",
      "       'Stocky (170-185)', 'Stocky (185+)', 'Unique'], dtype='<U16')\n",
      "\n",
      "preferred_foot_encoder.classes_=array(['Left', 'Right'], dtype='<U5')\n"
     ]
    }
   ],
   "source": [
    "print(f\"{work_rate_encoder.classes_=}\\n\\n{body_type_encoder.classes_=}\\n\\n{preferred_foot_encoder.classes_=}\")"
   ],
   "metadata": {
    "collapsed": false,
    "pycharm": {
     "name": "#%%\n"
    }
   }
  },
  {
   "cell_type": "code",
   "execution_count": 41,
   "outputs": [],
   "source": [
    "data_path = os.sep.join([get_project_root_path(), \"preprocessing\", \"data\", f\"processed_data_{str(date.today())}.csv\"])\n",
    "processed_data.to_csv(data_path, index=False)"
   ],
   "metadata": {
    "collapsed": false,
    "pycharm": {
     "name": "#%%\n"
    }
   }
  },
  {
   "cell_type": "code",
   "execution_count": 42,
   "outputs": [
    {
     "data": {
      "text/plain": "'/home/gustavo/fifa22-players-analysis/preprocessing/data/processed_data_2022-06-13.csv'"
     },
     "execution_count": 42,
     "metadata": {},
     "output_type": "execute_result"
    }
   ],
   "source": [
    "data_path"
   ],
   "metadata": {
    "collapsed": false,
    "pycharm": {
     "name": "#%%\n"
    }
   }
  }
 ],
 "metadata": {
  "kernelspec": {
   "display_name": "Python 3 (ipykernel)",
   "language": "python",
   "name": "python3"
  },
  "language_info": {
   "codemirror_mode": {
    "name": "ipython",
    "version": 3
   },
   "file_extension": ".py",
   "mimetype": "text/x-python",
   "name": "python",
   "nbconvert_exporter": "python",
   "pygments_lexer": "ipython3",
   "version": "3.9.0"
  }
 },
 "nbformat": 4,
 "nbformat_minor": 1
}