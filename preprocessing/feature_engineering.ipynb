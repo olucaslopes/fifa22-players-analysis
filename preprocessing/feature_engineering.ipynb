{
 "cells": [
  {
   "cell_type": "markdown",
   "metadata": {},
   "source": [
    "# Feature engineering\n",
    "Nesse notebook vamos tratar os dados dos jogadores e criar features novas com bases nos dados que temos"
   ]
  },
  {
   "cell_type": "code",
   "execution_count": 2,
   "metadata": {
    "pycharm": {
     "name": "#%%\n"
    },
    "scrolled": true
   },
   "outputs": [],
   "source": [
    "from database.bq_connection import execute\n",
    "import pandas as pd"
   ]
  },
  {
   "cell_type": "code",
   "execution_count": 40,
   "metadata": {
    "pycharm": {
     "name": "#%%\n"
    }
   },
   "outputs": [
    {
     "name": "stdout",
     "output_type": "stream",
     "text": [
      "(3888, 90)\n"
     ]
    },
    {
     "data": {
      "text/plain": "      sofifa_id                                         player_url  \\\n0        167575  https://sofifa.com/player/167575/anton-shunin/...   \n1        205211  https://sofifa.com/player/205211/milan-borjan/...   \n2        244700  https://sofifa.com/player/244700/yuriy-dyupin/...   \n3        199904  https://sofifa.com/player/199904/jesse-joronen...   \n4        240225  https://sofifa.com/player/240225/matvey-safono...   \n...         ...                                                ...   \n3883     169588  https://sofifa.com/player/169588/jonny-evans/2...   \n3884     232119  https://sofifa.com/player/232119/caglar-soyunc...   \n3885     222501  https://sofifa.com/player/222501/timothy-casta...   \n3886     202849  https://sofifa.com/player/202849/jannik-vester...   \n3887     215590  https://sofifa.com/player/215590/ayoze-perez-g...   \n\n          short_name              long_name player_positions  overall  \\\n0          A. Shunin           Anton Shunin               GK       76   \n1          M. Borjan           Milan Borjan               GK       76   \n2          Y. Dyupin           Yuriy Dyupin               GK       74   \n3         J. Joronen    Jesse Pekka Joronen               GK       72   \n4         M. Safonov         Matvey Safonov               GK       72   \n...              ...                    ...              ...      ...   \n3883        J. Evans   Jonathan Grant Evans               CB       80   \n3884      Ç. Söyüncü         Çağlar Söyüncü               CB       80   \n3885     T. Castagne       Timothy Castagne           RB, RM       79   \n3886  J. Vestergaard     Jannik Vestergaard               CB       78   \n3887     Ayoze Pérez  Ayoze Pérez Gutiérrez           RW, RM       78   \n\n      potential   value_eur  wage_eur         dob  ...   ldm   cdm   rdm  \\\n0            76         NaN       NaN  1987-01-27  ...  29+2  29+2  29+2   \n1            76         NaN       NaN  1987-10-23  ...  37+2  37+2  37+2   \n2            74         NaN       NaN  1988-03-17  ...  22+2  22+2  22+2   \n3            72         NaN       NaN  1993-03-21  ...  27+2  27+2  27+2   \n4            82         NaN       NaN  1999-02-25  ...  24+2  24+2  24+2   \n...         ...         ...       ...         ...  ...   ...   ...   ...   \n3883         80  10000000.0   95000.0  1988-01-03  ...  76+2  76+2  76+2   \n3884         83  25000000.0   88000.0  1996-05-23  ...  76+2  76+2  76+2   \n3885         82  21500000.0   84000.0  1995-12-05  ...  75+2  75+2  75+2   \n3886         79  13500000.0   83000.0  1992-08-03  ...  74+2  74+2  74+2   \n3887         78  15000000.0   95000.0  1993-07-29  ...  66+2  66+2  66+2   \n\n       rwb    lb   lcb    cb   rcb    rb    gk  \n0     27+2  27+2  28+2  28+2  28+2  27+2  75+1  \n1     31+2  31+2  35+2  35+2  35+2  31+2  75+1  \n2     19+2  18+2  22+2  22+2  22+2  18+2  73+1  \n3     26+2  26+2  27+2  27+2  27+2  26+2  71+1  \n4     19+2  19+2  25+2  25+2  25+2  19+2  71+2  \n...    ...   ...   ...   ...   ...   ...   ...  \n3883  71+2  73+2    80    80    80  73+2  21+2  \n3884  73+2  74+2  80+2  80+2  80+2  74+2  14+2  \n3885  77+2  77+2  73+2  73+2  73+2  77+2  19+2  \n3886  64+2  66+2  78+1  78+1  78+1  66+2  20+2  \n3887  67+2  66+2  63+2  63+2  63+2  66+2  19+2  \n\n[3888 rows x 90 columns]",
      "text/html": "<div>\n<style scoped>\n    .dataframe tbody tr th:only-of-type {\n        vertical-align: middle;\n    }\n\n    .dataframe tbody tr th {\n        vertical-align: top;\n    }\n\n    .dataframe thead th {\n        text-align: right;\n    }\n</style>\n<table border=\"1\" class=\"dataframe\">\n  <thead>\n    <tr style=\"text-align: right;\">\n      <th></th>\n      <th>sofifa_id</th>\n      <th>player_url</th>\n      <th>short_name</th>\n      <th>long_name</th>\n      <th>player_positions</th>\n      <th>overall</th>\n      <th>potential</th>\n      <th>value_eur</th>\n      <th>wage_eur</th>\n      <th>dob</th>\n      <th>...</th>\n      <th>ldm</th>\n      <th>cdm</th>\n      <th>rdm</th>\n      <th>rwb</th>\n      <th>lb</th>\n      <th>lcb</th>\n      <th>cb</th>\n      <th>rcb</th>\n      <th>rb</th>\n      <th>gk</th>\n    </tr>\n  </thead>\n  <tbody>\n    <tr>\n      <th>0</th>\n      <td>167575</td>\n      <td>https://sofifa.com/player/167575/anton-shunin/...</td>\n      <td>A. Shunin</td>\n      <td>Anton Shunin</td>\n      <td>GK</td>\n      <td>76</td>\n      <td>76</td>\n      <td>NaN</td>\n      <td>NaN</td>\n      <td>1987-01-27</td>\n      <td>...</td>\n      <td>29+2</td>\n      <td>29+2</td>\n      <td>29+2</td>\n      <td>27+2</td>\n      <td>27+2</td>\n      <td>28+2</td>\n      <td>28+2</td>\n      <td>28+2</td>\n      <td>27+2</td>\n      <td>75+1</td>\n    </tr>\n    <tr>\n      <th>1</th>\n      <td>205211</td>\n      <td>https://sofifa.com/player/205211/milan-borjan/...</td>\n      <td>M. Borjan</td>\n      <td>Milan Borjan</td>\n      <td>GK</td>\n      <td>76</td>\n      <td>76</td>\n      <td>NaN</td>\n      <td>NaN</td>\n      <td>1987-10-23</td>\n      <td>...</td>\n      <td>37+2</td>\n      <td>37+2</td>\n      <td>37+2</td>\n      <td>31+2</td>\n      <td>31+2</td>\n      <td>35+2</td>\n      <td>35+2</td>\n      <td>35+2</td>\n      <td>31+2</td>\n      <td>75+1</td>\n    </tr>\n    <tr>\n      <th>2</th>\n      <td>244700</td>\n      <td>https://sofifa.com/player/244700/yuriy-dyupin/...</td>\n      <td>Y. Dyupin</td>\n      <td>Yuriy Dyupin</td>\n      <td>GK</td>\n      <td>74</td>\n      <td>74</td>\n      <td>NaN</td>\n      <td>NaN</td>\n      <td>1988-03-17</td>\n      <td>...</td>\n      <td>22+2</td>\n      <td>22+2</td>\n      <td>22+2</td>\n      <td>19+2</td>\n      <td>18+2</td>\n      <td>22+2</td>\n      <td>22+2</td>\n      <td>22+2</td>\n      <td>18+2</td>\n      <td>73+1</td>\n    </tr>\n    <tr>\n      <th>3</th>\n      <td>199904</td>\n      <td>https://sofifa.com/player/199904/jesse-joronen...</td>\n      <td>J. Joronen</td>\n      <td>Jesse Pekka Joronen</td>\n      <td>GK</td>\n      <td>72</td>\n      <td>72</td>\n      <td>NaN</td>\n      <td>NaN</td>\n      <td>1993-03-21</td>\n      <td>...</td>\n      <td>27+2</td>\n      <td>27+2</td>\n      <td>27+2</td>\n      <td>26+2</td>\n      <td>26+2</td>\n      <td>27+2</td>\n      <td>27+2</td>\n      <td>27+2</td>\n      <td>26+2</td>\n      <td>71+1</td>\n    </tr>\n    <tr>\n      <th>4</th>\n      <td>240225</td>\n      <td>https://sofifa.com/player/240225/matvey-safono...</td>\n      <td>M. Safonov</td>\n      <td>Matvey Safonov</td>\n      <td>GK</td>\n      <td>72</td>\n      <td>82</td>\n      <td>NaN</td>\n      <td>NaN</td>\n      <td>1999-02-25</td>\n      <td>...</td>\n      <td>24+2</td>\n      <td>24+2</td>\n      <td>24+2</td>\n      <td>19+2</td>\n      <td>19+2</td>\n      <td>25+2</td>\n      <td>25+2</td>\n      <td>25+2</td>\n      <td>19+2</td>\n      <td>71+2</td>\n    </tr>\n    <tr>\n      <th>...</th>\n      <td>...</td>\n      <td>...</td>\n      <td>...</td>\n      <td>...</td>\n      <td>...</td>\n      <td>...</td>\n      <td>...</td>\n      <td>...</td>\n      <td>...</td>\n      <td>...</td>\n      <td>...</td>\n      <td>...</td>\n      <td>...</td>\n      <td>...</td>\n      <td>...</td>\n      <td>...</td>\n      <td>...</td>\n      <td>...</td>\n      <td>...</td>\n      <td>...</td>\n      <td>...</td>\n    </tr>\n    <tr>\n      <th>3883</th>\n      <td>169588</td>\n      <td>https://sofifa.com/player/169588/jonny-evans/2...</td>\n      <td>J. Evans</td>\n      <td>Jonathan Grant Evans</td>\n      <td>CB</td>\n      <td>80</td>\n      <td>80</td>\n      <td>10000000.0</td>\n      <td>95000.0</td>\n      <td>1988-01-03</td>\n      <td>...</td>\n      <td>76+2</td>\n      <td>76+2</td>\n      <td>76+2</td>\n      <td>71+2</td>\n      <td>73+2</td>\n      <td>80</td>\n      <td>80</td>\n      <td>80</td>\n      <td>73+2</td>\n      <td>21+2</td>\n    </tr>\n    <tr>\n      <th>3884</th>\n      <td>232119</td>\n      <td>https://sofifa.com/player/232119/caglar-soyunc...</td>\n      <td>Ç. Söyüncü</td>\n      <td>Çağlar Söyüncü</td>\n      <td>CB</td>\n      <td>80</td>\n      <td>83</td>\n      <td>25000000.0</td>\n      <td>88000.0</td>\n      <td>1996-05-23</td>\n      <td>...</td>\n      <td>76+2</td>\n      <td>76+2</td>\n      <td>76+2</td>\n      <td>73+2</td>\n      <td>74+2</td>\n      <td>80+2</td>\n      <td>80+2</td>\n      <td>80+2</td>\n      <td>74+2</td>\n      <td>14+2</td>\n    </tr>\n    <tr>\n      <th>3885</th>\n      <td>222501</td>\n      <td>https://sofifa.com/player/222501/timothy-casta...</td>\n      <td>T. Castagne</td>\n      <td>Timothy Castagne</td>\n      <td>RB, RM</td>\n      <td>79</td>\n      <td>82</td>\n      <td>21500000.0</td>\n      <td>84000.0</td>\n      <td>1995-12-05</td>\n      <td>...</td>\n      <td>75+2</td>\n      <td>75+2</td>\n      <td>75+2</td>\n      <td>77+2</td>\n      <td>77+2</td>\n      <td>73+2</td>\n      <td>73+2</td>\n      <td>73+2</td>\n      <td>77+2</td>\n      <td>19+2</td>\n    </tr>\n    <tr>\n      <th>3886</th>\n      <td>202849</td>\n      <td>https://sofifa.com/player/202849/jannik-vester...</td>\n      <td>J. Vestergaard</td>\n      <td>Jannik Vestergaard</td>\n      <td>CB</td>\n      <td>78</td>\n      <td>79</td>\n      <td>13500000.0</td>\n      <td>83000.0</td>\n      <td>1992-08-03</td>\n      <td>...</td>\n      <td>74+2</td>\n      <td>74+2</td>\n      <td>74+2</td>\n      <td>64+2</td>\n      <td>66+2</td>\n      <td>78+1</td>\n      <td>78+1</td>\n      <td>78+1</td>\n      <td>66+2</td>\n      <td>20+2</td>\n    </tr>\n    <tr>\n      <th>3887</th>\n      <td>215590</td>\n      <td>https://sofifa.com/player/215590/ayoze-perez-g...</td>\n      <td>Ayoze Pérez</td>\n      <td>Ayoze Pérez Gutiérrez</td>\n      <td>RW, RM</td>\n      <td>78</td>\n      <td>78</td>\n      <td>15000000.0</td>\n      <td>95000.0</td>\n      <td>1993-07-29</td>\n      <td>...</td>\n      <td>66+2</td>\n      <td>66+2</td>\n      <td>66+2</td>\n      <td>67+2</td>\n      <td>66+2</td>\n      <td>63+2</td>\n      <td>63+2</td>\n      <td>63+2</td>\n      <td>66+2</td>\n      <td>19+2</td>\n    </tr>\n  </tbody>\n</table>\n<p>3888 rows × 90 columns</p>\n</div>"
     },
     "execution_count": 40,
     "metadata": {},
     "output_type": "execute_result"
    }
   ],
   "source": [
    "query = \"\"\"SELECT * FROM `puc-sp.fifa.player`\"\"\"\n",
    "\n",
    "data = execute(query, \"C:\\\\Users\\\\gugat\\\\fifa22-players-analysis\\\\database\\\\filekey.key\")\n",
    "print(data.shape)\n",
    "data"
   ]
  },
  {
   "cell_type": "markdown",
   "metadata": {},
   "source": [
    "Nesse dataset temos apenas `dob` (data de nascimento) dos jogadores, vamos adicionar uma coluna com as idades dos jogadores"
   ]
  },
  {
   "cell_type": "code",
   "execution_count": 35,
   "metadata": {},
   "outputs": [
    {
     "data": {
      "text/plain": "         dob  age\n0 1987-01-27   35\n1 1987-10-23   34\n2 1988-03-17   34\n3 1993-03-21   29\n4 1999-02-25   23",
      "text/html": "<div>\n<style scoped>\n    .dataframe tbody tr th:only-of-type {\n        vertical-align: middle;\n    }\n\n    .dataframe tbody tr th {\n        vertical-align: top;\n    }\n\n    .dataframe thead th {\n        text-align: right;\n    }\n</style>\n<table border=\"1\" class=\"dataframe\">\n  <thead>\n    <tr style=\"text-align: right;\">\n      <th></th>\n      <th>dob</th>\n      <th>age</th>\n    </tr>\n  </thead>\n  <tbody>\n    <tr>\n      <th>0</th>\n      <td>1987-01-27</td>\n      <td>35</td>\n    </tr>\n    <tr>\n      <th>1</th>\n      <td>1987-10-23</td>\n      <td>34</td>\n    </tr>\n    <tr>\n      <th>2</th>\n      <td>1988-03-17</td>\n      <td>34</td>\n    </tr>\n    <tr>\n      <th>3</th>\n      <td>1993-03-21</td>\n      <td>29</td>\n    </tr>\n    <tr>\n      <th>4</th>\n      <td>1999-02-25</td>\n      <td>23</td>\n    </tr>\n  </tbody>\n</table>\n</div>"
     },
     "execution_count": 35,
     "metadata": {},
     "output_type": "execute_result"
    }
   ],
   "source": [
    "from datetime import date, datetime\n",
    "current_date = datetime.today()\n",
    "\n",
    "data.dob = pd.to_datetime(data.dob)\n",
    "\n",
    "def age(dob):\n",
    "    today = date.today()\n",
    "    return today.year - dob.year - ((today.month, today.day) < (dob.month, dob.day))\n",
    "\n",
    "data[\"age\"] = data.dob.apply(age)\n",
    "data[[\"dob\", \"age\"]].head()"
   ]
  },
  {
   "cell_type": "markdown",
   "source": [
    "Outra tratativa a ser feita é transformar cada `player_traits` e cada `player_tags` diferente em uma coluna boleana"
   ],
   "metadata": {
    "collapsed": false,
    "pycharm": {
     "name": "#%% md\n"
    }
   }
  },
  {
   "cell_type": "code",
   "execution_count": 36,
   "outputs": [
    {
     "data": {
      "text/plain": "                              player_traits player_tags player_positions\n0                               Team Player         NaN               GK\n1             Leadership, Comes For Crosses         NaN               GK\n2                                       NaN         NaN               GK\n3      GK Long Throw, Cautious With Crosses         NaN               GK\n4                                       NaN         NaN               GK\n...                                     ...         ...              ...\n19234                                   NaN         NaN               LW\n19235                                   NaN         NaN               RW\n19236                                   NaN         NaN               ST\n19237                                   NaN         NaN               ST\n19238                                   NaN         NaN               CM\n\n[19239 rows x 3 columns]",
      "text/html": "<div>\n<style scoped>\n    .dataframe tbody tr th:only-of-type {\n        vertical-align: middle;\n    }\n\n    .dataframe tbody tr th {\n        vertical-align: top;\n    }\n\n    .dataframe thead th {\n        text-align: right;\n    }\n</style>\n<table border=\"1\" class=\"dataframe\">\n  <thead>\n    <tr style=\"text-align: right;\">\n      <th></th>\n      <th>player_traits</th>\n      <th>player_tags</th>\n      <th>player_positions</th>\n    </tr>\n  </thead>\n  <tbody>\n    <tr>\n      <th>0</th>\n      <td>Team Player</td>\n      <td>NaN</td>\n      <td>GK</td>\n    </tr>\n    <tr>\n      <th>1</th>\n      <td>Leadership, Comes For Crosses</td>\n      <td>NaN</td>\n      <td>GK</td>\n    </tr>\n    <tr>\n      <th>2</th>\n      <td>NaN</td>\n      <td>NaN</td>\n      <td>GK</td>\n    </tr>\n    <tr>\n      <th>3</th>\n      <td>GK Long Throw, Cautious With Crosses</td>\n      <td>NaN</td>\n      <td>GK</td>\n    </tr>\n    <tr>\n      <th>4</th>\n      <td>NaN</td>\n      <td>NaN</td>\n      <td>GK</td>\n    </tr>\n    <tr>\n      <th>...</th>\n      <td>...</td>\n      <td>...</td>\n      <td>...</td>\n    </tr>\n    <tr>\n      <th>19234</th>\n      <td>NaN</td>\n      <td>NaN</td>\n      <td>LW</td>\n    </tr>\n    <tr>\n      <th>19235</th>\n      <td>NaN</td>\n      <td>NaN</td>\n      <td>RW</td>\n    </tr>\n    <tr>\n      <th>19236</th>\n      <td>NaN</td>\n      <td>NaN</td>\n      <td>ST</td>\n    </tr>\n    <tr>\n      <th>19237</th>\n      <td>NaN</td>\n      <td>NaN</td>\n      <td>ST</td>\n    </tr>\n    <tr>\n      <th>19238</th>\n      <td>NaN</td>\n      <td>NaN</td>\n      <td>CM</td>\n    </tr>\n  </tbody>\n</table>\n<p>19239 rows × 3 columns</p>\n</div>"
     },
     "execution_count": 36,
     "metadata": {},
     "output_type": "execute_result"
    }
   ],
   "source": [
    "data[[\"player_traits\", \"player_tags\", \"player_positions\"]]"
   ],
   "metadata": {
    "collapsed": false,
    "pycharm": {
     "name": "#%%\n"
    }
   }
  },
  {
   "cell_type": "code",
   "execution_count": 37,
   "metadata": {
    "pycharm": {
     "name": "#%%\n"
    }
   },
   "outputs": [
    {
     "data": {
      "text/plain": "   sofifa_id                                         player_url  short_name  \\\n0     167575  https://sofifa.com/player/167575/anton-shunin/...   A. Shunin   \n1     205211  https://sofifa.com/player/205211/milan-borjan/...   M. Borjan   \n2     244700  https://sofifa.com/player/244700/yuriy-dyupin/...   Y. Dyupin   \n3     199904  https://sofifa.com/player/199904/jesse-joronen...  J. Joronen   \n4     240225  https://sofifa.com/player/240225/matvey-safono...  M. Safonov   \n\n             long_name  overall  potential  value_eur  wage_eur        dob  \\\n0         Anton Shunin       76         76        NaN       NaN 1987-01-27   \n1         Milan Borjan       76         76        NaN       NaN 1987-10-23   \n2         Yuriy Dyupin       74         74        NaN       NaN 1988-03-17   \n3  Jesse Pekka Joronen       72         72        NaN       NaN 1993-03-21   \n4       Matvey Safonov       72         82        NaN       NaN 1999-02-25   \n\n   weight_kg  ...  GK  LB LM  LW LWB  RB  RM  RW RWB ST  \n0         88  ...   1   0  0   0   0   0   0   0   0  0  \n1         84  ...   1   0  0   0   0   0   0   0   0  0  \n2         84  ...   1   0  0   0   0   0   0   0   0  0  \n3         89  ...   1   0  0   0   0   0   0   0   0  0  \n4         82  ...   1   0  0   0   0   0   0   0   0  0  \n\n[5 rows x 184 columns]",
      "text/html": "<div>\n<style scoped>\n    .dataframe tbody tr th:only-of-type {\n        vertical-align: middle;\n    }\n\n    .dataframe tbody tr th {\n        vertical-align: top;\n    }\n\n    .dataframe thead th {\n        text-align: right;\n    }\n</style>\n<table border=\"1\" class=\"dataframe\">\n  <thead>\n    <tr style=\"text-align: right;\">\n      <th></th>\n      <th>sofifa_id</th>\n      <th>player_url</th>\n      <th>short_name</th>\n      <th>long_name</th>\n      <th>overall</th>\n      <th>potential</th>\n      <th>value_eur</th>\n      <th>wage_eur</th>\n      <th>dob</th>\n      <th>weight_kg</th>\n      <th>...</th>\n      <th>GK</th>\n      <th>LB</th>\n      <th>LM</th>\n      <th>LW</th>\n      <th>LWB</th>\n      <th>RB</th>\n      <th>RM</th>\n      <th>RW</th>\n      <th>RWB</th>\n      <th>ST</th>\n    </tr>\n  </thead>\n  <tbody>\n    <tr>\n      <th>0</th>\n      <td>167575</td>\n      <td>https://sofifa.com/player/167575/anton-shunin/...</td>\n      <td>A. Shunin</td>\n      <td>Anton Shunin</td>\n      <td>76</td>\n      <td>76</td>\n      <td>NaN</td>\n      <td>NaN</td>\n      <td>1987-01-27</td>\n      <td>88</td>\n      <td>...</td>\n      <td>1</td>\n      <td>0</td>\n      <td>0</td>\n      <td>0</td>\n      <td>0</td>\n      <td>0</td>\n      <td>0</td>\n      <td>0</td>\n      <td>0</td>\n      <td>0</td>\n    </tr>\n    <tr>\n      <th>1</th>\n      <td>205211</td>\n      <td>https://sofifa.com/player/205211/milan-borjan/...</td>\n      <td>M. Borjan</td>\n      <td>Milan Borjan</td>\n      <td>76</td>\n      <td>76</td>\n      <td>NaN</td>\n      <td>NaN</td>\n      <td>1987-10-23</td>\n      <td>84</td>\n      <td>...</td>\n      <td>1</td>\n      <td>0</td>\n      <td>0</td>\n      <td>0</td>\n      <td>0</td>\n      <td>0</td>\n      <td>0</td>\n      <td>0</td>\n      <td>0</td>\n      <td>0</td>\n    </tr>\n    <tr>\n      <th>2</th>\n      <td>244700</td>\n      <td>https://sofifa.com/player/244700/yuriy-dyupin/...</td>\n      <td>Y. Dyupin</td>\n      <td>Yuriy Dyupin</td>\n      <td>74</td>\n      <td>74</td>\n      <td>NaN</td>\n      <td>NaN</td>\n      <td>1988-03-17</td>\n      <td>84</td>\n      <td>...</td>\n      <td>1</td>\n      <td>0</td>\n      <td>0</td>\n      <td>0</td>\n      <td>0</td>\n      <td>0</td>\n      <td>0</td>\n      <td>0</td>\n      <td>0</td>\n      <td>0</td>\n    </tr>\n    <tr>\n      <th>3</th>\n      <td>199904</td>\n      <td>https://sofifa.com/player/199904/jesse-joronen...</td>\n      <td>J. Joronen</td>\n      <td>Jesse Pekka Joronen</td>\n      <td>72</td>\n      <td>72</td>\n      <td>NaN</td>\n      <td>NaN</td>\n      <td>1993-03-21</td>\n      <td>89</td>\n      <td>...</td>\n      <td>1</td>\n      <td>0</td>\n      <td>0</td>\n      <td>0</td>\n      <td>0</td>\n      <td>0</td>\n      <td>0</td>\n      <td>0</td>\n      <td>0</td>\n      <td>0</td>\n    </tr>\n    <tr>\n      <th>4</th>\n      <td>240225</td>\n      <td>https://sofifa.com/player/240225/matvey-safono...</td>\n      <td>M. Safonov</td>\n      <td>Matvey Safonov</td>\n      <td>72</td>\n      <td>82</td>\n      <td>NaN</td>\n      <td>NaN</td>\n      <td>1999-02-25</td>\n      <td>82</td>\n      <td>...</td>\n      <td>1</td>\n      <td>0</td>\n      <td>0</td>\n      <td>0</td>\n      <td>0</td>\n      <td>0</td>\n      <td>0</td>\n      <td>0</td>\n      <td>0</td>\n      <td>0</td>\n    </tr>\n  </tbody>\n</table>\n<p>5 rows × 184 columns</p>\n</div>"
     },
     "execution_count": 37,
     "metadata": {},
     "output_type": "execute_result"
    }
   ],
   "source": [
    "player_traits_dummies = data.player_traits.str.get_dummies(sep=',')\n",
    "player_tags_dummies = data.player_tags.str.get_dummies(sep=',')\n",
    "player_positions_dummy = data.player_positions.str.get_dummies(sep=', ')\n",
    "\n",
    "processed_data = pd.concat([data, player_traits_dummies, player_tags_dummies, player_positions_dummy], axis=1)\n",
    "processed_data.drop(columns=[\"player_traits\", \"player_tags\", \"player_positions\"], inplace=True)\n",
    "processed_data.head()"
   ]
  },
  {
   "cell_type": "code",
   "execution_count": 42,
   "outputs": [],
   "source": [
    "# Convertendo o tipo das colunas\n",
    "columns_to_evaluate = \"ls,st,rs,lw,lf,cf,rf,rw,lam,cam,ram,lm,lcm,cm,rcm,rm,lwb,ldm,cdm,rdm,rwb,lb,lcb,cb,rcb,rb,gk\".split(\",\")\n",
    "for column_to_evaluate in columns_to_evaluate:\n",
    "    evaluated_column = data[column_to_evaluate].apply(lambda cell: eval(cell))\n",
    "    data[column_to_evaluate] = evaluated_column"
   ],
   "metadata": {
    "collapsed": false,
    "pycharm": {
     "name": "#%%\n"
    }
   }
  },
  {
   "cell_type": "code",
   "execution_count": 44,
   "outputs": [],
   "source": [
    "processed_data.to_csv(\"processed_data.csv\", index=False)"
   ],
   "metadata": {
    "collapsed": false,
    "pycharm": {
     "name": "#%%\n"
    }
   }
  },
  {
   "cell_type": "code",
   "execution_count": 39,
   "outputs": [
    {
     "data": {
      "text/plain": "(19239, 184)"
     },
     "execution_count": 39,
     "metadata": {},
     "output_type": "execute_result"
    }
   ],
   "source": [
    "processed_data.shape"
   ],
   "metadata": {
    "collapsed": false,
    "pycharm": {
     "name": "#%%\n"
    }
   }
  }
 ],
 "metadata": {
  "kernelspec": {
   "display_name": "Python 3 (ipykernel)",
   "language": "python",
   "name": "python3"
  },
  "language_info": {
   "codemirror_mode": {
    "name": "ipython",
    "version": 3
   },
   "file_extension": ".py",
   "mimetype": "text/x-python",
   "name": "python",
   "nbconvert_exporter": "python",
   "pygments_lexer": "ipython3",
   "version": "3.9.0"
  }
 },
 "nbformat": 4,
 "nbformat_minor": 1
}