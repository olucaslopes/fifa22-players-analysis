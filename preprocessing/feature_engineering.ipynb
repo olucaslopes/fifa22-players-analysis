{
 "cells": [
  {
   "cell_type": "markdown",
   "metadata": {},
   "source": [
    "# Feature engineering\n",
    "Nesse notebook vamos tratar os dados dos jogadores e criar features novas com bases nos dados que temos"
   ]
  },
  {
   "cell_type": "code",
   "execution_count": 2,
   "metadata": {
    "pycharm": {
     "name": "#%%\n"
    },
    "scrolled": true
   },
   "outputs": [],
   "source": [
    "from database.bq_connection import execute\n",
    "import pandas as pd"
   ]
  },
  {
   "cell_type": "code",
   "execution_count": 14,
   "metadata": {
    "pycharm": {
     "name": "#%%\n"
    }
   },
   "outputs": [
    {
     "data": {
      "text/plain": "   sofifa_id                                         player_url  \\\n0     208722  https://sofifa.com/player/208722/sadio-mane/22...   \n1     209331  https://sofifa.com/player/209331/mohamed-salah...   \n2     192985  https://sofifa.com/player/192985/kevin-de-bruy...   \n3     202652  https://sofifa.com/player/202652/raheem-sterli...   \n4      20801  https://sofifa.com/player/20801/c-ronaldo-dos-...   \n\n          short_name                            long_name player_positions  \\\n0            S. Mané                           Sadio Mané               LW   \n1           M. Salah                  Mohamed Salah Ghaly               RW   \n2       K. De Bruyne                      Kevin De Bruyne          CM, CAM   \n3        R. Sterling                      Raheem Sterling           LW, RW   \n4  Cristiano Ronaldo  Cristiano Ronaldo dos Santos Aveiro           ST, LW   \n\n   overall  potential    value_eur  wage_eur         dob  ...   ldm   cdm  \\\n0       89         89  101000000.0  270000.0  1992-04-10  ...  65+3  65+3   \n1       89         89  101000000.0  270000.0  1992-06-15  ...  68+3  68+3   \n2       91         91  125500000.0  350000.0  1991-06-28  ...  80+3  80+3   \n3       88         89  107500000.0  290000.0  1994-12-08  ...  64+3  64+3   \n4       91         91   45000000.0  270000.0  1985-02-05  ...  59+3  59+3   \n\n    rdm   rwb    lb   lcb    cb   rcb    rb    gk  \n0  65+3  68+3  65+3  59+3  59+3  59+3  65+3  19+3  \n1  68+3  71+3  67+3  58+3  58+3  58+3  67+3  22+3  \n2  80+3  79+3  75+3  69+3  69+3  69+3  75+3  21+3  \n3  64+3  69+3  65+3  55+3  55+3  55+3  65+3  21+3  \n4  59+3  63+3  60+3  53+3  53+3  53+3  60+3  20+3  \n\n[5 rows x 90 columns]",
      "text/html": "<div>\n<style scoped>\n    .dataframe tbody tr th:only-of-type {\n        vertical-align: middle;\n    }\n\n    .dataframe tbody tr th {\n        vertical-align: top;\n    }\n\n    .dataframe thead th {\n        text-align: right;\n    }\n</style>\n<table border=\"1\" class=\"dataframe\">\n  <thead>\n    <tr style=\"text-align: right;\">\n      <th></th>\n      <th>sofifa_id</th>\n      <th>player_url</th>\n      <th>short_name</th>\n      <th>long_name</th>\n      <th>player_positions</th>\n      <th>overall</th>\n      <th>potential</th>\n      <th>value_eur</th>\n      <th>wage_eur</th>\n      <th>dob</th>\n      <th>...</th>\n      <th>ldm</th>\n      <th>cdm</th>\n      <th>rdm</th>\n      <th>rwb</th>\n      <th>lb</th>\n      <th>lcb</th>\n      <th>cb</th>\n      <th>rcb</th>\n      <th>rb</th>\n      <th>gk</th>\n    </tr>\n  </thead>\n  <tbody>\n    <tr>\n      <th>0</th>\n      <td>208722</td>\n      <td>https://sofifa.com/player/208722/sadio-mane/22...</td>\n      <td>S. Mané</td>\n      <td>Sadio Mané</td>\n      <td>LW</td>\n      <td>89</td>\n      <td>89</td>\n      <td>101000000.0</td>\n      <td>270000.0</td>\n      <td>1992-04-10</td>\n      <td>...</td>\n      <td>65+3</td>\n      <td>65+3</td>\n      <td>65+3</td>\n      <td>68+3</td>\n      <td>65+3</td>\n      <td>59+3</td>\n      <td>59+3</td>\n      <td>59+3</td>\n      <td>65+3</td>\n      <td>19+3</td>\n    </tr>\n    <tr>\n      <th>1</th>\n      <td>209331</td>\n      <td>https://sofifa.com/player/209331/mohamed-salah...</td>\n      <td>M. Salah</td>\n      <td>Mohamed Salah Ghaly</td>\n      <td>RW</td>\n      <td>89</td>\n      <td>89</td>\n      <td>101000000.0</td>\n      <td>270000.0</td>\n      <td>1992-06-15</td>\n      <td>...</td>\n      <td>68+3</td>\n      <td>68+3</td>\n      <td>68+3</td>\n      <td>71+3</td>\n      <td>67+3</td>\n      <td>58+3</td>\n      <td>58+3</td>\n      <td>58+3</td>\n      <td>67+3</td>\n      <td>22+3</td>\n    </tr>\n    <tr>\n      <th>2</th>\n      <td>192985</td>\n      <td>https://sofifa.com/player/192985/kevin-de-bruy...</td>\n      <td>K. De Bruyne</td>\n      <td>Kevin De Bruyne</td>\n      <td>CM, CAM</td>\n      <td>91</td>\n      <td>91</td>\n      <td>125500000.0</td>\n      <td>350000.0</td>\n      <td>1991-06-28</td>\n      <td>...</td>\n      <td>80+3</td>\n      <td>80+3</td>\n      <td>80+3</td>\n      <td>79+3</td>\n      <td>75+3</td>\n      <td>69+3</td>\n      <td>69+3</td>\n      <td>69+3</td>\n      <td>75+3</td>\n      <td>21+3</td>\n    </tr>\n    <tr>\n      <th>3</th>\n      <td>202652</td>\n      <td>https://sofifa.com/player/202652/raheem-sterli...</td>\n      <td>R. Sterling</td>\n      <td>Raheem Sterling</td>\n      <td>LW, RW</td>\n      <td>88</td>\n      <td>89</td>\n      <td>107500000.0</td>\n      <td>290000.0</td>\n      <td>1994-12-08</td>\n      <td>...</td>\n      <td>64+3</td>\n      <td>64+3</td>\n      <td>64+3</td>\n      <td>69+3</td>\n      <td>65+3</td>\n      <td>55+3</td>\n      <td>55+3</td>\n      <td>55+3</td>\n      <td>65+3</td>\n      <td>21+3</td>\n    </tr>\n    <tr>\n      <th>4</th>\n      <td>20801</td>\n      <td>https://sofifa.com/player/20801/c-ronaldo-dos-...</td>\n      <td>Cristiano Ronaldo</td>\n      <td>Cristiano Ronaldo dos Santos Aveiro</td>\n      <td>ST, LW</td>\n      <td>91</td>\n      <td>91</td>\n      <td>45000000.0</td>\n      <td>270000.0</td>\n      <td>1985-02-05</td>\n      <td>...</td>\n      <td>59+3</td>\n      <td>59+3</td>\n      <td>59+3</td>\n      <td>63+3</td>\n      <td>60+3</td>\n      <td>53+3</td>\n      <td>53+3</td>\n      <td>53+3</td>\n      <td>60+3</td>\n      <td>20+3</td>\n    </tr>\n  </tbody>\n</table>\n<p>5 rows × 90 columns</p>\n</div>"
     },
     "execution_count": 14,
     "metadata": {},
     "output_type": "execute_result"
    }
   ],
   "source": [
    "query = \"\"\"\n",
    "    SELECT\n",
    "        *\n",
    "    FROM\n",
    "        `puc-sp.fifa.player`\n",
    "    WHERE\n",
    "        player_tags IS NOT NULL\n",
    "    LIMIT 1000;\n",
    "\"\"\"\n",
    "\n",
    "data = execute(query, \"C:\\\\Users\\\\gugat\\\\fifa22-players-analysis\\\\database\\\\filekey.key\")\n",
    "data.head()"
   ]
  },
  {
   "cell_type": "markdown",
   "metadata": {},
   "source": [
    "Nesse dataset temos apenas `dob` (data de nascimento) dos jogadores, vamos adicionar uma coluna com as idades dos jogadores"
   ]
  },
  {
   "cell_type": "code",
   "execution_count": 15,
   "metadata": {},
   "outputs": [
    {
     "data": {
      "text/plain": "         dob  age\n0 1992-04-10   30\n1 1992-06-15   29\n2 1991-06-28   30\n3 1994-12-08   27\n4 1985-02-05   37",
      "text/html": "<div>\n<style scoped>\n    .dataframe tbody tr th:only-of-type {\n        vertical-align: middle;\n    }\n\n    .dataframe tbody tr th {\n        vertical-align: top;\n    }\n\n    .dataframe thead th {\n        text-align: right;\n    }\n</style>\n<table border=\"1\" class=\"dataframe\">\n  <thead>\n    <tr style=\"text-align: right;\">\n      <th></th>\n      <th>dob</th>\n      <th>age</th>\n    </tr>\n  </thead>\n  <tbody>\n    <tr>\n      <th>0</th>\n      <td>1992-04-10</td>\n      <td>30</td>\n    </tr>\n    <tr>\n      <th>1</th>\n      <td>1992-06-15</td>\n      <td>29</td>\n    </tr>\n    <tr>\n      <th>2</th>\n      <td>1991-06-28</td>\n      <td>30</td>\n    </tr>\n    <tr>\n      <th>3</th>\n      <td>1994-12-08</td>\n      <td>27</td>\n    </tr>\n    <tr>\n      <th>4</th>\n      <td>1985-02-05</td>\n      <td>37</td>\n    </tr>\n  </tbody>\n</table>\n</div>"
     },
     "execution_count": 15,
     "metadata": {},
     "output_type": "execute_result"
    }
   ],
   "source": [
    "from datetime import date, datetime\n",
    "current_date = datetime.today()\n",
    "\n",
    "data.dob = pd.to_datetime(data.dob)\n",
    "\n",
    "def age(dob):\n",
    "    today = date.today()\n",
    "    return today.year - dob.year - ((today.month, today.day) < (dob.month, dob.day))\n",
    "\n",
    "data[\"age\"] = data.dob.apply(age)\n",
    "data[[\"dob\", \"age\"]].head()"
   ]
  },
  {
   "cell_type": "markdown",
   "source": [
    "Outra tratativa a ser feita é transformar cada `player_traits` e cada `player_tags` diferente em uma coluna boleana"
   ],
   "metadata": {
    "collapsed": false,
    "pycharm": {
     "name": "#%% md\n"
    }
   }
  },
  {
   "cell_type": "code",
   "execution_count": 16,
   "outputs": [
    {
     "data": {
      "text/plain": "                                         player_traits  \\\n0                           Flair, Speed Dribbler (AI)   \n1    Finesse Shot, Long Shot Taker (AI), Speed Drib...   \n2    Injury Prone, Leadership, Early Crosser, Long ...   \n3                           Flair, Speed Dribbler (AI)   \n4    Power Free-Kick, Flair, Long Shot Taker (AI), ...   \n..                                                 ...   \n995  Finesse Shot, Flair, Long Shot Taker (AI), Out...   \n996  Flair, Long Shot Taker (AI), Outside Foot Shot...   \n997  Finesse Shot, Flair, Long Shot Taker (AI), Pla...   \n998                     Flair, Technical Dribbler (AI)   \n999  Leadership, Finesse Shot, Playmaker (AI), Outs...   \n\n                                           player_tags player_positions  \n0    #Speedster, #Dribbler, #Acrobat, #Clinical Fin...               LW  \n1    #Speedster, #Dribbler, #Acrobat, #Clinical Fin...               RW  \n2    #Dribbler, #Playmaker, #Engine, #Distance Shoo...          CM, CAM  \n3                      #Speedster, #Dribbler, #Acrobat           LW, RW  \n4    #Aerial Threat, #Dribbler, #Distance Shooter, ...           ST, LW  \n..                                                 ...              ...  \n995                          #Dribbler, #FK Specialist           LW, CF  \n996      #Dribbler, #Crosser, #FK Specialist, #Acrobat           RW, LW  \n997                                           #Acrobat       ST, LW, RW  \n998                                #Dribbler, #Acrobat           ST, RM  \n999                                           #Poacher           CF, ST  \n\n[1000 rows x 3 columns]",
      "text/html": "<div>\n<style scoped>\n    .dataframe tbody tr th:only-of-type {\n        vertical-align: middle;\n    }\n\n    .dataframe tbody tr th {\n        vertical-align: top;\n    }\n\n    .dataframe thead th {\n        text-align: right;\n    }\n</style>\n<table border=\"1\" class=\"dataframe\">\n  <thead>\n    <tr style=\"text-align: right;\">\n      <th></th>\n      <th>player_traits</th>\n      <th>player_tags</th>\n      <th>player_positions</th>\n    </tr>\n  </thead>\n  <tbody>\n    <tr>\n      <th>0</th>\n      <td>Flair, Speed Dribbler (AI)</td>\n      <td>#Speedster, #Dribbler, #Acrobat, #Clinical Fin...</td>\n      <td>LW</td>\n    </tr>\n    <tr>\n      <th>1</th>\n      <td>Finesse Shot, Long Shot Taker (AI), Speed Drib...</td>\n      <td>#Speedster, #Dribbler, #Acrobat, #Clinical Fin...</td>\n      <td>RW</td>\n    </tr>\n    <tr>\n      <th>2</th>\n      <td>Injury Prone, Leadership, Early Crosser, Long ...</td>\n      <td>#Dribbler, #Playmaker, #Engine, #Distance Shoo...</td>\n      <td>CM, CAM</td>\n    </tr>\n    <tr>\n      <th>3</th>\n      <td>Flair, Speed Dribbler (AI)</td>\n      <td>#Speedster, #Dribbler, #Acrobat</td>\n      <td>LW, RW</td>\n    </tr>\n    <tr>\n      <th>4</th>\n      <td>Power Free-Kick, Flair, Long Shot Taker (AI), ...</td>\n      <td>#Aerial Threat, #Dribbler, #Distance Shooter, ...</td>\n      <td>ST, LW</td>\n    </tr>\n    <tr>\n      <th>...</th>\n      <td>...</td>\n      <td>...</td>\n      <td>...</td>\n    </tr>\n    <tr>\n      <th>995</th>\n      <td>Finesse Shot, Flair, Long Shot Taker (AI), Out...</td>\n      <td>#Dribbler, #FK Specialist</td>\n      <td>LW, CF</td>\n    </tr>\n    <tr>\n      <th>996</th>\n      <td>Flair, Long Shot Taker (AI), Outside Foot Shot...</td>\n      <td>#Dribbler, #Crosser, #FK Specialist, #Acrobat</td>\n      <td>RW, LW</td>\n    </tr>\n    <tr>\n      <th>997</th>\n      <td>Finesse Shot, Flair, Long Shot Taker (AI), Pla...</td>\n      <td>#Acrobat</td>\n      <td>ST, LW, RW</td>\n    </tr>\n    <tr>\n      <th>998</th>\n      <td>Flair, Technical Dribbler (AI)</td>\n      <td>#Dribbler, #Acrobat</td>\n      <td>ST, RM</td>\n    </tr>\n    <tr>\n      <th>999</th>\n      <td>Leadership, Finesse Shot, Playmaker (AI), Outs...</td>\n      <td>#Poacher</td>\n      <td>CF, ST</td>\n    </tr>\n  </tbody>\n</table>\n<p>1000 rows × 3 columns</p>\n</div>"
     },
     "execution_count": 16,
     "metadata": {},
     "output_type": "execute_result"
    }
   ],
   "source": [
    "data[[\"player_traits\", \"player_tags\", \"player_positions\"]]"
   ],
   "metadata": {
    "collapsed": false,
    "pycharm": {
     "name": "#%%\n"
    }
   }
  },
  {
   "cell_type": "code",
   "execution_count": 17,
   "metadata": {
    "pycharm": {
     "name": "#%%\n"
    }
   },
   "outputs": [
    {
     "data": {
      "text/plain": "   sofifa_id                                         player_url  \\\n0     208722  https://sofifa.com/player/208722/sadio-mane/22...   \n1     209331  https://sofifa.com/player/209331/mohamed-salah...   \n2     192985  https://sofifa.com/player/192985/kevin-de-bruy...   \n3     202652  https://sofifa.com/player/202652/raheem-sterli...   \n4      20801  https://sofifa.com/player/20801/c-ronaldo-dos-...   \n\n          short_name                            long_name  overall  potential  \\\n0            S. Mané                           Sadio Mané       89         89   \n1           M. Salah                  Mohamed Salah Ghaly       89         89   \n2       K. De Bruyne                      Kevin De Bruyne       91         91   \n3        R. Sterling                      Raheem Sterling       88         89   \n4  Cristiano Ronaldo  Cristiano Ronaldo dos Santos Aveiro       91         91   \n\n     value_eur  wage_eur        dob  weight_kg  ...  CM  LB LM LW LWB  RB  RM  \\\n0  101000000.0  270000.0 1992-04-10         69  ...   0   0  0  1   0   0   0   \n1  101000000.0  270000.0 1992-06-15         71  ...   0   0  0  0   0   0   0   \n2  125500000.0  350000.0 1991-06-28         70  ...   1   0  0  0   0   0   0   \n3  107500000.0  290000.0 1994-12-08         69  ...   0   0  0  1   0   0   0   \n4   45000000.0  270000.0 1985-02-05         83  ...   0   0  0  1   0   0   0   \n\n   RW RWB ST  \n0   0   0  0  \n1   1   0  0  \n2   0   0  0  \n3   1   0  0  \n4   0   0  1  \n\n[5 rows x 172 columns]",
      "text/html": "<div>\n<style scoped>\n    .dataframe tbody tr th:only-of-type {\n        vertical-align: middle;\n    }\n\n    .dataframe tbody tr th {\n        vertical-align: top;\n    }\n\n    .dataframe thead th {\n        text-align: right;\n    }\n</style>\n<table border=\"1\" class=\"dataframe\">\n  <thead>\n    <tr style=\"text-align: right;\">\n      <th></th>\n      <th>sofifa_id</th>\n      <th>player_url</th>\n      <th>short_name</th>\n      <th>long_name</th>\n      <th>overall</th>\n      <th>potential</th>\n      <th>value_eur</th>\n      <th>wage_eur</th>\n      <th>dob</th>\n      <th>weight_kg</th>\n      <th>...</th>\n      <th>CM</th>\n      <th>LB</th>\n      <th>LM</th>\n      <th>LW</th>\n      <th>LWB</th>\n      <th>RB</th>\n      <th>RM</th>\n      <th>RW</th>\n      <th>RWB</th>\n      <th>ST</th>\n    </tr>\n  </thead>\n  <tbody>\n    <tr>\n      <th>0</th>\n      <td>208722</td>\n      <td>https://sofifa.com/player/208722/sadio-mane/22...</td>\n      <td>S. Mané</td>\n      <td>Sadio Mané</td>\n      <td>89</td>\n      <td>89</td>\n      <td>101000000.0</td>\n      <td>270000.0</td>\n      <td>1992-04-10</td>\n      <td>69</td>\n      <td>...</td>\n      <td>0</td>\n      <td>0</td>\n      <td>0</td>\n      <td>1</td>\n      <td>0</td>\n      <td>0</td>\n      <td>0</td>\n      <td>0</td>\n      <td>0</td>\n      <td>0</td>\n    </tr>\n    <tr>\n      <th>1</th>\n      <td>209331</td>\n      <td>https://sofifa.com/player/209331/mohamed-salah...</td>\n      <td>M. Salah</td>\n      <td>Mohamed Salah Ghaly</td>\n      <td>89</td>\n      <td>89</td>\n      <td>101000000.0</td>\n      <td>270000.0</td>\n      <td>1992-06-15</td>\n      <td>71</td>\n      <td>...</td>\n      <td>0</td>\n      <td>0</td>\n      <td>0</td>\n      <td>0</td>\n      <td>0</td>\n      <td>0</td>\n      <td>0</td>\n      <td>1</td>\n      <td>0</td>\n      <td>0</td>\n    </tr>\n    <tr>\n      <th>2</th>\n      <td>192985</td>\n      <td>https://sofifa.com/player/192985/kevin-de-bruy...</td>\n      <td>K. De Bruyne</td>\n      <td>Kevin De Bruyne</td>\n      <td>91</td>\n      <td>91</td>\n      <td>125500000.0</td>\n      <td>350000.0</td>\n      <td>1991-06-28</td>\n      <td>70</td>\n      <td>...</td>\n      <td>1</td>\n      <td>0</td>\n      <td>0</td>\n      <td>0</td>\n      <td>0</td>\n      <td>0</td>\n      <td>0</td>\n      <td>0</td>\n      <td>0</td>\n      <td>0</td>\n    </tr>\n    <tr>\n      <th>3</th>\n      <td>202652</td>\n      <td>https://sofifa.com/player/202652/raheem-sterli...</td>\n      <td>R. Sterling</td>\n      <td>Raheem Sterling</td>\n      <td>88</td>\n      <td>89</td>\n      <td>107500000.0</td>\n      <td>290000.0</td>\n      <td>1994-12-08</td>\n      <td>69</td>\n      <td>...</td>\n      <td>0</td>\n      <td>0</td>\n      <td>0</td>\n      <td>1</td>\n      <td>0</td>\n      <td>0</td>\n      <td>0</td>\n      <td>1</td>\n      <td>0</td>\n      <td>0</td>\n    </tr>\n    <tr>\n      <th>4</th>\n      <td>20801</td>\n      <td>https://sofifa.com/player/20801/c-ronaldo-dos-...</td>\n      <td>Cristiano Ronaldo</td>\n      <td>Cristiano Ronaldo dos Santos Aveiro</td>\n      <td>91</td>\n      <td>91</td>\n      <td>45000000.0</td>\n      <td>270000.0</td>\n      <td>1985-02-05</td>\n      <td>83</td>\n      <td>...</td>\n      <td>0</td>\n      <td>0</td>\n      <td>0</td>\n      <td>1</td>\n      <td>0</td>\n      <td>0</td>\n      <td>0</td>\n      <td>0</td>\n      <td>0</td>\n      <td>1</td>\n    </tr>\n  </tbody>\n</table>\n<p>5 rows × 172 columns</p>\n</div>"
     },
     "execution_count": 17,
     "metadata": {},
     "output_type": "execute_result"
    }
   ],
   "source": [
    "player_traits_dummies = data.player_traits.str.get_dummies(sep=',')\n",
    "player_tags_dummies = data.player_tags.str.get_dummies(sep=',')\n",
    "player_positions_dummy = data.player_positions.str.get_dummies(sep=', ')\n",
    "\n",
    "processed_data = pd.concat([data, player_traits_dummies, player_tags_dummies, player_positions_dummy], axis=1)\n",
    "processed_data.drop(columns=[\"player_traits\", \"player_tags\", \"player_positions\"], inplace=True)\n",
    "processed_data.head()"
   ]
  },
  {
   "cell_type": "code",
   "execution_count": 15,
   "outputs": [
    {
     "data": {
      "text/plain": "      #Acrobat   #Aerial Threat   #Clinical Finisher   #Complete Defender  \\\n0            1                0                    1                    0   \n1            1                0                    1                    0   \n2            0                0                    0                    0   \n3            1                0                    0                    0   \n4            1                0                    1                    0   \n..         ...              ...                  ...                  ...   \n995          0                0                    0                    0   \n996          1                0                    0                    0   \n997          0                0                    0                    0   \n998          1                0                    0                    0   \n999          0                0                    0                    0   \n\n      #Complete Forward   #Complete Midfielder   #Crosser   #Distance Shooter  \\\n0                     1                      0          0                   0   \n1                     1                      0          0                   0   \n2                     0                      1          1                   1   \n3                     0                      0          0                   0   \n4                     1                      0          1                   1   \n..                  ...                    ...        ...                 ...   \n995                   0                      0          0                   0   \n996                   0                      0          1                   0   \n997                   0                      0          0                   0   \n998                   0                      0          0                   0   \n999                   0                      0          0                   0   \n\n      #Dribbler   #Engine  ...  #FK Specialist  #Playmaker  #Playmaker   \\\n0             1         0  ...               0           0            0   \n1             1         0  ...               0           0            0   \n2             0         1  ...               0           0            0   \n3             1         0  ...               0           0            0   \n4             1         0  ...               0           0            0   \n..          ...       ...  ...             ...         ...          ...   \n995           0         0  ...               0           0            0   \n996           0         0  ...               0           0            0   \n997           0         0  ...               0           0            0   \n998           0         0  ...               0           0            0   \n999           0         0  ...               0           0            0   \n\n     #Poacher  #Speedster  #Strength  #Tackling  #Tackling   #Tactician  \\\n0           0           1          0          0           0           0   \n1           0           1          0          0           0           0   \n2           0           0          0          0           0           0   \n3           0           1          0          0           0           0   \n4           0           0          0          0           0           0   \n..        ...         ...        ...        ...         ...         ...   \n995         0           0          0          0           0           0   \n996         0           0          0          0           0           0   \n997         0           0          0          0           0           0   \n998         0           0          0          0           0           0   \n999         1           0          0          0           0           0   \n\n     #Tactician   \n0              0  \n1              0  \n2              0  \n3              0  \n4              0  \n..           ...  \n995            0  \n996            0  \n997            0  \n998            0  \n999            0  \n\n[1000 rows x 33 columns]",
      "text/html": "<div>\n<style scoped>\n    .dataframe tbody tr th:only-of-type {\n        vertical-align: middle;\n    }\n\n    .dataframe tbody tr th {\n        vertical-align: top;\n    }\n\n    .dataframe thead th {\n        text-align: right;\n    }\n</style>\n<table border=\"1\" class=\"dataframe\">\n  <thead>\n    <tr style=\"text-align: right;\">\n      <th></th>\n      <th>#Acrobat</th>\n      <th>#Aerial Threat</th>\n      <th>#Clinical Finisher</th>\n      <th>#Complete Defender</th>\n      <th>#Complete Forward</th>\n      <th>#Complete Midfielder</th>\n      <th>#Crosser</th>\n      <th>#Distance Shooter</th>\n      <th>#Dribbler</th>\n      <th>#Engine</th>\n      <th>...</th>\n      <th>#FK Specialist</th>\n      <th>#Playmaker</th>\n      <th>#Playmaker</th>\n      <th>#Poacher</th>\n      <th>#Speedster</th>\n      <th>#Strength</th>\n      <th>#Tackling</th>\n      <th>#Tackling</th>\n      <th>#Tactician</th>\n      <th>#Tactician</th>\n    </tr>\n  </thead>\n  <tbody>\n    <tr>\n      <th>0</th>\n      <td>1</td>\n      <td>0</td>\n      <td>1</td>\n      <td>0</td>\n      <td>1</td>\n      <td>0</td>\n      <td>0</td>\n      <td>0</td>\n      <td>1</td>\n      <td>0</td>\n      <td>...</td>\n      <td>0</td>\n      <td>0</td>\n      <td>0</td>\n      <td>0</td>\n      <td>1</td>\n      <td>0</td>\n      <td>0</td>\n      <td>0</td>\n      <td>0</td>\n      <td>0</td>\n    </tr>\n    <tr>\n      <th>1</th>\n      <td>1</td>\n      <td>0</td>\n      <td>1</td>\n      <td>0</td>\n      <td>1</td>\n      <td>0</td>\n      <td>0</td>\n      <td>0</td>\n      <td>1</td>\n      <td>0</td>\n      <td>...</td>\n      <td>0</td>\n      <td>0</td>\n      <td>0</td>\n      <td>0</td>\n      <td>1</td>\n      <td>0</td>\n      <td>0</td>\n      <td>0</td>\n      <td>0</td>\n      <td>0</td>\n    </tr>\n    <tr>\n      <th>2</th>\n      <td>0</td>\n      <td>0</td>\n      <td>0</td>\n      <td>0</td>\n      <td>0</td>\n      <td>1</td>\n      <td>1</td>\n      <td>1</td>\n      <td>0</td>\n      <td>1</td>\n      <td>...</td>\n      <td>0</td>\n      <td>0</td>\n      <td>0</td>\n      <td>0</td>\n      <td>0</td>\n      <td>0</td>\n      <td>0</td>\n      <td>0</td>\n      <td>0</td>\n      <td>0</td>\n    </tr>\n    <tr>\n      <th>3</th>\n      <td>1</td>\n      <td>0</td>\n      <td>0</td>\n      <td>0</td>\n      <td>0</td>\n      <td>0</td>\n      <td>0</td>\n      <td>0</td>\n      <td>1</td>\n      <td>0</td>\n      <td>...</td>\n      <td>0</td>\n      <td>0</td>\n      <td>0</td>\n      <td>0</td>\n      <td>1</td>\n      <td>0</td>\n      <td>0</td>\n      <td>0</td>\n      <td>0</td>\n      <td>0</td>\n    </tr>\n    <tr>\n      <th>4</th>\n      <td>1</td>\n      <td>0</td>\n      <td>1</td>\n      <td>0</td>\n      <td>1</td>\n      <td>0</td>\n      <td>1</td>\n      <td>1</td>\n      <td>1</td>\n      <td>0</td>\n      <td>...</td>\n      <td>0</td>\n      <td>0</td>\n      <td>0</td>\n      <td>0</td>\n      <td>0</td>\n      <td>0</td>\n      <td>0</td>\n      <td>0</td>\n      <td>0</td>\n      <td>0</td>\n    </tr>\n    <tr>\n      <th>...</th>\n      <td>...</td>\n      <td>...</td>\n      <td>...</td>\n      <td>...</td>\n      <td>...</td>\n      <td>...</td>\n      <td>...</td>\n      <td>...</td>\n      <td>...</td>\n      <td>...</td>\n      <td>...</td>\n      <td>...</td>\n      <td>...</td>\n      <td>...</td>\n      <td>...</td>\n      <td>...</td>\n      <td>...</td>\n      <td>...</td>\n      <td>...</td>\n      <td>...</td>\n      <td>...</td>\n    </tr>\n    <tr>\n      <th>995</th>\n      <td>0</td>\n      <td>0</td>\n      <td>0</td>\n      <td>0</td>\n      <td>0</td>\n      <td>0</td>\n      <td>0</td>\n      <td>0</td>\n      <td>0</td>\n      <td>0</td>\n      <td>...</td>\n      <td>0</td>\n      <td>0</td>\n      <td>0</td>\n      <td>0</td>\n      <td>0</td>\n      <td>0</td>\n      <td>0</td>\n      <td>0</td>\n      <td>0</td>\n      <td>0</td>\n    </tr>\n    <tr>\n      <th>996</th>\n      <td>1</td>\n      <td>0</td>\n      <td>0</td>\n      <td>0</td>\n      <td>0</td>\n      <td>0</td>\n      <td>1</td>\n      <td>0</td>\n      <td>0</td>\n      <td>0</td>\n      <td>...</td>\n      <td>0</td>\n      <td>0</td>\n      <td>0</td>\n      <td>0</td>\n      <td>0</td>\n      <td>0</td>\n      <td>0</td>\n      <td>0</td>\n      <td>0</td>\n      <td>0</td>\n    </tr>\n    <tr>\n      <th>997</th>\n      <td>0</td>\n      <td>0</td>\n      <td>0</td>\n      <td>0</td>\n      <td>0</td>\n      <td>0</td>\n      <td>0</td>\n      <td>0</td>\n      <td>0</td>\n      <td>0</td>\n      <td>...</td>\n      <td>0</td>\n      <td>0</td>\n      <td>0</td>\n      <td>0</td>\n      <td>0</td>\n      <td>0</td>\n      <td>0</td>\n      <td>0</td>\n      <td>0</td>\n      <td>0</td>\n    </tr>\n    <tr>\n      <th>998</th>\n      <td>1</td>\n      <td>0</td>\n      <td>0</td>\n      <td>0</td>\n      <td>0</td>\n      <td>0</td>\n      <td>0</td>\n      <td>0</td>\n      <td>0</td>\n      <td>0</td>\n      <td>...</td>\n      <td>0</td>\n      <td>0</td>\n      <td>0</td>\n      <td>0</td>\n      <td>0</td>\n      <td>0</td>\n      <td>0</td>\n      <td>0</td>\n      <td>0</td>\n      <td>0</td>\n    </tr>\n    <tr>\n      <th>999</th>\n      <td>0</td>\n      <td>0</td>\n      <td>0</td>\n      <td>0</td>\n      <td>0</td>\n      <td>0</td>\n      <td>0</td>\n      <td>0</td>\n      <td>0</td>\n      <td>0</td>\n      <td>...</td>\n      <td>0</td>\n      <td>0</td>\n      <td>0</td>\n      <td>1</td>\n      <td>0</td>\n      <td>0</td>\n      <td>0</td>\n      <td>0</td>\n      <td>0</td>\n      <td>0</td>\n    </tr>\n  </tbody>\n</table>\n<p>1000 rows × 33 columns</p>\n</div>"
     },
     "execution_count": 15,
     "metadata": {},
     "output_type": "execute_result"
    }
   ],
   "source": [],
   "metadata": {
    "collapsed": false,
    "pycharm": {
     "name": "#%%\n"
    }
   }
  }
 ],
 "metadata": {
  "kernelspec": {
   "display_name": "Python 3 (ipykernel)",
   "language": "python",
   "name": "python3"
  },
  "language_info": {
   "codemirror_mode": {
    "name": "ipython",
    "version": 3
   },
   "file_extension": ".py",
   "mimetype": "text/x-python",
   "name": "python",
   "nbconvert_exporter": "python",
   "pygments_lexer": "ipython3",
   "version": "3.9.0"
  }
 },
 "nbformat": 4,
 "nbformat_minor": 1
}